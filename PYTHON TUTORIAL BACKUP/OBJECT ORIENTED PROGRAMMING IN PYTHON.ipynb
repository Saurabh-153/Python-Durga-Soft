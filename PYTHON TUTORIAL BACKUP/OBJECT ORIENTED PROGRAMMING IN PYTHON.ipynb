{
 "cells": [
  {
   "cell_type": "markdown",
   "id": "cfa73e53",
   "metadata": {
    "heading_collapsed": true
   },
   "source": [
    "# Introduction"
   ]
  },
  {
   "cell_type": "code",
   "execution_count": 38,
   "id": "a66a5c5b",
   "metadata": {
    "hidden": true
   },
   "outputs": [
    {
     "data": {
      "text/html": [
       "<style>.container { width:75% !important; }</style>"
      ],
      "text/plain": [
       "<IPython.core.display.HTML object>"
      ]
     },
     "metadata": {},
     "output_type": "display_data"
    }
   ],
   "source": [
    "from IPython.display import display, HTML\n",
    "display(HTML(\"<style>.container { width:75% !important; }</style>\"))"
   ]
  },
  {
   "cell_type": "markdown",
   "id": "bebd277c",
   "metadata": {
    "heading_collapsed": true,
    "hidden": true
   },
   "source": [
    "## Class Defination"
   ]
  },
  {
   "cell_type": "markdown",
   "id": "cad5230f",
   "metadata": {
    "hidden": true
   },
   "source": [
    "**What is Class?**<br>\n",
    "\n",
    "⚽ In Python every thing is an object. To create objects we required some Model or Plan or Blue print, which is nothing but class. <br>\n",
    "⚽ We can write a class to represent properties (attributes) and actions (behaviour) of object.<br>\n",
    "⚽ Properties can be represented by variables <br>\n",
    "⚽ Actions can be represented by Methods. <br>\n",
    "\n",
    "Hence class contains both variables and methods.\n",
    "\n",
    "**What is Object?**<br>\n",
    "☕ Pysical existence of a class is nothing but object. We can create any number of objects for a class<br>\n",
    "    Syntax to Create Object: referencevariable = classname()\n",
    "\n",
    "**What is Reference Variable?**<br>\n",
    "☕ The variable which can be used to refer object is called reference variable. By using reference variable, we can access properties and methods of object.<br>"
   ]
  },
  {
   "cell_type": "code",
   "execution_count": 2,
   "id": "ee9c8cb5",
   "metadata": {
    "hidden": true
   },
   "outputs": [
    {
     "name": "stdout",
     "output_type": "stream",
     "text": [
      "This is a student class with required data\n",
      "Help on class student in module __main__:\n",
      "\n",
      "class student(builtins.object)\n",
      " |  This is a student class with required data\n",
      " |  \n",
      " |  Data descriptors defined here:\n",
      " |  \n",
      " |  __dict__\n",
      " |      dictionary for instance variables (if defined)\n",
      " |  \n",
      " |  __weakref__\n",
      " |      list of weak references to the object (if defined)\n",
      "\n"
     ]
    }
   ],
   "source": [
    "class student:\n",
    "    '''This is a student class with required data'''\n",
    "    \n",
    "print(student.__doc__)\n",
    "help(student)"
   ]
  },
  {
   "cell_type": "markdown",
   "id": "bb4566e9",
   "metadata": {
    "heading_collapsed": true
   },
   "source": [
    "# Variable Type"
   ]
  },
  {
   "cell_type": "markdown",
   "id": "096345cf",
   "metadata": {
    "heading_collapsed": true,
    "hidden": true
   },
   "source": [
    "## Instance Variables"
   ]
  },
  {
   "cell_type": "markdown",
   "id": "3de35715",
   "metadata": {
    "hidden": true
   },
   "source": [
    "**Instance Variables (Object Level Variables)<br>**\n",
    "    ☕ If the value of a variable is varied from object to object, then such type of variables are called instance variables<br>\n",
    "    ☕ For every object a separate copy of instance variables will be created.<br>\n",
    "    \n",
    "**Where this is declared ?<br>**\n",
    "    ☕ Inside Constructor by using self variable<br>\n",
    "    ☕ Inside Instance Method by using self variable<br>\n",
    "    ☕ Outside of the class by using object reference variable<br>"
   ]
  },
  {
   "cell_type": "markdown",
   "id": "85e21d4a",
   "metadata": {
    "heading_collapsed": true,
    "hidden": true
   },
   "source": [
    "### Instance Variables - Scenario based example"
   ]
  },
  {
   "cell_type": "code",
   "execution_count": 30,
   "id": "07352cbf",
   "metadata": {
    "hidden": true
   },
   "outputs": [
    {
     "name": "stdout",
     "output_type": "stream",
     "text": [
      "{'eno': 100, 'ename': 'durga', 'esal': 10000}\n",
      "{'eno': 100, 'ename': 'durga', 'esal': 10000}\n",
      "{'eno': 100, 'ename': 'durga', 'esal': 10000, 'age': 40}\n",
      "100\n",
      "10000\n",
      "durga\n"
     ]
    }
   ],
   "source": [
    "# Instance Method - Inside Constructor by using Self Variable\n",
    "'''We can declare instance variables inside a constructor by using self keyword. \n",
    "Once we creates object, automatically these variables will be added to the object'''\n",
    "\n",
    "class employee:\n",
    "    def __init__(self):\n",
    "        self.eno = 100\n",
    "        self.ename = 'durga'\n",
    "        self.esal = 10000       \n",
    "e = employee()\n",
    "print(e.__dict__)\n",
    "\n",
    "# Instance Method - Inside Instance Method by using self variable\n",
    "'''We can also declare instance variables inside instance method by using self variable. \n",
    "If any instance variable declared inside instance method, that instance variable will be added once we call \n",
    "that method.'''\n",
    "\n",
    "class employee: \n",
    "    def __init__(self):\n",
    "        self.eno = 100\n",
    "        self.ename = 'durga'  \n",
    "    def salary(self):\n",
    "        self.esal = 10000       \n",
    "e = employee()\n",
    "e.salary()\n",
    "print(e.__dict__)\n",
    "\n",
    "# Instance Method - Outside of the Class by using Object Reference Variable\n",
    "'''We can also add instance variables outside of a class to a particular object'''\n",
    "\n",
    "class employee:\n",
    "    def __init__(self):\n",
    "        self.eno = 100\n",
    "        self.ename = 'durga'\n",
    "    def salary(self):\n",
    "        self.esal = 10000    \n",
    "e = employee()\n",
    "e.salary()\n",
    "e.age = 40\n",
    "print(e.__dict__)\n",
    "\n",
    "# How to access instance variable ?\n",
    "'''We can access instance variables with in the class by using self variable and outside of the \n",
    "class by using object reference'''\n",
    "\n",
    "class employee:\n",
    "    def __init__(self):\n",
    "        self.eno = 100\n",
    "        self.ename = 'durga'\n",
    "        self.esal = 10000   \n",
    "    def display(self):\n",
    "        print(self.eno)\n",
    "        print(self.esal)   \n",
    "e = employee()\n",
    "e.display()\n",
    "print(e.ename)\n",
    "\n",
    "# How to delete instance variable?\n",
    "'''\n",
    "--> Witin a class: del self.variableName\n",
    "--> Outside the class: del objectreference.variableName\n",
    "\n",
    "--> Instance varaible deleted from one object will not be deleted from other object\n",
    "--> If we change the values of instance variables of one object then those changes won't be \n",
    "reflected to the remaining objects, because for every object we are separate copy of instance variables are available.\n",
    "'''"
   ]
  },
  {
   "cell_type": "markdown",
   "id": "2f3b9f3b",
   "metadata": {
    "heading_collapsed": true,
    "hidden": true
   },
   "source": [
    "## Static Variables"
   ]
  },
  {
   "cell_type": "markdown",
   "id": "40bbc7ca",
   "metadata": {
    "hidden": true
   },
   "source": [
    "\n",
    "**Static Variables (Class Level Variables) <br>**\n",
    "☕ If the value of a variable is not varied from object to object, such type of variables we have to declare with in the class directly but outside of methods. Such types of variables are called Static variables.<br>\n",
    "☕ For total class only one copy of static variable will be created and shared by all objects of that class.<br>\n",
    "☕ We can access static variables either by class name or by object reference. But recommended to use class name."
   ]
  },
  {
   "cell_type": "markdown",
   "id": "9e5abc9e",
   "metadata": {
    "heading_collapsed": true,
    "hidden": true
   },
   "source": [
    "### Static Variable - Scenario based examples 1"
   ]
  },
  {
   "cell_type": "code",
   "execution_count": 43,
   "id": "a94e60fa",
   "metadata": {
    "hidden": true
   },
   "outputs": [
    {
     "name": "stdout",
     "output_type": "stream",
     "text": [
      "e1: 10000 durga\n",
      "e2: 10000 durga\n",
      "e1: 12000 Saurabh\n",
      "e2: 12000 durga\n",
      "{'__module__': '__main__', 'a': 10, '__init__': <function test.__init__ at 0x00000199551B3550>, 'm1': <function test.m1 at 0x00000199551B3700>, 'm2': <classmethod object at 0x0000019954DF3940>, 'm3': <staticmethod object at 0x000001995497FDC0>, '__dict__': <attribute '__dict__' of 'test' objects>, '__weakref__': <attribute '__weakref__' of 'test' objects>, '__doc__': None}\n",
      "{'__module__': '__main__', 'a': 10, '__init__': <function test.__init__ at 0x00000199551B3550>, 'm1': <function test.m1 at 0x00000199551B3700>, 'm2': <classmethod object at 0x0000019954DF3940>, 'm3': <staticmethod object at 0x000001995497FDC0>, '__dict__': <attribute '__dict__' of 'test' objects>, '__weakref__': <attribute '__weakref__' of 'test' objects>, '__doc__': None, 'b': 20}\n",
      "{'__module__': '__main__', 'a': 10, '__init__': <function test.__init__ at 0x00000199551B3550>, 'm1': <function test.m1 at 0x00000199551B3700>, 'm2': <classmethod object at 0x0000019954DF3940>, 'm3': <staticmethod object at 0x000001995497FDC0>, '__dict__': <attribute '__dict__' of 'test' objects>, '__weakref__': <attribute '__weakref__' of 'test' objects>, '__doc__': None, 'b': 20, 'c': 30}\n",
      "{'__module__': '__main__', 'a': 10, '__init__': <function test.__init__ at 0x00000199551B3550>, 'm1': <function test.m1 at 0x00000199551B3700>, 'm2': <classmethod object at 0x0000019954DF3940>, 'm3': <staticmethod object at 0x000001995497FDC0>, '__dict__': <attribute '__dict__' of 'test' objects>, '__weakref__': <attribute '__weakref__' of 'test' objects>, '__doc__': None, 'b': 20, 'c': 30, 'd1': 40, 'd2': 400}\n",
      "{'__module__': '__main__', 'a': 10, '__init__': <function test.__init__ at 0x00000199551B3550>, 'm1': <function test.m1 at 0x00000199551B3700>, 'm2': <classmethod object at 0x0000019954DF3940>, 'm3': <staticmethod object at 0x000001995497FDC0>, '__dict__': <attribute '__dict__' of 'test' objects>, '__weakref__': <attribute '__weakref__' of 'test' objects>, '__doc__': None, 'b': 20, 'c': 30, 'd1': 40, 'd2': 400, 'e': 50}\n",
      "{'__module__': '__main__', 'a': 10, '__init__': <function test.__init__ at 0x00000199551B3550>, 'm1': <function test.m1 at 0x00000199551B3700>, 'm2': <classmethod object at 0x0000019954DF3940>, 'm3': <staticmethod object at 0x000001995497FDC0>, '__dict__': <attribute '__dict__' of 'test' objects>, '__weakref__': <attribute '__weakref__' of 'test' objects>, '__doc__': None, 'b': 20, 'c': 30, 'd1': 40, 'd2': 400, 'e': 50, 'f': 60}\n"
     ]
    }
   ],
   "source": [
    "# Instance Variable vs. Static Variable\n",
    "'''In the case of instance variables for every object a seperate copy will be created, but in the case of static variables for total class only one copy will \n",
    "be created and shared by every object of that class.'''\n",
    "\n",
    "class employee:\n",
    "    esal = 10000\n",
    "    def __init__(self):\n",
    "        self.ename = 'durga'\n",
    "        \n",
    "e1 = employee()\n",
    "e2 = employee()\n",
    "print('e1:', e1.esal, e1.ename)\n",
    "print('e2:', e2.esal, e2.ename)\n",
    "employee.esal = 12000\n",
    "e1.ename = 'Saurabh'\n",
    "print('e1:', e1.esal, e1.ename)\n",
    "print('e2:', e2.esal, e2.ename)\n",
    "print('...................')\n",
    "\n",
    "# Various places to declare static variable\n",
    "'''\n",
    "1) In general we can declare within the class directly but from out side of any method \n",
    "2) Inside constructor by using class name \n",
    "3) Inside instance method by using class name \n",
    "4) Inside classmethod by using either class name or cls variable \n",
    "5) Inside static method by using class name\n",
    "6) Outside of class by using class name'''\n",
    "\n",
    "class test:\n",
    "    a=10\n",
    "    def __init__(self): \n",
    "        test.b=20 # This variable will be created only when constructor is executed. It will only happen if an object is created\n",
    "    def m1(self):\n",
    "        test.c=30\n",
    "    @classmethod    \n",
    "    def m2(cls):\n",
    "        cls.d1=40\n",
    "        test.d2=400\n",
    "    @staticmethod\n",
    "    def m3():\n",
    "        test.e=50\n",
    "print(test.__dict__) # will get all class members including static variable\n",
    "t = test()\n",
    "print(test.__dict__)\n",
    "t.m1()\n",
    "print(test.__dict__)\n",
    "test.m2()\n",
    "print(test.__dict__)\n",
    "test.m3()\n",
    "print(test.__dict__)\n",
    "test.f=60\n",
    "print(test.__dict__)"
   ]
  },
  {
   "cell_type": "markdown",
   "id": "19e80174",
   "metadata": {
    "heading_collapsed": true,
    "hidden": true
   },
   "source": [
    "### Static Variable - Scenario based examples 2"
   ]
  },
  {
   "cell_type": "code",
   "execution_count": 79,
   "id": "87953f06",
   "metadata": {
    "hidden": true
   },
   "outputs": [
    {
     "name": "stdout",
     "output_type": "stream",
     "text": [
      "10\n",
      "20\n",
      "30\n",
      "40\n",
      "50\n",
      "60\n",
      "70\n"
     ]
    }
   ],
   "source": [
    "# Within a class, how static variable value can be changed\n",
    "\n",
    "class test:\n",
    "    a=10\n",
    "    def __init__(self):\n",
    "        test.a=20\n",
    "    def m(self):\n",
    "        test.a=30\n",
    "    @classmethod\n",
    "    def m2(cls):\n",
    "        cls.a=40\n",
    "        #test.a=50\n",
    "    @classmethod\n",
    "    def m3(cls):\n",
    "        test.a=50\n",
    "    @staticmethod\n",
    "    def m4():\n",
    "        test.a=60\n",
    "print(test.a) #step1 - a is 10\n",
    "t=test() \n",
    "print(t.a) #step2 - because of contructor a has changed to 20\n",
    "t.m()\n",
    "print(test.a) #step3 - because of m method, a has changed to 30\n",
    "t.m2()\n",
    "print(t.a) #step4 - now static variable a becomes 40\n",
    "test.m3() #step5 - m3 can be called using class name or even by using object variable\n",
    "print(test.a)\n",
    "test.m4() # step6 - m4 is static method\n",
    "print(test.a)\n",
    "\n",
    "# outside a class how static variable value is changed\n",
    "test.a=70\n",
    "print(test.a)"
   ]
  },
  {
   "cell_type": "code",
   "execution_count": 69,
   "id": "fe481b1f",
   "metadata": {
    "hidden": true
   },
   "outputs": [
    {
     "name": "stdout",
     "output_type": "stream",
     "text": [
      "scenario0:\n",
      "777\n",
      "888\n",
      "999\n",
      "...................\n",
      "scenario1:\n",
      "10\n",
      "888\n",
      "...................\n",
      "scenario2:\n",
      "t1: 10 20\n",
      "t2: 10 20\n",
      "t1: 888 20\n",
      "t2: 10 999\n",
      "...................\n",
      "scenario3:\n",
      "t1: 888 999\n",
      "t2: 888 20\n",
      "...................\n",
      "scenario4:\n",
      "t1: 888 999\n",
      "t2: 888 20\n",
      "...................\n",
      "scenario5:\n",
      "t1: 888 999\n",
      "t2: 10 20\n",
      "...................\n",
      "scenario6:\n",
      "t1: 888 20\n",
      "t2: 888 20\n",
      "888 999\n",
      "...................\n"
     ]
    }
   ],
   "source": [
    "# Where we can modify the Value of Static Variable: \n",
    "'''Anywhere either with in the class or outside of class we can modify by using classname. But inside class method, by using cls variable'''\n",
    "\n",
    "class Test:\n",
    "    a=777 \n",
    "    @classmethod \n",
    "    def m1(cls):\n",
    "        cls.a=888\n",
    "    @staticmethod\n",
    "    def m2(): \n",
    "        Test.a=999\n",
    "print('scenario0:')\n",
    "print(Test.a)\n",
    "Test.m1()\n",
    "print(Test.a)\n",
    "Test.m2()\n",
    "print(Test.a, end='\\n...................\\n')\n",
    "\n",
    "#Can we change the Value of Static Variable by using either self OR Object Reference Variable\n",
    "'''If we change the value of static variable by using either self or object reference variable, then the value of static variable won't be changed, just a new instance \n",
    "variable with that name will be added to that particular object'''\n",
    "\n",
    "class Test: \n",
    "    a=10 \n",
    "    def m1(self):\n",
    "        self.a=888\n",
    "t1=Test()\n",
    "t1.m1()\n",
    "print('scenario1:')\n",
    "print(Test.a) #static variable connected to class value is not changed\n",
    "print(t1.a, end='\\n...................\\n') \n",
    "\n",
    "class Test:\n",
    "    x=10\n",
    "    def __init__(self):\n",
    "        self.y=20\n",
    "t1=Test()\n",
    "t2=Test()\n",
    "print('scenario2:')\n",
    "print('t1:', t1.x,t1.y)\n",
    "print('t2:', t2.x, t2.y)\n",
    "t1.x=888\n",
    "t2.y=999\n",
    "print('t1:', t1.x,t1.y)\n",
    "print('t2:', t2.x, t2.y, end='\\n...................\\n') #static variable is not permanently changed\n",
    "\n",
    "class test:\n",
    "    a=10\n",
    "    def __init__(self):\n",
    "        self.b=20\n",
    "t1=test()\n",
    "t2=test()\n",
    "test.a=888\n",
    "t1.b=999\n",
    "print('scenario3:')\n",
    "print('t1:', t1.a, t1.b) # here static variable is permanently changed\n",
    "print('t2:', t2.a,t2.b, end='\\n...................\\n')\n",
    "\n",
    "class test:\n",
    "    a=10\n",
    "    def __init__(self):\n",
    "        self.b=20\n",
    "t1=test()\n",
    "t2=test()\n",
    "test.a=888\n",
    "t1.b=999\n",
    "print('scenario4:')\n",
    "print('t1:', t1.a, t1.b) # here static variable is permanently changed\n",
    "print('t2:', t2.a,t2.b, end='\\n...................\\n')\n",
    "\n",
    "class test:\n",
    "    a=10\n",
    "    def __init__(self):\n",
    "        self.b=20\n",
    "    def m(self):\n",
    "        self.a=888\n",
    "        self.b=999\n",
    "t1=test()\n",
    "t2=test()\n",
    "t1.m()\n",
    "print('scenario5:')\n",
    "print('t1:', t1.a, t1.b) # here static variable is temporarily changed and just attached to the object variable\n",
    "print('t2:', t2.a,t2.b, end='\\n...................\\n') \n",
    "\n",
    "class test:\n",
    "    a=10\n",
    "    def __init__(self):\n",
    "        self.b=20\n",
    "    @classmethod\n",
    "    def m(cls):\n",
    "        cls.a=888\n",
    "        cls.b=999\n",
    "t1=test()\n",
    "t2=test()\n",
    "t1.m()\n",
    "print('scenario6:')\n",
    "print('t1:', t1.a, t1.b) \n",
    "print('t2:', t2.a,t2.b) \n",
    "print(test.a, test.b, end='\\n...................\\n')"
   ]
  },
  {
   "cell_type": "markdown",
   "id": "08adf547",
   "metadata": {
    "heading_collapsed": true,
    "hidden": true
   },
   "source": [
    "### Static Variable - Scenario based examples 2"
   ]
  },
  {
   "cell_type": "code",
   "execution_count": 104,
   "id": "cfb2186f",
   "metadata": {
    "hidden": true
   },
   "outputs": [
    {
     "name": "stdout",
     "output_type": "stream",
     "text": [
      "scenario0:\n",
      "{'__module__': '__main__', 'a': 10, 'm1': <classmethod object at 0x0000019957137A00>, '__dict__': <attribute '__dict__' of 'test' objects>, '__weakref__': <attribute '__weakref__' of 'test' objects>, '__doc__': None}\n",
      "{'__module__': '__main__', 'm1': <classmethod object at 0x0000019957137A00>, '__dict__': <attribute '__dict__' of 'test' objects>, '__weakref__': <attribute '__weakref__' of 'test' objects>, '__doc__': None}\n",
      "...................\n",
      "scenario1\n",
      "{'__module__': '__main__', 'a': 10, '__init__': <function test.__init__ at 0x00000199580B7E50>, 'm1': <function test.m1 at 0x0000019955879040>, 'm2': <classmethod object at 0x0000019958F3C8E0>, 'm3': <staticmethod object at 0x0000019958F3C4F0>, '__dict__': <attribute '__dict__' of 'test' objects>, '__weakref__': <attribute '__weakref__' of 'test' objects>, '__doc__': None}\n",
      "{'__module__': '__main__', '__init__': <function test.__init__ at 0x00000199580B7E50>, 'm1': <function test.m1 at 0x0000019955879040>, 'm2': <classmethod object at 0x0000019958F3C8E0>, 'm3': <staticmethod object at 0x0000019958F3C4F0>, '__dict__': <attribute '__dict__' of 'test' objects>, '__weakref__': <attribute '__weakref__' of 'test' objects>, '__doc__': None, 'b': 20}\n",
      "{'__module__': '__main__', '__init__': <function test.__init__ at 0x00000199580B7E50>, 'm1': <function test.m1 at 0x0000019955879040>, 'm2': <classmethod object at 0x0000019958F3C8E0>, 'm3': <staticmethod object at 0x0000019958F3C4F0>, '__dict__': <attribute '__dict__' of 'test' objects>, '__weakref__': <attribute '__weakref__' of 'test' objects>, '__doc__': None, 'c': 30}\n",
      "{'__module__': '__main__', '__init__': <function test.__init__ at 0x00000199580B7E50>, 'm1': <function test.m1 at 0x0000019955879040>, 'm2': <classmethod object at 0x0000019958F3C8E0>, 'm3': <staticmethod object at 0x0000019958F3C4F0>, '__dict__': <attribute '__dict__' of 'test' objects>, '__weakref__': <attribute '__weakref__' of 'test' objects>, '__doc__': None, 'd': 40}\n",
      "{'__module__': '__main__', '__init__': <function test.__init__ at 0x00000199580B7E50>, 'm1': <function test.m1 at 0x0000019955879040>, 'm2': <classmethod object at 0x0000019958F3C8E0>, 'm3': <staticmethod object at 0x0000019958F3C4F0>, '__dict__': <attribute '__dict__' of 'test' objects>, '__weakref__': <attribute '__weakref__' of 'test' objects>, '__doc__': None, 'e': 50}\n",
      "{'__module__': '__main__', '__init__': <function test.__init__ at 0x00000199580B7E50>, 'm1': <function test.m1 at 0x0000019955879040>, 'm2': <classmethod object at 0x0000019958F3C8E0>, 'm3': <staticmethod object at 0x0000019958F3C4F0>, '__dict__': <attribute '__dict__' of 'test' objects>, '__weakref__': <attribute '__weakref__' of 'test' objects>, '__doc__': None, 'e': 50, 'f': 60}\n",
      "{'__module__': '__main__', '__init__': <function test.__init__ at 0x00000199580B7E50>, 'm1': <function test.m1 at 0x0000019955879040>, 'm2': <classmethod object at 0x0000019958F3C8E0>, 'm3': <staticmethod object at 0x0000019958F3C4F0>, '__dict__': <attribute '__dict__' of 'test' objects>, '__weakref__': <attribute '__weakref__' of 'test' objects>, '__doc__': None, 'f': 60}\n",
      "{'__module__': '__main__', 'a': 20, '__dict__': <attribute '__dict__' of 'test' objects>, '__weakref__': <attribute '__weakref__' of 'test' objects>, '__doc__': None}\n"
     ]
    },
    {
     "ename": "AttributeError",
     "evalue": "a",
     "output_type": "error",
     "traceback": [
      "\u001b[1;31m---------------------------------------------------------------------------\u001b[0m",
      "\u001b[1;31mAttributeError\u001b[0m                            Traceback (most recent call last)",
      "\u001b[1;32m~\\AppData\\Local\\Temp\\ipykernel_30404\\72005550.py\u001b[0m in \u001b[0;36m<module>\u001b[1;34m\u001b[0m\n\u001b[0;32m     62\u001b[0m \u001b[0mprint\u001b[0m\u001b[1;33m(\u001b[0m\u001b[0mtest\u001b[0m\u001b[1;33m.\u001b[0m\u001b[0m__dict__\u001b[0m\u001b[1;33m)\u001b[0m \u001b[1;31m# this will work\u001b[0m\u001b[1;33m\u001b[0m\u001b[1;33m\u001b[0m\u001b[0m\n\u001b[0;32m     63\u001b[0m \u001b[0mt1\u001b[0m\u001b[1;33m=\u001b[0m\u001b[0mtest\u001b[0m\u001b[1;33m(\u001b[0m\u001b[1;33m)\u001b[0m\u001b[1;33m\u001b[0m\u001b[1;33m\u001b[0m\u001b[0m\n\u001b[1;32m---> 64\u001b[1;33m \u001b[1;32mdel\u001b[0m \u001b[0mt1\u001b[0m\u001b[1;33m.\u001b[0m\u001b[0ma\u001b[0m\u001b[1;33m\u001b[0m\u001b[1;33m\u001b[0m\u001b[0m\n\u001b[0m",
      "\u001b[1;31mAttributeError\u001b[0m: a"
     ]
    }
   ],
   "source": [
    "#How to Delete Static Variables of a Class:\n",
    "'''\n",
    "1) We can delete static variables from anywhere by using the following syntax del classname.variablename\n",
    "2) But inside classmethod we can also use cls variable del cls.variablename\n",
    "'''\n",
    "\n",
    "class test:\n",
    "    a=10\n",
    "    @classmethod\n",
    "    def m1(cls):\n",
    "        del cls.a\n",
    "print('scenario0:')\n",
    "print(test.__dict__)\n",
    "test.m1()\n",
    "print(test.__dict__, end='\\n...................\\n') # a will be removed from class\n",
    "\n",
    "class test:\n",
    "    a=10\n",
    "    def __init__(self):\n",
    "        test.b=20\n",
    "        del test.a\n",
    "    def m1(self):\n",
    "        test.c=30\n",
    "        del test.b\n",
    "    @classmethod\n",
    "    def m2(cls):\n",
    "        cls.d=40\n",
    "        del test.c\n",
    "    @staticmethod\n",
    "    def m3():\n",
    "        test.e=50\n",
    "        del test.d\n",
    "        \n",
    "print('scenario1')\n",
    "print(test.__dict__) #b and c will not be there as we have not yet called them\n",
    "t=test()\n",
    "print(test.__dict__) #a is deleted and b created, c is not yet there\n",
    "t.m1()\n",
    "print(test.__dict__) #b is deleted and c is created\n",
    "t.m2() #or team.m2()\n",
    "print(test.__dict__) #c is deleleted and d is added\n",
    "test.m3()\n",
    "print(test.__dict__) #d is deleted and e is added\n",
    "test.f=60\n",
    "print(test.__dict__) #f is added as static value using outside class\n",
    "del test.e\n",
    "print(test.__dict__) #e is deleted\n",
    "\n",
    "'''\n",
    "⚽ By using object reference variable/self we can read static variables, but we cannot modify or delete. \n",
    "⚽ If we are trying to modify, then a new instance variable will be added to that particular object. \n",
    "⚽ t1.a = 70 \n",
    "⚽ If we are trying to delete then we will get error.\n",
    "\n",
    "We can modify or delete static variables only by using classname or cls variable.\n",
    "'''\n",
    "\n",
    "class test:\n",
    "    a=10\n",
    "\n",
    "test.a = 20\n",
    "print(test.__dict__) # this will work\n",
    "t1=test()\n",
    "del t1.a"
   ]
  },
  {
   "cell_type": "markdown",
   "id": "6f066894",
   "metadata": {
    "heading_collapsed": true,
    "hidden": true
   },
   "source": [
    "## Local variables"
   ]
  },
  {
   "cell_type": "markdown",
   "id": "0437ef91",
   "metadata": {
    "hidden": true
   },
   "source": [
    "  **Local variables (Method Level Variables)**<br>\n",
    "⚽ Sometimes to meet temporary requirements of programmer,we can declare variables inside a method directly,such type of variables are called local variable or temporary variables. <br>\n",
    "⚽ Local variables will be created at the time of method execution and destroyed once method completes. <br>\n",
    "⚽ Local variables of a method cannot be accessed from outside of method.<br>"
   ]
  },
  {
   "cell_type": "code",
   "execution_count": 107,
   "id": "41291112",
   "metadata": {
    "hidden": true
   },
   "outputs": [
    {
     "name": "stdout",
     "output_type": "stream",
     "text": [
      "scenario 0: Happy Path\n",
      "1000\n",
      "2000\n",
      ".................\n",
      "1000\n"
     ]
    },
    {
     "ename": "NameError",
     "evalue": "name 'a' is not defined",
     "output_type": "error",
     "traceback": [
      "\u001b[1;31m---------------------------------------------------------------------------\u001b[0m",
      "\u001b[1;31mNameError\u001b[0m                                 Traceback (most recent call last)",
      "\u001b[1;32m~\\AppData\\Local\\Temp\\ipykernel_30404\\1268984831.py\u001b[0m in \u001b[0;36m<module>\u001b[1;34m\u001b[0m\n\u001b[0;32m     22\u001b[0m \u001b[0mt\u001b[0m\u001b[1;33m=\u001b[0m\u001b[0mtest\u001b[0m\u001b[1;33m(\u001b[0m\u001b[1;33m)\u001b[0m\u001b[1;33m\u001b[0m\u001b[1;33m\u001b[0m\u001b[0m\n\u001b[0;32m     23\u001b[0m \u001b[0mt\u001b[0m\u001b[1;33m.\u001b[0m\u001b[0mm1\u001b[0m\u001b[1;33m(\u001b[0m\u001b[1;33m)\u001b[0m\u001b[1;33m\u001b[0m\u001b[1;33m\u001b[0m\u001b[0m\n\u001b[1;32m---> 24\u001b[1;33m \u001b[0mt\u001b[0m\u001b[1;33m.\u001b[0m\u001b[0mm2\u001b[0m\u001b[1;33m(\u001b[0m\u001b[1;33m)\u001b[0m\u001b[1;33m\u001b[0m\u001b[1;33m\u001b[0m\u001b[0m\n\u001b[0m",
      "\u001b[1;32m~\\AppData\\Local\\Temp\\ipykernel_30404\\1268984831.py\u001b[0m in \u001b[0;36mm2\u001b[1;34m(self)\u001b[0m\n\u001b[0;32m     18\u001b[0m     \u001b[1;32mdef\u001b[0m \u001b[0mm2\u001b[0m\u001b[1;33m(\u001b[0m\u001b[0mself\u001b[0m\u001b[1;33m)\u001b[0m\u001b[1;33m:\u001b[0m\u001b[1;33m\u001b[0m\u001b[1;33m\u001b[0m\u001b[0m\n\u001b[0;32m     19\u001b[0m         \u001b[0mb\u001b[0m\u001b[1;33m=\u001b[0m\u001b[1;36m2000\u001b[0m\u001b[1;33m\u001b[0m\u001b[1;33m\u001b[0m\u001b[0m\n\u001b[1;32m---> 20\u001b[1;33m         \u001b[0mprint\u001b[0m\u001b[1;33m(\u001b[0m\u001b[0ma\u001b[0m\u001b[1;33m)\u001b[0m\u001b[1;33m\u001b[0m\u001b[1;33m\u001b[0m\u001b[0m\n\u001b[0m\u001b[0;32m     21\u001b[0m         \u001b[0mprint\u001b[0m\u001b[1;33m(\u001b[0m\u001b[0mb\u001b[0m\u001b[1;33m)\u001b[0m\u001b[1;33m\u001b[0m\u001b[1;33m\u001b[0m\u001b[0m\n\u001b[0;32m     22\u001b[0m \u001b[0mt\u001b[0m\u001b[1;33m=\u001b[0m\u001b[0mtest\u001b[0m\u001b[1;33m(\u001b[0m\u001b[1;33m)\u001b[0m\u001b[1;33m\u001b[0m\u001b[1;33m\u001b[0m\u001b[0m\n",
      "\u001b[1;31mNameError\u001b[0m: name 'a' is not defined"
     ]
    }
   ],
   "source": [
    "class test:\n",
    "    def m1(self):\n",
    "        a=1000\n",
    "        print(a)\n",
    "    def m2(self):\n",
    "        b=2000\n",
    "        print(b)\n",
    "print('scenario 0: Happy Path')\n",
    "t=test()\n",
    "t.m1()\n",
    "t.m2()\n",
    "print('.................')\n",
    "\n",
    "class test:\n",
    "    def m1(self):\n",
    "        a=1000\n",
    "        print(a)\n",
    "    def m2(self):\n",
    "        b=2000\n",
    "        print(a) #NameError: name 'a' is not defined\n",
    "        print(b)\n",
    "t=test()\n",
    "t.m1()\n",
    "t.m2()"
   ]
  },
  {
   "cell_type": "markdown",
   "id": "c97c6bd5",
   "metadata": {
    "heading_collapsed": true
   },
   "source": [
    "# Methods Type"
   ]
  },
  {
   "cell_type": "markdown",
   "id": "0191003a",
   "metadata": {
    "hidden": true
   },
   "source": [
    "Inside Python class 3 types of methods are allowed<br>\n",
    "1) Instance Methods (at least one instance variable)<br> \n",
    "2) Class Methods (only static variable)<br>\n",
    "3) Static Methods (no instance or static variable)<br>"
   ]
  },
  {
   "cell_type": "markdown",
   "id": "c02069cb",
   "metadata": {
    "heading_collapsed": true,
    "hidden": true
   },
   "source": [
    "## Instance Method \n",
    "\n",
    "⚽ Inside method implementation if we are using instance variables then such type of methods are called instance methods.<br> \n",
    "⚽ Inside instance method declaration, we have to pass self variable. def m1(self): <br>\n",
    "⚽ By using self variable inside method we can able to access instance variables. <br>\n",
    "⚽ Within the class we can call instance method by using self variable and from outside of the class we can call by using object reference."
   ]
  },
  {
   "cell_type": "markdown",
   "id": "2dceeb49",
   "metadata": {
    "heading_collapsed": true,
    "hidden": true
   },
   "source": [
    "### Instance method Example"
   ]
  },
  {
   "cell_type": "code",
   "execution_count": 114,
   "id": "d9a446d5",
   "metadata": {
    "hidden": true
   },
   "outputs": [
    {
     "name": "stdout",
     "output_type": "stream",
     "text": [
      "Enter number of student: 3\n",
      "Enter name: ram\n",
      "Enter marks: 34\n",
      "Hi  ram\n",
      "Your marks are:  34\n",
      "\n",
      "Enter name: shyam\n",
      "Enter marks: 100\n",
      "Hi  shyam\n",
      "Your marks are:  100\n",
      "You got first grade\n",
      "\n",
      "Enter name: durga\n",
      "Enter marks: 60\n",
      "Hi  durga\n",
      "Your marks are:  60\n",
      "You got first grade\n",
      "\n"
     ]
    }
   ],
   "source": [
    "class student:\n",
    "    def __init__(self, name, marks):\n",
    "        self.name=name\n",
    "        self.marks=marks\n",
    "    def display(self):\n",
    "        print('Hi ', self.name)\n",
    "        print('Your marks are: ', self.marks)\n",
    "    def grade(self):\n",
    "        if self.marks>=60:\n",
    "            print('You got first grade')\n",
    "        elif self.marks>=50:\n",
    "            print('You fgot second grade')\n",
    "        elif self.marks>=35:\n",
    "            print('you got third grade')\n",
    "            \n",
    "n=int(input('Enter number of student: '))\n",
    "for i in range(n):\n",
    "    name=input('Enter name: ')\n",
    "    marks=int(input('Enter marks: '))\n",
    "    s=student(name,marks)\n",
    "    s.display()\n",
    "    s.grade()\n",
    "    print()"
   ]
  },
  {
   "cell_type": "markdown",
   "id": "2e5a0868",
   "metadata": {
    "heading_collapsed": true,
    "hidden": true
   },
   "source": [
    "### Setter And Getter methods \n",
    "We can set and get the values of instance variables by using getter and setter methods<br>\n",
    "\n",
    "**Setter/Mutator Method:** <br>\n",
    "Setter methods can be used to set values to the instance variables.<br>\n",
    "*Syntax:*\n",
    "def setVariable(self,variable): <br>\n",
    "&emsp;&emsp;&emsp;&emsp;self.variable=variable<br>\n",
    "\n",
    "**Setter/accessor Method:** <br>\n",
    "Getter methods can be used to get values of the instance variables. .<br>\n",
    "*Syntax:*\n",
    "def getVariable(self): <br>\n",
    "&emsp;&emsp;&emsp;&emsp;return self.variable<br>"
   ]
  },
  {
   "cell_type": "code",
   "execution_count": 117,
   "id": "62b70cdd",
   "metadata": {
    "hidden": true
   },
   "outputs": [
    {
     "name": "stdout",
     "output_type": "stream",
     "text": [
      "Enter number of student: 2\n",
      "Enter name: ra,\n",
      "Enter marks: 23\n",
      "Hi  ra, \n",
      "Your Marks:  23\n",
      "Enter name: shyam\n",
      "Enter marks: 67\n",
      "Hi  shyam \n",
      "Your Marks:  67\n"
     ]
    }
   ],
   "source": [
    "class student:\n",
    "    def setName(self,name):\n",
    "        self.name=name\n",
    "        self.marks=marks\n",
    "    def setMarks(self,marks):\n",
    "        self.marks=marks\n",
    "    def getName(self):\n",
    "        return self.name\n",
    "    def getMarks(self):\n",
    "        return self.marks\n",
    "            \n",
    "n=int(input('Enter number of student: '))\n",
    "for i in range(n):\n",
    "    name=input('Enter name: ')\n",
    "    marks=int(input('Enter marks: '))\n",
    "    s=student()\n",
    "    s.setName(name)\n",
    "    s.setMarks(marks)\n",
    "    print('Hi ', s.getName(), '\\nYour Marks: ', s.getMarks())"
   ]
  },
  {
   "cell_type": "markdown",
   "id": "87e98040",
   "metadata": {
    "heading_collapsed": true,
    "hidden": true
   },
   "source": [
    "## Class Method\n",
    "⚽ Inside method implementation if we are using only class variables (static variables), then such type of methods we should declare as class method. <br>\n",
    "⚽ We can declare class method explicitly by using **@classmethod decorator**. <br>\n",
    "⚽ For class method we should provide **cls** variable at the time of declaration <br>\n",
    "⚽ We can call classmethod by using classname or object reference variable.<br>"
   ]
  },
  {
   "cell_type": "code",
   "execution_count": 124,
   "id": "716ac76d",
   "metadata": {
    "hidden": true
   },
   "outputs": [
    {
     "name": "stdout",
     "output_type": "stream",
     "text": [
      "Cat walks with 4 legs\n",
      "Dog walks with 4 legs\n",
      "\n",
      "The number of object created for test class: 2\n",
      "The number of object created for test class: 5\n"
     ]
    }
   ],
   "source": [
    "class animal:\n",
    "    legs=4\n",
    "    @classmethod\n",
    "    def walk(cls,name):\n",
    "        print('{} walks with {} legs'.format(name,cls.legs))\n",
    "animal.walk('Cat')\n",
    "animal.walk('Dog')\n",
    "print()\n",
    "\n",
    "# Program to track the Number of Objects created for a Class:\n",
    "\n",
    "class test:\n",
    "    count=0\n",
    "    def __init__(self):\n",
    "        test.count=test.count+1\n",
    "    @classmethod\n",
    "    def noofobject(cls):\n",
    "        print('The number of object created for test class:', cls.count)\n",
    "t1 = test()\n",
    "t2 = test()\n",
    "test.noofobject()\n",
    "t3 = test()\n",
    "t4 = test()\n",
    "t5 = test()\n",
    "test.noofobject()"
   ]
  },
  {
   "cell_type": "markdown",
   "id": "b53a2390",
   "metadata": {
    "heading_collapsed": true,
    "hidden": true
   },
   "source": [
    "## Static Method\n",
    "⚽ In general these methods are general utility methods.<br>\n",
    "⚽ Inside these methods we won't use any instance or class variables. <br>\n",
    "⚽ Here we won't provide self or cls arguments at the time of declaration. <br>\n",
    "⚽ We can declare static method explicitly by using **@staticmethod decorator** <br>\n",
    "⚽ We can access static methods by using classname or object reference<br>\n",
    "\n",
    "**Note:**<br>eral we can use only instance and static methods.Inside static method we can access class level variables by using class name. <br>\n",
    "2) Class methods are most rarely used methods in python."
   ]
  },
  {
   "cell_type": "code",
   "execution_count": 126,
   "id": "67d4dccf",
   "metadata": {
    "hidden": true
   },
   "outputs": [
    {
     "name": "stdout",
     "output_type": "stream",
     "text": [
      "Sum: 30\n",
      "Product: 200\n",
      "average: 15.0\n"
     ]
    }
   ],
   "source": [
    "class durga:\n",
    "    @staticmethod\n",
    "    def add(x,y):\n",
    "        print('Sum:', x+y)\n",
    "    @staticmethod\n",
    "    def product(x,y):\n",
    "        print('Product:', x*y)\n",
    "    @staticmethod\n",
    "    def average(x,y):\n",
    "        print('average:', (x+y)/2)\n",
    "durga.add(10,20)\n",
    "durga.product(10,20)\n",
    "durga.average(10,20)"
   ]
  },
  {
   "cell_type": "markdown",
   "id": "43386bb0",
   "metadata": {
    "heading_collapsed": true,
    "hidden": true
   },
   "source": [
    "## Passing Members of One Class to Another Class"
   ]
  },
  {
   "cell_type": "code",
   "execution_count": 136,
   "id": "4af60bb2",
   "metadata": {
    "hidden": true
   },
   "outputs": [
    {
     "name": "stdout",
     "output_type": "stream",
     "text": [
      "state1  100 10000 Durga\n",
      "state2  100 20000 Durga\n",
      "Employee no:  100\n",
      "Employee Name: Durga\n",
      "Employee Salary: 20000\n"
     ]
    }
   ],
   "source": [
    "class employee:\n",
    "    def __init__(self,eno,ename,esal):\n",
    "        self.eno=eno\n",
    "        self.ename=ename\n",
    "        self.esal=esal\n",
    "    def display(self):\n",
    "        print('Employee no: ', self.eno)\n",
    "        print('Employee Name:',self.ename)\n",
    "        print('Employee Salary:',self.esal)\n",
    "\n",
    "class test:\n",
    "    def modify(emp):\n",
    "        print('state1 ',emp.eno,emp.esal,emp.ename)\n",
    "        emp.esal=emp.esal+10000\n",
    "        print('state2 ',emp.eno,emp.esal,emp.ename)\n",
    "        emp.display() #display method as well as it's constructor both is inherited here\n",
    "        \n",
    "e=employee(100,'Durga',10000)\n",
    "test.modify(e)\n",
    "        "
   ]
  },
  {
   "cell_type": "markdown",
   "id": "6c489bb8",
   "metadata": {
    "heading_collapsed": true
   },
   "source": [
    "# Additional Scenario on Class"
   ]
  },
  {
   "cell_type": "markdown",
   "id": "894f5725",
   "metadata": {
    "heading_collapsed": true,
    "hidden": true
   },
   "source": [
    "## Inner Class "
   ]
  },
  {
   "cell_type": "markdown",
   "id": "8744cac7",
   "metadata": {
    "hidden": true
   },
   "source": [
    "⚽ Sometimes we can declare a class inside another class, such type of classes are called inner classes.<br>\n",
    "⚽ Without existing one type of object if there is no chance of existing another type of object, then we should go for inner classes.<br>\n",
    "\n",
    "**Example1:**\n",
    "⚽ Without existing Car object there is no chance of existing Engine object. Hence Engine class should be part of Car class.\n",
    "\n",
    "class car: <br>\n",
    "........<br>\n",
    "&emsp;&emsp;&emsp;&emsp;class engine:<br>\n",
    "&emsp;&emsp;&emsp;&emsp;............<br>\n",
    "\n",
    "**Example2:**\n",
    "⚽ Without existing university object there is no chance of existing Department object.\n",
    "\n",
    "class university: <br>\n",
    "........<br>\n",
    "&emsp;&emsp;&emsp;&emsp;class department:<br>\n",
    "&emsp;&emsp;&emsp;&emsp;............<br>\n",
    "\n",
    "**Example2:**\n",
    "⚽ Without existing Human there is no chance of existin Head. Hence Head should be part of Human.\n",
    "\n",
    "class human: <br>\n",
    "........<br>\n",
    "&emsp;&emsp;&emsp;&emsp;class head:<br>\n",
    "&emsp;&emsp;&emsp;&emsp;............<br>\n",
    "\n",
    "**Note:** Without existing outer class object there is no chance of existing inner class object. Hence inner class object is always associated with outer class object.\n"
   ]
  },
  {
   "cell_type": "code",
   "execution_count": 153,
   "id": "3c6cd95d",
   "metadata": {
    "hidden": true
   },
   "outputs": [
    {
     "name": "stdout",
     "output_type": "stream",
     "text": [
      "\n",
      "Demo Program 1\n",
      "\n",
      "Outer class object creation\n",
      "Inner class object creation\n",
      "Inner class method\n",
      "\n",
      "Both constructor and m1 is called:\n",
      "Inner class object creation\n",
      "Inner class method\n",
      "\n",
      "Another way of calling 1:\n",
      "Outer class object creation\n",
      "Inner class object creation\n",
      "Inner class method\n",
      "\n",
      "Another way of calling 2:\n",
      "Outer class object creation\n",
      "Inner class object creation\n",
      "Inner class method\n",
      "...............\n",
      "\n",
      "Demo Program 2\n",
      "\n",
      "Name: durga\n",
      "Dob=10/5/1947\n",
      ".............\n",
      "\n",
      "Demo Program 3\n",
      "\n",
      "Hello.. Sunny\n",
      "Talking...\n",
      "Thinking...\n"
     ]
    }
   ],
   "source": [
    "class outer:\n",
    "    def __init__(self):\n",
    "        print('Outer class object creation')\n",
    "    class inner:\n",
    "        def __init__(self):\n",
    "            print('Inner class object creation')\n",
    "        def m1(self):\n",
    "            print('Inner class method')\n",
    "print('\\nDemo Program 1\\n')\n",
    "o=outer()\n",
    "i=o.inner()\n",
    "i.m1()\n",
    "print('\\nBoth constructor and m1 is called:')\n",
    "o.inner().m1()\n",
    "print('\\nAnother way of calling 1:')\n",
    "i = outer().inner() \n",
    "i.m1()\n",
    "print('\\nAnother way of calling 2:')\n",
    "outer().inner().m1()\n",
    "print('...............')\n",
    "\n",
    "#----------------------------------------\n",
    "\n",
    "class Person:\n",
    "    def __init__(self):\n",
    "        self.name = 'durga'\n",
    "        self.db = self.Dob()\n",
    "    def display(self):\n",
    "        print('Name:', self.name)\n",
    "    class Dob:\n",
    "        def __init__(self):\n",
    "            self.dd = 10\n",
    "            self.mm = 5\n",
    "            self.yy = 1947\n",
    "        def display(self):\n",
    "            print('Dob={}/{}/{}'.format(self.dd, self.mm, self.yy))\n",
    "print('\\nDemo Program 2\\n')\n",
    "p = Person()\n",
    "p.display()\n",
    "x = p.db\n",
    "x.display()\n",
    "print('.............')\n",
    "\n",
    "#Inside a class we can declare any number of inner classes\n",
    "class Human:\n",
    "    def __init__(self):\n",
    "        self.name = 'Sunny'\n",
    "        self.head = self.Head()\n",
    "        self.brain = self.Brain()\n",
    "    def display(self):\n",
    "        print(\"Hello..\", self.name)\n",
    "    class Head:\n",
    "        def talk(self):\n",
    "            print('Talking...')\n",
    "    class Brain:\n",
    "        def think(self):\n",
    "            print('Thinking...')\n",
    "print('\\nDemo Program 3\\n')\n",
    "h = Human()\n",
    "h.display()\n",
    "h.head.talk()\n",
    "h.brain.think()"
   ]
  },
  {
   "cell_type": "markdown",
   "id": "b79161bf",
   "metadata": {
    "heading_collapsed": true,
    "hidden": true
   },
   "source": [
    "## Accessing member of one class inside another class "
   ]
  },
  {
   "cell_type": "code",
   "execution_count": 33,
   "id": "4ca9975e",
   "metadata": {
    "hidden": true
   },
   "outputs": [
    {
     "name": "stdout",
     "output_type": "stream",
     "text": [
      "Employee No:  101\n",
      "Employee Name:  Ram\n",
      "Employee Salary:  20000\n"
     ]
    }
   ],
   "source": [
    "class employee:\n",
    "    def __init__(self, eno, ename, esal):\n",
    "        self.eno=eno\n",
    "        self.ename=ename\n",
    "        self.esal=esal\n",
    "    def display(self):\n",
    "        print('Employee No: ', self.eno)\n",
    "        print('Employee Name: ', self.ename)\n",
    "        print('Employee Salary: ', self.esal)\n",
    "        \n",
    "class manager:\n",
    "    def updateSal(emp):\n",
    "        emp.esal=emp.esal+10000\n",
    "        emp.display()\n",
    "        \n",
    "emp=employee(101,'Ram',10000)\n",
    "manager.updateSal(emp)"
   ]
  },
  {
   "cell_type": "markdown",
   "id": "3572ffe5",
   "metadata": {
    "heading_collapsed": true,
    "hidden": true
   },
   "source": [
    "## Nested Method \n",
    "⚽ We can declare a method inside another method, such type of method is nested method<br>\n",
    "⚽ Inside a method, if any functionality repeatidely required, that functionality we can define as a seperate method and we can call that method any number of times based on requirment.<br>"
   ]
  },
  {
   "cell_type": "code",
   "execution_count": 35,
   "id": "99f4f8fc",
   "metadata": {
    "hidden": true
   },
   "outputs": [
    {
     "name": "stdout",
     "output_type": "stream",
     "text": [
      "Sum: 30\n",
      "Product: -10\n",
      "Diff: 200\n",
      "Avg: 15.0\n",
      "Sum: 100\n",
      "Product: -40\n",
      "Diff: 2100\n",
      "Avg: 50.0\n"
     ]
    }
   ],
   "source": [
    "class test:\n",
    "    def m1(self):\n",
    "        def cal(a,b):\n",
    "            print('Sum:', a+b)\n",
    "            print('Product:', a-b)\n",
    "            print('Diff:', a*b)\n",
    "            print('Avg:', (a+b)/2)\n",
    "        cal(10,20)\n",
    "        cal(30,70)\n",
    "t=test()\n",
    "t.m1()\n",
    "                  "
   ]
  },
  {
   "cell_type": "markdown",
   "id": "cacddc06",
   "metadata": {
    "heading_collapsed": true
   },
   "source": [
    "# Garbage Collection"
   ]
  },
  {
   "cell_type": "markdown",
   "id": "80594fa8",
   "metadata": {
    "hidden": true
   },
   "source": [
    "⚽ In older languages like C++, programmers are accountable for creating and destroying objects, but negligence in object destruction can lead to memory issues and application crashes.<br>\n",
    "⚽ In Python, the Garbage Collector is a background assistant that helps destroy unnecessary objects, reducing the chances of memory-related issues in Python programs.<br>\n",
    "⚽ If an object does not have any reference variable then that object eligible for Garbage Collection\n"
   ]
  },
  {
   "cell_type": "markdown",
   "id": "b311407b",
   "metadata": {
    "hidden": true
   },
   "source": [
    "## How to enable and disable Garbage Collector in our Program?\n",
    "\n",
    "By default Gargbage collector is enabled, but we can disable based on our requirement. In this context we can use the following functions of gc module.<br>\n",
    "1) gc.isenabled() -> Returns True if GC enabled<br>\n",
    "2) gc.disable() -> To disable GC explicitly<br>\n",
    "3) gc.enable() -> To enable GC explicitly<br>"
   ]
  },
  {
   "cell_type": "code",
   "execution_count": 154,
   "id": "7b322a0d",
   "metadata": {
    "hidden": true
   },
   "outputs": [
    {
     "name": "stdout",
     "output_type": "stream",
     "text": [
      "True\n",
      "False\n",
      "True\n"
     ]
    }
   ],
   "source": [
    "import gc\n",
    "\n",
    "print(gc.isenabled())\n",
    "gc.disable()\n",
    "print(gc.isenabled())\n",
    "gc.enable()\n",
    "print(gc.isenabled())"
   ]
  },
  {
   "cell_type": "code",
   "execution_count": 155,
   "id": "acd64fe5",
   "metadata": {
    "hidden": true
   },
   "outputs": [
    {
     "name": "stdout",
     "output_type": "stream",
     "text": [
      "Deleting object: Alice\n",
      "Deleting object: Bob\n"
     ]
    },
    {
     "data": {
      "text/plain": [
       "9262"
      ]
     },
     "execution_count": 155,
     "metadata": {},
     "output_type": "execute_result"
    }
   ],
   "source": [
    "'''\n",
    "In this example, we define a Person class with a constructor and a destructor __del__. When objects of the Person class are created, their names are assigned.\n",
    "After creating two Person objects, person1 and person2, we set their references to None. This removes the references to the objects, making them eligible for garbage collection.\n",
    "Finally, we explicitly call gc.collect() to trigger the garbage collection process. The garbage collector identifies and collects the objects that are no longer reachable \n",
    "(in this case, the Person objects with names \"Alice\" and \"Bob\"), and the destructor __del__ is called for each of them.\n",
    "'''\n",
    "import gc\n",
    "class Person:\n",
    "    def __init__(self, name):\n",
    "        self.name = name\n",
    "    def __del__(self):\n",
    "        print(f\"Deleting object: {self.name}\")\n",
    "# Create objects\n",
    "person1 = Person(\"Alice\")\n",
    "person2 = Person(\"Bob\")\n",
    "# Set references to None\n",
    "person1 = None\n",
    "person2 = None\n",
    "# Perform garbage collection manually\n",
    "gc.collect()\n",
    "\n",
    "'''\n",
    "Setting references to None is a way to remove the reference to an object, making it eligible for garbage collection.\n",
    "In Python, objects are stored in memory, and variables or references hold the memory addresses of those objects. \n",
    "When a variable or reference is set to None, it means that it no longer points to any object. \n",
    "As a result, the object it was previously referencing becomes unreferenced or unreachable.\n",
    "\n",
    "By setting references to None, you actively release your hold on an object, indicating that you no longer need it. \n",
    "This allows the garbage collector to identify and collect those objects during its cleanup process, ensuring efficient memory management and resource \n",
    "utilization in your Python program.\n",
    "'''"
   ]
  },
  {
   "cell_type": "markdown",
   "id": "6c4b1448",
   "metadata": {
    "heading_collapsed": true
   },
   "source": [
    "# Constructor"
   ]
  },
  {
   "cell_type": "markdown",
   "id": "a81c9570",
   "metadata": {
    "hidden": true
   },
   "source": [
    "**What is self variable?**\n",
    "\n",
    "☕ class test:\n",
    "        def __int__(self):\n",
    "        pass\n",
    "    \n",
    "    t = test() \n",
    "    \n",
    "☕ This is t is a varaible pointing to test object. This t cannot be used within the class as object is declared outside the calss. Now to use the t within the class we need a reference variable and that reference is self.<br>\n",
    "☕ Hence, if we want to use the test object.<br>\n",
    "☕ Within the class, we have to use self.<br>\n",
    "☕ Outside of the class, we have to use t.<br>\n",
    "\n",
    "**What is the proof?** <br>\n",
    "See below. We will try to find address using both self and t."
   ]
  },
  {
   "cell_type": "code",
   "execution_count": 19,
   "id": "452f7d41",
   "metadata": {
    "hidden": true
   },
   "outputs": [
    {
     "name": "stdout",
     "output_type": "stream",
     "text": [
      "aAdress of object pointed by self: 1758066704096\n",
      "aAdress of object pointed by t: 1758066704096\n"
     ]
    }
   ],
   "source": [
    "class test:\n",
    "    def __init__(self):\n",
    "        print('aAdress of object pointed by self:', id(self))\n",
    "        \n",
    "t = test()\n",
    "print('aAdress of object pointed by t:', id(t))"
   ]
  },
  {
   "cell_type": "code",
   "execution_count": 16,
   "id": "b7f3b176",
   "metadata": {
    "hidden": true
   },
   "outputs": [],
   "source": [
    "class Student: \n",
    "'''\n",
    "self is the default variable which is always pointing to current object\n",
    "By using self we can access instance variables and instance methods of object\n",
    "\n",
    "1) self should be first parameter inside constructor def __init__(self): \n",
    "2) self should be first parameter inside instance methods def talk(self):\n",
    "'''\n",
    "    def __init__(self, name, rollno, marks): \n",
    "        self.name=name \n",
    "        self.rollno=rollno \n",
    "        self.marks=marks\n",
    "        \n",
    "    def talk(self):\n",
    "        print(\"Hello My Name is:\",self.name)\n",
    "        print(\"My Rollno is:\",self.rollno)\n",
    "        print(\"My Marks are:\",self.marks)"
   ]
  },
  {
   "cell_type": "code",
   "execution_count": 18,
   "id": "7bfa114d",
   "metadata": {
    "hidden": true
   },
   "outputs": [
    {
     "name": "stdout",
     "output_type": "stream",
     "text": [
      "Hello My Name is: Ram\n",
      "My Rollno is: 101\n",
      "My Marks are: 80\n"
     ]
    }
   ],
   "source": [
    "s1 = Student(\"Ram\",101, 80)\n",
    "s1.talk()"
   ]
  },
  {
   "cell_type": "markdown",
   "id": "7e1eb4cb",
   "metadata": {
    "hidden": true
   },
   "source": [
    "**What is constructor?**<br>\n",
    "☕ Constructor is a special method in python. <br>\n",
    "☕ The name of the constructor should be __init__(self) <br>\n",
    "☕ Constructor will be executed automatically at the time of object creation. <br>\n",
    "☕ The main purpose of constructor is to declare and initialize instance variables. \n",
    "☕ Per object constructor will be exeucted only once. <br>\n",
    "☕ Constructor can take atleast one argument(atleast self) <br>\n",
    "☕ Constructor is optional and if we are not providing any constructor then python will provide default constructor.<br>"
   ]
  },
  {
   "cell_type": "markdown",
   "id": "dc5bda9e",
   "metadata": {
    "hidden": true
   },
   "source": [
    "**Differnce between Methods and Constructors?**\n",
    "\n",
    "|Method |Constructor |\n",
    "|-------|------------|\n",
    "|Name of method can be any name |Constructor name should be always __init__ |\n",
    "|Method will be executed if we call that method |Constructor will be executed automatically at the time of object creation. |\n",
    "|Per object, method can be called any number of times |Per object, Constructor will be executed only once |\n",
    "|Inside method we can write business logic |Inside Constructor we have to declare and initialize instance variables |"
   ]
  },
  {
   "cell_type": "code",
   "execution_count": 157,
   "id": "a17f200c",
   "metadata": {
    "hidden": true
   },
   "outputs": [
    {
     "name": "stdout",
     "output_type": "stream",
     "text": [
      "Constructor execution...\n",
      "Constructor execution...\n",
      "Constructor execution...\n",
      "Method execution...\n"
     ]
    }
   ],
   "source": [
    "# Program to demonistrate Constructor will execute only once per Object\n",
    "class Test:\n",
    "    def __init__(self):\n",
    "        print(\"Constructor execution...\")\n",
    "    def m1(self):\n",
    "        print(\"Method execution...\")\n",
    "t1 = Test()\n",
    "t2 = Test()\n",
    "t3 = Test()\n",
    "t1.m1() #here constructor is not executed again"
   ]
  },
  {
   "cell_type": "markdown",
   "id": "bf85ecef",
   "metadata": {
    "heading_collapsed": true
   },
   "source": [
    "# Destructors"
   ]
  },
  {
   "cell_type": "markdown",
   "id": "93cfc4fd",
   "metadata": {
    "hidden": true
   },
   "source": [
    "⚽ Destructor is a special method and the name should be **____del ____** <br>\n",
    "⚽ Just before destroying an object Garbage Collector always calls destructor to perform clean up activities (Resource deallocation activities like close database connection etc). <br>\n",
    "⚽ Once destructor execution completed then Garbage Collector automatically destroys that object.<br>\n",
    "\n",
    "**Note:** The job of destructor is not to destroy object and it is just to perform clean up activities."
   ]
  },
  {
   "cell_type": "code",
   "execution_count": 161,
   "id": "67bc0ea4",
   "metadata": {
    "hidden": true
   },
   "outputs": [
    {
     "name": "stdout",
     "output_type": "stream",
     "text": [
      "Object Initialization...\n",
      "Fulfilling Last Wish and performing clean up activities...\n",
      "End of application\n"
     ]
    }
   ],
   "source": [
    "import time\n",
    "class Test:\n",
    "    def __init__(self):\n",
    "        print(\"Object Initialization...\") \n",
    "    def __del__(self):\n",
    "        print(\"Fulfilling Last Wish and performing clean up activities...\")\n",
    "t1 = Test()\n",
    "t1 = None\n",
    "time.sleep(5)\n",
    "print(\"End of application\")"
   ]
  },
  {
   "cell_type": "markdown",
   "id": "138af8cd",
   "metadata": {
    "heading_collapsed": true,
    "hidden": true
   },
   "source": [
    "## Examples"
   ]
  },
  {
   "cell_type": "code",
   "execution_count": 162,
   "id": "d32f3b6e",
   "metadata": {
    "hidden": true
   },
   "outputs": [
    {
     "name": "stdout",
     "output_type": "stream",
     "text": [
      "Object Initialization...\n"
     ]
    }
   ],
   "source": [
    "class MyClass:\n",
    "    def __init__(self):\n",
    "        print(\"Object Initialization...\")\n",
    "\n",
    "    def __del__(self):\n",
    "        print(\"Destructor called. Cleaning up...\")\n",
    "\n",
    "# Create an instance of MyClass\n",
    "obj = MyClass()\n",
    "\n",
    "# The destructor will be automatically called when the object is no longer referenced or when the program ends\n",
    "'''\n",
    "In the example above, the __del__() method is defined within the MyClass class. It will be automatically called when the object obj is no longer referenced \n",
    "or when the program terminates. The destructor can be used to perform cleanup activities or release resources before the object is destroyed.\n",
    "It's important to note that the exact timing of when the destructor is called is determined by the garbage collector and is not guaranteed to \n",
    "happen immediately after the object goes out of scope or is set to None. The garbage collector's behavior can vary depending on the Python \n",
    "implementation and other factors.\n",
    "'''"
   ]
  },
  {
   "cell_type": "code",
   "execution_count": 169,
   "id": "3b2967d2",
   "metadata": {
    "hidden": true
   },
   "outputs": [
    {
     "name": "stdout",
     "output_type": "stream",
     "text": [
      "Constructor Execution...\n",
      "Object not yet destroyed after deleting t1\n",
      "Object not yet destroyed even after deleting t2\n",
      "I am trying to delete the last reference variable...\n",
      "Destructor Execution...\n",
      "\n",
      "Constructor Execution...\n",
      "Constructor Execution...\n",
      "Constructor Execution...\n",
      "Destructor Execution...\n",
      "Destructor Execution...\n",
      "Destructor Execution...\n",
      "End of application\n"
     ]
    }
   ],
   "source": [
    "# Note: If the object does not contain any reference variable then only it is eligible fo GC. ie if the reference count is zero then only object eligible for GC.\n",
    "\n",
    "import time\n",
    "class Test:\n",
    "    def __init__(self):\n",
    "        print(\"Constructor Execution...\")\n",
    "    def __del__(self):\n",
    "        print(\"Destructor Execution...\")\n",
    "t1 = Test()\n",
    "t2 = t1\n",
    "t3 = t2\n",
    "del t1\n",
    "time.sleep(5)\n",
    "print(\"Object not yet destroyed after deleting t1\")\n",
    "del t2\n",
    "time.sleep(5)\n",
    "print(\"Object not yet destroyed even after deleting t2\")\n",
    "print(\"I am trying to delete the last reference variable...\")\n",
    "del t3\n",
    "print()\n",
    "#-------------------------------------------------------------------\n",
    "\n",
    "import time\n",
    "class Test:\n",
    "    def __init__(self):\n",
    "        print(\"Constructor Execution...\")\n",
    "    def __del__(self):\n",
    "        print(\"Destructor Execution...\")\n",
    "test_list = [Test(), Test(), Test()] #3 objects are created and saved in a list hece their constroctor will be executed first as soon as it is created\n",
    "del test_list # as soon as the entire list is deleted, destroctors are called\n",
    "time.sleep(5)\n",
    "print(\"End of application\")\n"
   ]
  },
  {
   "cell_type": "markdown",
   "id": "e4bdb847",
   "metadata": {
    "heading_collapsed": true,
    "hidden": true
   },
   "source": [
    "## How to find the Number of References of an Object\n",
    "\n",
    "sys module contains getrefcount() function for this purpose. **sys.getrefcount (objectreference)**<br>\n",
    "**Note:** For every object, Python internally maintains one default reference variable self."
   ]
  },
  {
   "cell_type": "code",
   "execution_count": 170,
   "id": "d00a893d",
   "metadata": {
    "hidden": true
   },
   "outputs": [
    {
     "name": "stdout",
     "output_type": "stream",
     "text": [
      "5\n"
     ]
    }
   ],
   "source": [
    "import sys\n",
    "class Test:\n",
    "    pass\n",
    "t1 = Test()\n",
    "t2 = t1\n",
    "t3 = t1\n",
    "t4 = t1\n",
    "print(sys.getrefcount(t1))\n"
   ]
  },
  {
   "cell_type": "markdown",
   "id": "5369c2ac",
   "metadata": {
    "heading_collapsed": true,
    "hidden": true
   },
   "source": [
    "## Difference b/w del t1 and t1=None"
   ]
  },
  {
   "cell_type": "markdown",
   "id": "f3a396c3",
   "metadata": {
    "hidden": true
   },
   "source": [
    "**t1 = None**<br>\n",
    "\n",
    "t1 now onwards pointing to None object. Just it is reassigning the reference variable. The Test object eligible for GC. We can use t1 (but its values is None)<br>\n",
    "If we want reference variable but not object then we have to use this approach.<br>\n",
    "\n",
    "**del t1**<br>\n",
    "t1 deleted and corrosponding object eligible for GC. We cannot use t1<br>\n",
    "If we don't want object and corrosponding reference variable then we have to use this approach<br>"
   ]
  },
  {
   "cell_type": "code",
   "execution_count": 36,
   "id": "febf7575",
   "metadata": {
    "hidden": true
   },
   "outputs": [
    {
     "name": "stdout",
     "output_type": "stream",
     "text": [
      "Constructor\n",
      "Destructor\n",
      "End of application\n",
      "None\n"
     ]
    }
   ],
   "source": [
    "class test:\n",
    "    def __init__(self):\n",
    "        print('Constructor')\n",
    "    def __del__(self):\n",
    "        print('Destructor')\n",
    "t=test()\n",
    "t=None\n",
    "print('End of application')\n",
    "print(t)"
   ]
  },
  {
   "cell_type": "code",
   "execution_count": 37,
   "id": "f1f9df95",
   "metadata": {
    "hidden": true
   },
   "outputs": [
    {
     "name": "stdout",
     "output_type": "stream",
     "text": [
      "Constructor\n",
      "Destructor\n",
      "End of application\n"
     ]
    },
    {
     "ename": "NameError",
     "evalue": "name 't' is not defined",
     "output_type": "error",
     "traceback": [
      "\u001b[1;31m---------------------------------------------------------------------------\u001b[0m",
      "\u001b[1;31mNameError\u001b[0m                                 Traceback (most recent call last)",
      "\u001b[1;32m~\\AppData\\Local\\Temp\\ipykernel_35628\\3793188546.py\u001b[0m in \u001b[0;36m<module>\u001b[1;34m\u001b[0m\n\u001b[0;32m      7\u001b[0m \u001b[1;32mdel\u001b[0m \u001b[0mt\u001b[0m\u001b[1;33m\u001b[0m\u001b[1;33m\u001b[0m\u001b[0m\n\u001b[0;32m      8\u001b[0m \u001b[0mprint\u001b[0m\u001b[1;33m(\u001b[0m\u001b[1;34m'End of application'\u001b[0m\u001b[1;33m)\u001b[0m\u001b[1;33m\u001b[0m\u001b[1;33m\u001b[0m\u001b[0m\n\u001b[1;32m----> 9\u001b[1;33m \u001b[0mprint\u001b[0m\u001b[1;33m(\u001b[0m\u001b[0mt\u001b[0m\u001b[1;33m)\u001b[0m\u001b[1;33m\u001b[0m\u001b[1;33m\u001b[0m\u001b[0m\n\u001b[0m",
      "\u001b[1;31mNameError\u001b[0m: name 't' is not defined"
     ]
    }
   ],
   "source": [
    "# the object is deleted here\n",
    "class test:\n",
    "    def __init__(self):\n",
    "        print('Constructor')\n",
    "    def __del__(self):\n",
    "        print('Destructor')\n",
    "t=test()\n",
    "del t\n",
    "print('End of application')\n",
    "print(t)"
   ]
  },
  {
   "cell_type": "markdown",
   "id": "82f1737f",
   "metadata": {
    "heading_collapsed": true
   },
   "source": [
    "# Using Members of One Class inside Another Class"
   ]
  },
  {
   "cell_type": "markdown",
   "id": "891fd6b0",
   "metadata": {
    "hidden": true
   },
   "source": [
    "We can use members of one class inside another class by using the following ways<br>\n",
    "1) By Composition (Has-A Relationship) <br>\n",
    "2) By Inheritance (IS-A Relationship)<br>"
   ]
  },
  {
   "cell_type": "markdown",
   "id": "a880bed2",
   "metadata": {
    "heading_collapsed": true,
    "hidden": true
   },
   "source": [
    "## By Composition (Has-A Relationship)\n",
    "\n",
    "⚽ Composition, also known as \"Has-A\" relationship, refers to the ability to access the members of one class inside another class by using the class name or by creating an object. <br>\n",
    "⚽ The main advantage of Has-A Relationship is Code Reusability. <br>\n",
    "⚽ The idea is to build a complete functionality using other smaller functionality"
   ]
  },
  {
   "cell_type": "code",
   "execution_count": 39,
   "id": "acd78ae4",
   "metadata": {
    "hidden": true
   },
   "outputs": [
    {
     "name": "stdout",
     "output_type": "stream",
     "text": [
      "Car using Engine Class Functionality\n",
      "10\n",
      "20\n",
      "Engine Specific Functionality\n"
     ]
    }
   ],
   "source": [
    "# Example - Defining a engine functionality & then calling it in Car \n",
    "\n",
    "class Engine:\n",
    "    a = 10\n",
    "    def __init__(self):\n",
    "        self.b = 20\n",
    "    def m1(self):\n",
    "        print('Engine Specific Functionality')\n",
    "class Car:\n",
    "    def __init__(self):\n",
    "        self.engine = Engine()\n",
    "    def m2(self):\n",
    "        print('Car using Engine Class Functionality')\n",
    "        print(self.engine.a)\n",
    "        print(self.engine.b)\n",
    "        self.engine.m1()\n",
    "c = Car()\n",
    "c.m2()\n"
   ]
  },
  {
   "cell_type": "code",
   "execution_count": 47,
   "id": "ba461498",
   "metadata": {
    "hidden": true
   },
   "outputs": [
    {
     "name": "stdout",
     "output_type": "stream",
     "text": [
      "This is a class method\n",
      "This is a static method\n"
     ]
    }
   ],
   "source": [
    "# both class and static method can be called\n",
    "class Engine:\n",
    "    a = 10\n",
    "    def __init__(self):\n",
    "        self.b = 20\n",
    "    def m1(self):\n",
    "        print('Engine Specific Functionality')\n",
    "    @classmethod\n",
    "    def m2(cls):\n",
    "        print('This is a class method')\n",
    "    @staticmethod\n",
    "    def m3():\n",
    "        print('This is a static method')\n",
    "class Car:\n",
    "    def __init__(self):\n",
    "        self.engine = Engine()\n",
    "    def m(self):\n",
    "        self.engine.m2()\n",
    "        self.engine.m3()\n",
    "c = Car()\n",
    "c.m()\n"
   ]
  },
  {
   "cell_type": "code",
   "execution_count": 40,
   "id": "4be23357",
   "metadata": {
    "hidden": true
   },
   "outputs": [
    {
     "name": "stdout",
     "output_type": "stream",
     "text": [
      "Employee Name: Durga\n",
      "Employee Number: 10000\n",
      "Employee Car Info:\n",
      "Car Name: Innova, Model: 2.5V, and Color: Grey\n"
     ]
    }
   ],
   "source": [
    "#Example - In the below program Employee class Has-A Car reference and hence Employee class can access all members of Car class.\n",
    "class Car:\n",
    "    def __init__(self, name, model, color):\n",
    "        self.name = name\n",
    "        self.model = model\n",
    "        self.color = color\n",
    "    def getinfo(self):\n",
    "        print(\"Car Name: {}, Model: {}, and Color: {}\".format(self.name, self.model, self.color))\n",
    "\n",
    "class Employee:\n",
    "    def __init__(self, ename, eno, car):\n",
    "        self.ename = ename\n",
    "        self.eno = eno\n",
    "        self.car = car\n",
    "    def empinfo(self):\n",
    "        print(\"Employee Name:\", self.ename)\n",
    "        print(\"Employee Number:\", self.eno)\n",
    "        print(\"Employee Car Info:\")\n",
    "        self.car.getinfo()\n",
    "\n",
    "c = Car(\"Innova\", \"2.5V\", \"Grey\")\n",
    "e = Employee('Durga', 10000, c)\n",
    "e.empinfo()\n"
   ]
  },
  {
   "cell_type": "code",
   "execution_count": 41,
   "id": "feb0b414",
   "metadata": {
    "hidden": true
   },
   "outputs": [
    {
     "name": "stdout",
     "output_type": "stream",
     "text": [
      "10\n",
      "20\n",
      "m1 method of X class\n",
      "30\n",
      "40\n",
      "m2 method of Y class\n",
      "m3 method of Y class\n"
     ]
    }
   ],
   "source": [
    "# Example - \n",
    "class X:\n",
    "    a = 10\n",
    "    def __init__(self):\n",
    "        self.b = 20\n",
    "    def m1(self):\n",
    "        print(\"m1 method of X class\")\n",
    "\n",
    "class Y:\n",
    "    c = 30\n",
    "    def __init__(self):\n",
    "        self.d = 40\n",
    "    def m2(self):\n",
    "        print(\"m2 method of Y class\")\n",
    "    def m3(self):\n",
    "        x1 = X()\n",
    "        print(x1.a)\n",
    "        print(x1.b)\n",
    "        x1.m1()\n",
    "        print(Y.c)\n",
    "        print(self.d)\n",
    "        self.m2()\n",
    "        print(\"m3 method of Y class\")\n",
    "\n",
    "y1 = Y()\n",
    "y1.m3()"
   ]
  },
  {
   "cell_type": "markdown",
   "id": "5f5bb2fd",
   "metadata": {
    "heading_collapsed": true,
    "hidden": true
   },
   "source": [
    "## By Inheritance (IS-A Relationship)\n",
    "\n",
    "⚽ What ever variables, methods and constructors available in the parent class by default available to the child classes and we are not required to rewrite. <br>\n",
    "⚽ Hence the main advantage of inheritance is Code Reusability<br> \n",
    "⚽ And we can extend existing functionality with some more extra functionality.<br>\n",
    "\n",
    "**Syntex:** class childclass(parentclass)"
   ]
  },
  {
   "cell_type": "markdown",
   "id": "36cae01c",
   "metadata": {
    "heading_collapsed": true,
    "hidden": true
   },
   "source": [
    "### Intro"
   ]
  },
  {
   "cell_type": "code",
   "execution_count": 53,
   "id": "c1152d4d",
   "metadata": {
    "hidden": true
   },
   "outputs": [
    {
     "name": "stdout",
     "output_type": "stream",
     "text": [
      "Parent method\n",
      "Child method\n"
     ]
    }
   ],
   "source": [
    "# simple example\n",
    "class p:\n",
    "    def m1(self):\n",
    "        print('Parent method')\n",
    "class c(p):\n",
    "    def m2(self):\n",
    "        print('Child method')\n",
    "c1 = c()\n",
    "c1.m1()\n",
    "c1.m2()\n",
    "    "
   ]
  },
  {
   "cell_type": "code",
   "execution_count": 42,
   "id": "02a21865",
   "metadata": {
    "hidden": true
   },
   "outputs": [
    {
     "name": "stdout",
     "output_type": "stream",
     "text": [
      "10\n",
      "10\n",
      "Parent instance method\n",
      "Parent class method\n",
      "Parent static method\n"
     ]
    }
   ],
   "source": [
    "# How extendibility?\n",
    "# Who ever want parent, just call parent class\n",
    "# If child is needed with extra feature as child = child + parent then use child class\n",
    "class P:\n",
    "    a = 10\n",
    "    def __init__(self):\n",
    "        self.b = 10\n",
    "    def m1(self):\n",
    "        print('Parent instance method')\n",
    "    @classmethod\n",
    "    def m2(cls):\n",
    "        print('Parent class method')\n",
    "    @staticmethod\n",
    "    def m3():\n",
    "        print('Parent static method')\n",
    "\n",
    "class C(P): #here there is no constructor thus parent class constructor got executed\n",
    "    pass\n",
    "\n",
    "c = C()\n",
    "print(c.a)\n",
    "print(c.b)\n",
    "c.m1()\n",
    "c.m2()\n",
    "c.m3()\n",
    "\n",
    "'''\n",
    "class P: \n",
    "    10 methods \n",
    "class C(P): \n",
    "    5 methods\n",
    "\n",
    "In the above example Parent class contains 10 methods and these methods automatically available to the child class \n",
    "and we are not required to rewrite those methods(Code Reusability) Hence child class contains 15 methods.\n",
    "'''"
   ]
  },
  {
   "cell_type": "markdown",
   "id": "83659091",
   "metadata": {
    "heading_collapsed": true,
    "hidden": true
   },
   "source": [
    "### Types of Inheritance"
   ]
  },
  {
   "cell_type": "markdown",
   "id": "faf1fe90",
   "metadata": {
    "heading_collapsed": true,
    "hidden": true
   },
   "source": [
    "#### Single Inheritance \n",
    "The concept of inheriting the properties from one class to another class is known as single inheritance."
   ]
  },
  {
   "cell_type": "code",
   "execution_count": 73,
   "id": "63e62225",
   "metadata": {
    "hidden": true
   },
   "outputs": [
    {
     "name": "stdout",
     "output_type": "stream",
     "text": [
      "Parent Method\n",
      "Child Method\n"
     ]
    }
   ],
   "source": [
    "class P:\n",
    "    def m1(self):\n",
    "        print(\"Parent Method\")\n",
    "class C(P):\n",
    "    def m2(self):\n",
    "        print(\"Child Method\")\n",
    "c = C()\n",
    "c.m1()\n",
    "c.m2()"
   ]
  },
  {
   "cell_type": "markdown",
   "id": "85abfd7e",
   "metadata": {
    "heading_collapsed": true,
    "hidden": true
   },
   "source": [
    "#### Multi Level Inheritance\n",
    "The concept of inheriting the properties from multiple classes to single class with the concept of one after another is known as multilevel inheritance."
   ]
  },
  {
   "cell_type": "code",
   "execution_count": 75,
   "id": "eef86083",
   "metadata": {
    "hidden": true
   },
   "outputs": [
    {
     "name": "stdout",
     "output_type": "stream",
     "text": [
      "Sub Child Method\n"
     ]
    }
   ],
   "source": [
    "class P:\n",
    "    def m1(self):\n",
    "        print(\"Parent Method\")\n",
    "class C(P):\n",
    "    def m2(self):\n",
    "        print(\"Child Method\")\n",
    "class CC(C):\n",
    "    def m3(self):\n",
    "        print(\"Sub Child Method\")\n",
    "c = CC()\n",
    "c.m1()\n",
    "c.m2()\n",
    "c.m3()\n",
    "\n",
    "# by using same object we can call all classes"
   ]
  },
  {
   "cell_type": "markdown",
   "id": "f3844c3b",
   "metadata": {
    "heading_collapsed": true,
    "hidden": true
   },
   "source": [
    "#### Hierarchical Inheritance\n",
    "The concept of inheriting properties from one class into multiple classes which are present at same level is known as Hierarchical Inheritance"
   ]
  },
  {
   "cell_type": "code",
   "execution_count": 76,
   "id": "7207cd90",
   "metadata": {
    "hidden": true
   },
   "outputs": [
    {
     "name": "stdout",
     "output_type": "stream",
     "text": [
      "Parent Method\n",
      "Child1 Method\n",
      "Parent Method\n",
      "Child2 Method\n"
     ]
    }
   ],
   "source": [
    "class P:\n",
    "    def m1(self):\n",
    "        print(\"Parent Method\")\n",
    "class C1(P):\n",
    "    def m2(self):\n",
    "        print(\"Child1 Method\")\n",
    "class C2(P):\n",
    "    def m3(self):\n",
    "        print(\"Child2 Method\")\n",
    "\n",
    "c1 = C1()\n",
    "c1.m1()\n",
    "c1.m2()\n",
    "\n",
    "c2 = C2()\n",
    "c2.m1()\n",
    "c2.m3()"
   ]
  },
  {
   "cell_type": "markdown",
   "id": "dcb8904a",
   "metadata": {
    "heading_collapsed": true,
    "hidden": true
   },
   "source": [
    "#### Multiple Inheritance\n",
    "The concept of inheriting the properties from multiple classes into a single class at a time, is known as multiple inheritance."
   ]
  },
  {
   "cell_type": "code",
   "execution_count": 77,
   "id": "8e322910",
   "metadata": {
    "hidden": true
   },
   "outputs": [
    {
     "name": "stdout",
     "output_type": "stream",
     "text": [
      "Parent1 Method\n",
      "Parent2 Method\n",
      "Child2 Method\n"
     ]
    }
   ],
   "source": [
    "class P1:\n",
    "    def m1(self):\n",
    "        print(\"Parent1 Method\")\n",
    "class P2:\n",
    "    def m2(self):\n",
    "        print(\"Parent2 Method\")\n",
    "class C(P1, P2):\n",
    "    def m3(self):\n",
    "        print(\"Child2 Method\")\n",
    "\n",
    "c = C()\n",
    "c.m1()\n",
    "c.m2()\n",
    "c.m3()"
   ]
  },
  {
   "cell_type": "markdown",
   "id": "1cc9273d",
   "metadata": {
    "hidden": true
   },
   "source": [
    "If the same method is inherited from both parent classes, then Python will always consider the order of Parent classes in the declaration of the child class.<br>\n",
    "class C(P1, P2): -> P1 method will be considered<br> \n",
    "class C(P2, P1): -> P2 method will be considered<br>"
   ]
  },
  {
   "cell_type": "code",
   "execution_count": 79,
   "id": "a086e2b8",
   "metadata": {
    "hidden": true
   },
   "outputs": [
    {
     "name": "stdout",
     "output_type": "stream",
     "text": [
      "Parent1 Method\n",
      "Child Method\n"
     ]
    }
   ],
   "source": [
    "class P1:\n",
    "    def m1(self):\n",
    "        print(\"Parent1 Method\")\n",
    "class P2:\n",
    "    def m1(self):\n",
    "        print(\"Parent2 Method\")\n",
    "class C(P1, P2):\n",
    "    def m2(self):\n",
    "        print(\"Child Method\")\n",
    "        \n",
    "c = C()\n",
    "c.m1()\n",
    "c.m2()"
   ]
  },
  {
   "cell_type": "markdown",
   "id": "57dd87a8",
   "metadata": {
    "hidden": true
   },
   "source": [
    "#### Hybrid Inheritance\n",
    "Combination of Single, Multi level, multiple and Hierarchical inheritance is known as Hybrid Inheritance"
   ]
  },
  {
   "cell_type": "markdown",
   "id": "9015b1f0",
   "metadata": {
    "heading_collapsed": true,
    "hidden": true
   },
   "source": [
    "#### Cyclic Inheritance\n",
    "The concept of inheriting properties from one class to another class in cyclic way, is called Cyclic inheritance.Python won't support for Cyclic Inheritance of course it is really not required. <br>"
   ]
  },
  {
   "cell_type": "code",
   "execution_count": 82,
   "id": "a8aff880",
   "metadata": {
    "hidden": true
   },
   "outputs": [
    {
     "ename": "NameError",
     "evalue": "name 'A' is not defined",
     "output_type": "error",
     "traceback": [
      "\u001b[1;31m---------------------------------------------------------------------------\u001b[0m",
      "\u001b[1;31mNameError\u001b[0m                                 Traceback (most recent call last)",
      "\u001b[1;32m~\\AppData\\Local\\Temp\\ipykernel_35628\\2917146064.py\u001b[0m in \u001b[0;36m<module>\u001b[1;34m\u001b[0m\n\u001b[0;32m      1\u001b[0m \u001b[1;31m# Example 1-------------\u001b[0m\u001b[1;33m\u001b[0m\u001b[1;33m\u001b[0m\u001b[0m\n\u001b[1;32m----> 2\u001b[1;33m \u001b[1;32mclass\u001b[0m \u001b[0mA\u001b[0m\u001b[1;33m(\u001b[0m\u001b[0mA\u001b[0m\u001b[1;33m)\u001b[0m\u001b[1;33m:\u001b[0m\u001b[1;32mpass\u001b[0m\u001b[1;33m\u001b[0m\u001b[1;33m\u001b[0m\u001b[0m\n\u001b[0m\u001b[0;32m      3\u001b[0m \u001b[1;33m\u001b[0m\u001b[0m\n\u001b[0;32m      4\u001b[0m \u001b[1;31m# Example 2 ------------\u001b[0m\u001b[1;33m\u001b[0m\u001b[1;33m\u001b[0m\u001b[0m\n\u001b[0;32m      5\u001b[0m \u001b[1;32mclass\u001b[0m \u001b[0mA\u001b[0m\u001b[1;33m(\u001b[0m\u001b[0mB\u001b[0m\u001b[1;33m)\u001b[0m\u001b[1;33m:\u001b[0m\u001b[1;33m\u001b[0m\u001b[1;33m\u001b[0m\u001b[0m\n",
      "\u001b[1;31mNameError\u001b[0m: name 'A' is not defined"
     ]
    }
   ],
   "source": [
    "# Example 1-------------\n",
    "class A(A):pass\n",
    "\n",
    "# Example 2 ------------\n",
    "class A(B): \n",
    "    pass \n",
    "class B(A): \n",
    "    pass"
   ]
  },
  {
   "cell_type": "markdown",
   "id": "c1314786",
   "metadata": {
    "heading_collapsed": true,
    "hidden": true
   },
   "source": [
    "### Call parent class constructor from child class - super() function"
   ]
  },
  {
   "cell_type": "code",
   "execution_count": 54,
   "id": "cf2ad268",
   "metadata": {
    "hidden": true
   },
   "outputs": [
    {
     "name": "stdout",
     "output_type": "stream",
     "text": [
      "10 20 30 30\n"
     ]
    }
   ],
   "source": [
    "class P:\n",
    "    a = 10\n",
    "    def __init__(self):\n",
    "        self.b = 20\n",
    "class C(P):\n",
    "    c = 30\n",
    "    def __init__(self):\n",
    "        super().__init__()  # Line-1\n",
    "        self.d = 30\n",
    "\n",
    "c1 = C()\n",
    "print(c1.a, c1.b, c1.c, c1.d)\n"
   ]
  },
  {
   "cell_type": "code",
   "execution_count": 62,
   "id": "4831664b",
   "metadata": {
    "hidden": true
   },
   "outputs": [
    {
     "name": "stdout",
     "output_type": "stream",
     "text": [
      "Eat Biryani and Drink Beer\n",
      "Coding Python is very easy just like drinking Chilled Beer\n",
      "Employee Name: Durga\n",
      "Employee Age: 48\n",
      "Employee Number: 100\n",
      "Employee Salary: 10000\n"
     ]
    }
   ],
   "source": [
    "class Person:\n",
    "    def __init__(self, name, age):\n",
    "        self.name = name\n",
    "        self.age = age\n",
    "    def eatndrink(self):\n",
    "        print('Eat Biryani and Drink Beer')\n",
    "\n",
    "class Employee(Person):\n",
    "    def __init__(self, name, age, eno, esal):\n",
    "        '''From child to parent, use super() function\n",
    "        self.name=name\n",
    "        self.age=age\n",
    "        '''\n",
    "        super().__init__(name, age)\n",
    "        self.eno = eno\n",
    "        self.esal = esal\n",
    "    def work(self):\n",
    "        print(\"Coding Python is very easy just like drinking Chilled Beer\")\n",
    "    def empinfo(self):\n",
    "        print(\"Employee Name:\", self.name)\n",
    "        print(\"Employee Age:\", self.age)\n",
    "        print(\"Employee Number:\", self.eno)\n",
    "        print(\"Employee Salary:\", self.esal)\n",
    "\n",
    "e = Employee('Durga', 48, 100, 10000)\n",
    "e.eatndrink()\n",
    "e.work()\n",
    "e.empinfo()"
   ]
  },
  {
   "cell_type": "markdown",
   "id": "fbc9adb4",
   "metadata": {
    "heading_collapsed": true,
    "hidden": true
   },
   "source": [
    "## IS-A vs HAS-A Relationship"
   ]
  },
  {
   "cell_type": "markdown",
   "id": "0f16b1a0",
   "metadata": {
    "hidden": true
   },
   "source": [
    "⚽ If we want to extend existing functionality with some more extra functionality then we should go for IS-A Relationship. <br>\n",
    "⚽ If we dont want to extend and just we have to use existing functionality then we should go for HAS-A Relationship. <br>"
   ]
  },
  {
   "cell_type": "markdown",
   "id": "a4e57245",
   "metadata": {
    "heading_collapsed": true,
    "hidden": true
   },
   "source": [
    "### Combining Inheritance & Composition"
   ]
  },
  {
   "cell_type": "code",
   "execution_count": 70,
   "id": "8bfe3c41",
   "metadata": {
    "hidden": true
   },
   "outputs": [
    {
     "name": "stdout",
     "output_type": "stream",
     "text": [
      "Eg: Employee class extends Person class Functionality But Employee class just uses Car functionality but not extending\n"
     ]
    },
    {
     "data": {
      "image/png": "[encoded data removed]",
      "text/plain": [
       "<IPython.core.display.Image object>"
      ]
     },
     "execution_count": 70,
     "metadata": {},
     "output_type": "execute_result"
    }
   ],
   "source": [
    "from IPython.display import Image\n",
    "print('Eg: Employee class extends Person class Functionality But Employee class just uses Car functionality but not extending')\n",
    "Image(filename=\"C:/Users/saurabhkumar9/Python Tutorial/inheritance_composition.png\")"
   ]
  },
  {
   "cell_type": "code",
   "execution_count": 63,
   "id": "36c8fa54",
   "metadata": {
    "hidden": true
   },
   "outputs": [
    {
     "name": "stdout",
     "output_type": "stream",
     "text": [
      "Eat Biryani and Drink Beer\n",
      "Coding Python is very easy just like drinking Chilled Beer\n",
      "Employee Name: Durga\n",
      "Employee Age: 48\n",
      "Employee Number: 100\n",
      "Employee Salary: 10000\n",
      "Employee Car Info:\n",
      "\tCar Name: Innova\n",
      "\tModel: 2.5V\n",
      "\tColor: Grey\n"
     ]
    }
   ],
   "source": [
    "# Example - Here we are extebding our results using multiple classes\n",
    "class Car:\n",
    "    def __init__(self, name, model, color):\n",
    "        self.name = name\n",
    "        self.model = model\n",
    "        self.color = color\n",
    "    def getinfo(self):\n",
    "        print(\"\\tCar Name: {}\\n\\tModel: {}\\n\\tColor: {}\".format(self.name, self.model, self.color))\n",
    "\n",
    "class Person:\n",
    "    def __init__(self, name, age):\n",
    "        self.name = name\n",
    "        self.age = age\n",
    "    def eatndrink(self):\n",
    "        print('Eat Biryani and Drink Beer')\n",
    "\n",
    "class Employee(Person):\n",
    "    def __init__(self, name, age, eno, esal, car):\n",
    "        super().__init__(name, age)\n",
    "        self.eno = eno\n",
    "        self.esal = esal\n",
    "        self.car = car\n",
    "    def work(self):\n",
    "        print(\"Coding Python is very easy just like drinking Chilled Beer\")\n",
    "    def empinfo(self):\n",
    "        print(\"Employee Name:\", self.name)\n",
    "        print(\"Employee Age:\", self.age)\n",
    "        print(\"Employee Number:\", self.eno)\n",
    "        print(\"Employee Salary:\", self.esal)\n",
    "        print(\"Employee Car Info:\")\n",
    "        self.car.getinfo()\n",
    "\n",
    "c = Car(\"Innova\", \"2.5V\", \"Grey\")\n",
    "e = Employee('Durga', 48, 100, 10000, c)\n",
    "e.eatndrink()\n",
    "e.work()\n",
    "e.empinfo()"
   ]
  },
  {
   "cell_type": "markdown",
   "id": "d14450f7",
   "metadata": {
    "heading_collapsed": true,
    "hidden": true
   },
   "source": [
    "## Composition vs Aggregation"
   ]
  },
  {
   "cell_type": "markdown",
   "id": "c6a62dc5",
   "metadata": {
    "hidden": true
   },
   "source": [
    "**Composition:** <br>\n",
    "⚽ Without existing container object if there is no chance of existing contained object then the container and contained objects are strongly associated and that strong association is nothing but Composition.<br>\n",
    "Eg: University contains several Departments and without existing university object there is no chance of existing Department object. Hence University and Department objects are strongly associated and this strong association is nothing but Composition.\n",
    "\n",
    "**Aggregation:**<br>\n",
    "⚽ Without existing container object if there is a chance of existing contained object then the container and contained objects are weakly associated and that weak association is nothing but Aggregation.<br>\n",
    "Eg: Department contains several Professors. Without existing Department still there may be a chance of existing Professor. Hence Department and Professor Objects are weakly associated, which is nothing but Aggregation.<br>\n",
    "\n",
    "Thus, **The relation between object and its instance variables is always Composition where as the relation between object and static variables is Aggregation.**"
   ]
  },
  {
   "cell_type": "code",
   "execution_count": 72,
   "id": "3d372239",
   "metadata": {
    "hidden": true
   },
   "outputs": [
    {
     "name": "stdout",
     "output_type": "stream",
     "text": [
      "DURGASOFT\n",
      "Durga\n"
     ]
    }
   ],
   "source": [
    "class Student:\n",
    "    collegeName = 'DURGASOFT'\n",
    "    def __init__(self, name):\n",
    "        self.name = name\n",
    "print(Student.collegeName)\n",
    "s = Student('Durga')\n",
    "print(s.name)\n",
    "\n",
    "'''\n",
    "In the above example without existing Student object there is no chance of existing his name. Hence Student Object and his name are strongly associated \n",
    "which is nothing but Composition.\n",
    "But without existing Student object there may be a chance of existing collegeName. Hence Student object and collegeName are weakly associated which is \n",
    "nothing but Aggregation.\n",
    "'''"
   ]
  },
  {
   "cell_type": "markdown",
   "id": "9e5b1173",
   "metadata": {
    "heading_collapsed": true,
    "hidden": true
   },
   "source": [
    "## Method Resolution Order (MRO)"
   ]
  },
  {
   "cell_type": "markdown",
   "id": "4ccf393a",
   "metadata": {
    "heading_collapsed": true,
    "hidden": true
   },
   "source": [
    "### What is object class?\n",
    "\n",
    "In Python, the object class is the base class for all other classes. It is the root of the class hierarchy. Every class in Python, either built-in or user-defined, ultimately inherits from the object class.<br>\n",
    "\n",
    "The object class provides a set of default methods and attributes that are inherited by all other classes. Some of the commonly used methods inherited from object include __init__() (the constructor), __str__() (string representation), __repr__() (official string representation), __eq__() (equality comparison), __hash__() (hash value computation), and many more.<br>\n",
    "\n",
    "By inheriting from object, a class automatically gains access to these default methods and attributes, although they can be overridden or extended in the derived class as needed.<br>"
   ]
  },
  {
   "cell_type": "markdown",
   "id": "29cbad2b",
   "metadata": {
    "heading_collapsed": true,
    "hidden": true
   },
   "source": [
    "### MRO Method<br>\n",
    "\n",
    "⚽ In Hybrid Inheritance the method resolution order is decided based on MRO algorithm. <br>\n",
    "⚽ This algorithm is also known as C3 algorithm. <br>\n",
    "⚽ Samuele Pedroni proposed this algorithm. <br>\n",
    "⚽ It follows DLR (Depth First Left to Right) i.e Child will get more priority than Parent. <br>\n",
    "⚽ Left Parent will get more priority than Right Parent. <br>\n",
    "⚽ MRO(X) = X+Merge(MRO(P1),MRO(P2),...,ParentList)<br>\n",
    "\n",
    "**Head Element vs Tail Terminology:** <br>\n",
    "\n",
    "⚽ Assume C1,C2,C3,...are classes. <br> \n",
    "⚽ In the list: C1C2C3C4C5.... <br> \n",
    "⚽ C1 is considered as Head Element and remaining is considered as Tail.<br>\n",
    "\n",
    "**How to find Merge:** <br>\n",
    "\n",
    "⚽ Take the head of first list.<br> \n",
    "⚽ If the head is not in the tail part of any other list, then add this head to the result and remove it from the lists in the merge. <br>\n",
    "⚽ If the head is present in the tail part of any other list, then consider the head element of the next list and continue the same process. <br>\n",
    "\n",
    "**Note:** We can find MRO of any class by using mro() function. **print(ClassName.mro())**<br>\n",
    "\n",
    "**When to use mro function?**<br>\n",
    "⚽ When long hierarchy of classes is there. We can't judge it manually to we have to call MRO method"
   ]
  },
  {
   "cell_type": "code",
   "execution_count": 93,
   "id": "059b5ef0",
   "metadata": {
    "hidden": true
   },
   "outputs": [],
   "source": [
    "'''\n",
    "MyClass is defined with (object) explicitly specified as the base class. However, since this is the default behavior, \n",
    "you can also omit (object) and write class MyClass: without any difference in functionality.\n",
    "\n",
    "Note that in Python 3.x, classes implicitly inherit from object, so explicitly specifying (object) is not required. \n",
    "However, in Python 2.x, it was necessary to explicitly inherit from object.'''\n",
    "\n",
    "class MyClass(object):\n",
    "    def __init__(self):\n",
    "        pass\n",
    "\n",
    "    def my_method(self):\n",
    "        pass\n",
    "\n",
    "obj = MyClass()"
   ]
  },
  {
   "cell_type": "markdown",
   "id": "1dceca5b",
   "metadata": {
    "heading_collapsed": true,
    "hidden": true
   },
   "source": [
    "### Demo Program-1 for Method Resolution Order"
   ]
  },
  {
   "cell_type": "code",
   "execution_count": 92,
   "id": "71fabffc",
   "metadata": {
    "hidden": true
   },
   "outputs": [
    {
     "data": {
      "image/png": "[encoded data removed]",
      "text/plain": [
       "<IPython.core.display.Image object>"
      ]
     },
     "execution_count": 92,
     "metadata": {
      "image/png": {
       "height": 400,
       "width": 400
      }
     },
     "output_type": "execute_result"
    }
   ],
   "source": [
    "Image('C:/Users/saurabhkumar9/Python Tutorial/MRO1.png',width=400, height=400)"
   ]
  },
  {
   "cell_type": "code",
   "execution_count": 94,
   "id": "9956cd4e",
   "metadata": {
    "hidden": true
   },
   "outputs": [
    {
     "name": "stdout",
     "output_type": "stream",
     "text": [
      "[<class '__main__.A'>, <class 'object'>]\n",
      "[<class '__main__.B'>, <class '__main__.A'>, <class 'object'>]\n",
      "[<class '__main__.C'>, <class '__main__.A'>, <class 'object'>]\n",
      "[<class '__main__.D'>, <class '__main__.B'>, <class '__main__.C'>, <class '__main__.A'>, <class 'object'>]\n"
     ]
    }
   ],
   "source": [
    "class A:\n",
    "    pass\n",
    "\n",
    "class B(A):\n",
    "    pass\n",
    "\n",
    "class C(A):\n",
    "    pass\n",
    "\n",
    "class D(B, C):\n",
    "    pass\n",
    "\n",
    "print(A.mro()) #Firts it will search in A class and then in the object class\n",
    "print(B.mro())\n",
    "print(C.mro())\n",
    "print(D.mro()) # this will follow left to right approach"
   ]
  },
  {
   "cell_type": "markdown",
   "id": "c1d97425",
   "metadata": {
    "heading_collapsed": true,
    "hidden": true
   },
   "source": [
    "### Demo Program-2 for Method Resolution Order"
   ]
  },
  {
   "cell_type": "code",
   "execution_count": 95,
   "id": "da583ccb",
   "metadata": {
    "hidden": true
   },
   "outputs": [
    {
     "data": {
      "image/png": "[encoded data removed]",
      "text/plain": [
       "<IPython.core.display.Image object>"
      ]
     },
     "execution_count": 95,
     "metadata": {
      "image/png": {
       "height": 400,
       "width": 400
      }
     },
     "output_type": "execute_result"
    }
   ],
   "source": [
    "Image('C:/Users/saurabhkumar9/Python Tutorial/MRO2.png',width=400, height=400)"
   ]
  },
  {
   "cell_type": "code",
   "execution_count": 99,
   "id": "1cda9d6c",
   "metadata": {
    "hidden": true
   },
   "outputs": [
    {
     "name": "stdout",
     "output_type": "stream",
     "text": [
      "[<class '__main__.A'>, <class 'object'>]\n",
      "[<class '__main__.X'>, <class '__main__.A'>, <class '__main__.B'>, <class 'object'>]\n",
      "[<class '__main__.Y'>, <class '__main__.B'>, <class '__main__.C'>, <class 'object'>]\n",
      "[<class '__main__.P'>, <class '__main__.X'>, <class '__main__.A'>, <class '__main__.Y'>, <class '__main__.B'>, <class '__main__.C'>, <class 'object'>]\n"
     ]
    }
   ],
   "source": [
    "class A:\n",
    "    pass\n",
    "class B:\n",
    "    pass\n",
    "class C:\n",
    "    pass\n",
    "class X(A, B):\n",
    "    pass\n",
    "class Y(B, C):\n",
    "    pass\n",
    "class P(X, Y, C):\n",
    "    pass\n",
    "\n",
    "print(A.mro())  # [A]\n",
    "print(X.mro())  # [X, A, B, object]\n",
    "print(Y.mro())  # [Y, B, C, object]\n",
    "print(P.mro())  # [P, X, A, Y, B, C, object]\n"
   ]
  },
  {
   "cell_type": "markdown",
   "id": "8bf07703",
   "metadata": {
    "heading_collapsed": true,
    "hidden": true
   },
   "source": [
    "### Demo Program-3 for Method Resolution Order"
   ]
  },
  {
   "cell_type": "code",
   "execution_count": 97,
   "id": "4e68a51c",
   "metadata": {
    "hidden": true
   },
   "outputs": [
    {
     "data": {
      "image/png": "[encoded data removed]",
      "text/plain": [
       "<IPython.core.display.Image object>"
      ]
     },
     "execution_count": 97,
     "metadata": {
      "image/png": {
       "height": 400,
       "width": 400
      }
     },
     "output_type": "execute_result"
    }
   ],
   "source": [
    "Image('C:/Users/saurabhkumar9/Python Tutorial/MRO3.png',width=400, height=400)"
   ]
  },
  {
   "cell_type": "code",
   "execution_count": 98,
   "id": "4d1d1f72",
   "metadata": {
    "hidden": true
   },
   "outputs": [
    {
     "name": "stdout",
     "output_type": "stream",
     "text": [
      "[<class '__main__.D'>, <class 'object'>]\n",
      "[<class '__main__.B'>, <class '__main__.D'>, <class '__main__.E'>, <class 'object'>]\n",
      "[<class '__main__.C'>, <class '__main__.D'>, <class '__main__.F'>, <class 'object'>]\n",
      "[<class '__main__.A'>, <class '__main__.B'>, <class '__main__.C'>, <class '__main__.D'>, <class '__main__.E'>, <class '__main__.F'>, <class 'object'>]\n"
     ]
    }
   ],
   "source": [
    "class D:\n",
    "    pass\n",
    "class E:\n",
    "    pass\n",
    "class F:\n",
    "    pass\n",
    "class B(D, E):\n",
    "    pass\n",
    "class C(D, F):\n",
    "    pass\n",
    "class A(B, C):\n",
    "    pass\n",
    "\n",
    "print(D.mro())\n",
    "print(B.mro())\n",
    "print(C.mro())\n",
    "print(A.mro())"
   ]
  },
  {
   "cell_type": "markdown",
   "id": "bb6c18aa",
   "metadata": {
    "heading_collapsed": true,
    "hidden": true
   },
   "source": [
    "## Super() Method\n",
    "super() is a built-in method which is useful to call the super class constructors,variables and methods from the child class.<br>\n",
    "\n",
    "In the below example, super is used to call all parent constructor, variable and methods in child. "
   ]
  },
  {
   "cell_type": "code",
   "execution_count": 30,
   "id": "4f39875c",
   "metadata": {
    "hidden": true
   },
   "outputs": [
    {
     "name": "stdout",
     "output_type": "stream",
     "text": [
      "Child constructor\n",
      "10\n",
      "Parent Instance method\n",
      "Parent Class method\n",
      "Parent Static method\n",
      "Parent Constructor\n"
     ]
    }
   ],
   "source": [
    "# Basic\n",
    "class p:\n",
    "    a = 10\n",
    "    def __init__(self):\n",
    "        print('Parent Constructor')\n",
    "    def m1(self):\n",
    "        print('Parent Instance method')\n",
    "    @classmethod\n",
    "    def m2(cls):\n",
    "        print('Parent Class method')\n",
    "    @staticmethod\n",
    "    def m3():\n",
    "        print('Parent Static method')\n",
    "        \n",
    "class c(p):\n",
    "    def __init__(self):\n",
    "        print('Child constructor')\n",
    "    def method1(self):\n",
    "        print(super().a)\n",
    "        super().m1()\n",
    "        super().m2()\n",
    "        super().m3()\n",
    "        super().__init__()\n",
    "\n",
    "object1=c()\n",
    "object1.method1()"
   ]
  },
  {
   "cell_type": "code",
   "execution_count": 41,
   "id": "1c4be402",
   "metadata": {
    "hidden": true
   },
   "outputs": [
    {
     "name": "stdout",
     "output_type": "stream",
     "text": [
      "No naming conflict, so super is not required. Only constructor has naming confict hence super is needed. if we keep self there, child class will be executed.\n",
      " \n",
      "Child constructor\n",
      "10\n",
      "Parent Instance method\n",
      "Parent class method\n",
      "Parent static method\n",
      "Parent Constructor\n"
     ]
    }
   ],
   "source": [
    "'''\n",
    "Additionally, if no naming conflict is there then super is not required. In above example, method names are different in parent and child \n",
    "hence super is not required.\n",
    "Same can be acheived just by using self command. Example below:\n",
    "'''\n",
    "\n",
    "class p:\n",
    "    a = 10\n",
    "    def __init__(self):\n",
    "        print('Parent Constructor')\n",
    "    def m1(self):\n",
    "        print('Parent Instance method')\n",
    "    @classmethod\n",
    "    def m2(cls):\n",
    "        print('Parent class method')\n",
    "    @staticmethod\n",
    "    def m3():\n",
    "        print('Parent static method')\n",
    "        \n",
    "class c(p):\n",
    "    def __init__(self):\n",
    "        print('No naming conflict, so super is not required. Only constructor has naming confict hence super is needed. if we keep self there, child class will be executed.')\n",
    "        print(' ')\n",
    "        print('Child constructor')\n",
    "    def method1(self):\n",
    "        print(super().a)\n",
    "        self.m1()\n",
    "        self.m2()\n",
    "        self.m3()\n",
    "        super().__init__()# naming conflict b/w child and parent. So execute parent super is needed\n",
    "\n",
    "object2 = c()\n",
    "object2.method1()"
   ]
  },
  {
   "cell_type": "markdown",
   "id": "cfed821d",
   "metadata": {
    "heading_collapsed": true,
    "hidden": true
   },
   "source": [
    "### Why super() method is required?\n",
    "Below example, both child and parent has same name for a method.And parent's method is called in child. If we invoke child m1 method through object code will be in a recursive state resulting in recursion error. To prevent thi **super function** is designed. <br>\n",
    "\n",
    "From child class, if we wnat to call parent class explicitely super is used.<br>\n",
    "so if parent class and child class contains a member with same name, then to call explicitly parent class members from the child class we should use super"
   ]
  },
  {
   "cell_type": "code",
   "execution_count": null,
   "id": "ff89756d",
   "metadata": {
    "hidden": true
   },
   "outputs": [],
   "source": [
    "# This fails\n",
    "class p:\n",
    "    def m1(self):\n",
    "        print('Parent Method')\n",
    "class c(p):\n",
    "    def m1(self):\n",
    "        self.m1()\n",
    "        print('Child Method', end='\\n\\ng')\n",
    "obj1 = c()\n",
    "obj1.m1()\n",
    "'''\n",
    "c.m1() #recurssion error\n",
    "Imagef we call c.m1() we will get recursive error\n",
    "why?\n",
    "Because m1 keeps calling it self, it will not call parent as method names are same in both '''"
   ]
  },
  {
   "cell_type": "code",
   "execution_count": 3,
   "id": "16140d83",
   "metadata": {
    "hidden": true
   },
   "outputs": [
    {
     "name": "stdout",
     "output_type": "stream",
     "text": [
      "Parent Method\n",
      "Child Method\n",
      "\n"
     ]
    }
   ],
   "source": [
    "class p:\n",
    "    def m1(self):\n",
    "        print('Parent Method')\n",
    "class c(p):\n",
    "    def m1(self):\n",
    "        super().m1()\n",
    "        print('Child Method', end='\\n\\n')\n",
    "obj1 = c()\n",
    "obj1.m1()"
   ]
  },
  {
   "cell_type": "code",
   "execution_count": null,
   "id": "69d4d7d0",
   "metadata": {
    "hidden": true
   },
   "outputs": [],
   "source": []
  },
  {
   "cell_type": "markdown",
   "id": "a506155c",
   "metadata": {
    "heading_collapsed": true,
    "hidden": true
   },
   "source": [
    "### Demo Program-1 for super():\n",
    "In the below program we are using super() method to call parent class constructor and display() method"
   ]
  },
  {
   "cell_type": "code",
   "execution_count": 42,
   "id": "3b87ee9a",
   "metadata": {
    "hidden": true
   },
   "outputs": [
    {
     "name": "stdout",
     "output_type": "stream",
     "text": [
      "Name: Durga\n",
      "Age: 22\n",
      "Roll No: 101\n",
      "Marks: 90\n"
     ]
    }
   ],
   "source": [
    "class Person:\n",
    "    def __init__(self, name, age):\n",
    "        self.name = name\n",
    "        self.age = age\n",
    "    def display(self):\n",
    "        print('Name:', self.name)\n",
    "        print('Age:', self.age)\n",
    "\n",
    "class Student(Person):\n",
    "    def __init__(self, name, age, rollno, marks):\n",
    "        super().__init__(name, age)\n",
    "        self.rollno = rollno\n",
    "        self.marks = marks\n",
    "    def display(self):\n",
    "        super().display()\n",
    "        print('Roll No:', self.rollno)\n",
    "        print('Marks:', self.marks)\n",
    "\n",
    "s1 = Student('Durga', 22, 101, 90)\n",
    "s1.display()"
   ]
  },
  {
   "cell_type": "markdown",
   "id": "f00bc8ea",
   "metadata": {
    "heading_collapsed": true,
    "hidden": true
   },
   "source": [
    "### Demo Program-2 for super():"
   ]
  },
  {
   "cell_type": "code",
   "execution_count": 5,
   "id": "91a5e625",
   "metadata": {
    "hidden": true
   },
   "outputs": [
    {
     "name": "stdout",
     "output_type": "stream",
     "text": [
      "10\n",
      "Parent instance method\n",
      "Parent class method\n",
      "Parent static method\n"
     ]
    }
   ],
   "source": [
    "class P:\n",
    "    a = 10\n",
    "    def __init__(self):\n",
    "        self.b = 10\n",
    "    def m1(self):\n",
    "        print('Parent instance method')\n",
    "    @classmethod\n",
    "    def m2(cls):\n",
    "        print('Parent class method')\n",
    "    @staticmethod\n",
    "    def m3():\n",
    "        print('Parent static method')\n",
    "\n",
    "class C(P):\n",
    "    a = 888\n",
    "\n",
    "    def __init__(self):\n",
    "        self.b = 999\n",
    "        super().__init__()\n",
    "        print(super().a)\n",
    "        super().m1()\n",
    "        super().m2()\n",
    "        super().m3()\n",
    "\n",
    "c = C()"
   ]
  },
  {
   "cell_type": "markdown",
   "id": "e6cb27f0",
   "metadata": {
    "heading_collapsed": true,
    "hidden": true
   },
   "source": [
    "### How to Call Method of a Particular Super Class:\n",
    "When ever we use super it will call immediate parent. But if we want ultimate parent then how to do it ?"
   ]
  },
  {
   "cell_type": "code",
   "execution_count": 46,
   "id": "29cffb08",
   "metadata": {
    "hidden": true
   },
   "outputs": [
    {
     "name": "stdout",
     "output_type": "stream",
     "text": [
      "D class method\n"
     ]
    }
   ],
   "source": [
    "class A:\n",
    "    def m1(self):\n",
    "        print('A class method')\n",
    "class B(A):\n",
    "    def m1(self):\n",
    "        print('B class method')\n",
    "class C(B):\n",
    "    def m1(self):\n",
    "        print('C class method')\n",
    "class D(C):\n",
    "    def m1(self):\n",
    "        print('D class method')\n",
    "class E(D):\n",
    "    def m1(self):\n",
    "        super().m1() # this will call immediate parent\n",
    "\n",
    "e=E()\n",
    "e.m1()"
   ]
  },
  {
   "cell_type": "markdown",
   "id": "bb3f92f8",
   "metadata": {
    "heading_collapsed": true,
    "hidden": true
   },
   "source": [
    "#### A.m1(self) approach\n",
    "In case of instance method we can use self to call any class"
   ]
  },
  {
   "cell_type": "code",
   "execution_count": 48,
   "id": "136e8d83",
   "metadata": {
    "hidden": true
   },
   "outputs": [
    {
     "name": "stdout",
     "output_type": "stream",
     "text": [
      "B class method\n",
      "A class method\n"
     ]
    }
   ],
   "source": [
    "class A:\n",
    "    def m1(self):\n",
    "        print('A class method')\n",
    "class B(A):\n",
    "    def m1(self):\n",
    "        print('B class method')\n",
    "class C(B):\n",
    "    def m1(self):\n",
    "        print('C class method')\n",
    "class D(C):\n",
    "    def m1(self):\n",
    "        print('D class method')\n",
    "class E(D):\n",
    "    def m1(self):\n",
    "        B.m1(self)\n",
    "        A.m1(self)\n",
    "\n",
    "e=E()\n",
    "e.m1()"
   ]
  },
  {
   "cell_type": "markdown",
   "id": "b296936f",
   "metadata": {
    "hidden": true
   },
   "source": [
    "#### super(D, self).m1() approach"
   ]
  },
  {
   "cell_type": "code",
   "execution_count": 52,
   "id": "4c99d1b8",
   "metadata": {
    "hidden": true
   },
   "outputs": [
    {
     "name": "stdout",
     "output_type": "stream",
     "text": [
      "B class method\n",
      "A class method\n"
     ]
    }
   ],
   "source": [
    "class A:\n",
    "    def m1(self):\n",
    "        print('A class method')\n",
    "class B(A):\n",
    "    def m1(self):\n",
    "        print('B class method')\n",
    "class C(B):\n",
    "    def m1(self):\n",
    "        print('C class method')\n",
    "class D(C):\n",
    "    def m1(self):\n",
    "        print('D class method')\n",
    "class E(D):\n",
    "    def m1(self):\n",
    "        super(C, self).m1() # if we call this, super class of C i.e. B class will be called\n",
    "        super(B, self).m1()\n",
    "e=E()\n",
    "e.m1()\n"
   ]
  },
  {
   "cell_type": "markdown",
   "id": "f35b0522",
   "metadata": {
    "hidden": true
   },
   "source": [
    "### Various Important Points about super():"
   ]
  },
  {
   "cell_type": "markdown",
   "id": "fe93f398",
   "metadata": {
    "heading_collapsed": true,
    "hidden": true
   },
   "source": [
    "#### Case-1\n",
    "From child class we are not allowed to access parent class instance variables by using super(), Compulsory we should use self only. <br>\n",
    "But we can access parent class static variables by using super()."
   ]
  },
  {
   "cell_type": "code",
   "execution_count": 54,
   "id": "ee541bce",
   "metadata": {
    "hidden": true
   },
   "outputs": [
    {
     "name": "stdout",
     "output_type": "stream",
     "text": [
      "888\n",
      "999\n",
      "888\n"
     ]
    },
    {
     "ename": "AttributeError",
     "evalue": "'super' object has no attribute 'b'",
     "output_type": "error",
     "traceback": [
      "\u001b[1;31m---------------------------------------------------------------------------\u001b[0m",
      "\u001b[1;31mAttributeError\u001b[0m                            Traceback (most recent call last)",
      "\u001b[1;32m~\\AppData\\Local\\Temp\\ipykernel_36032\\1217067459.py\u001b[0m in \u001b[0;36m<module>\u001b[1;34m\u001b[0m\n\u001b[0;32m     18\u001b[0m \u001b[1;33m\u001b[0m\u001b[0m\n\u001b[0;32m     19\u001b[0m \u001b[0mc\u001b[0m \u001b[1;33m=\u001b[0m \u001b[0mC\u001b[0m\u001b[1;33m(\u001b[0m\u001b[1;33m)\u001b[0m\u001b[1;33m\u001b[0m\u001b[1;33m\u001b[0m\u001b[0m\n\u001b[1;32m---> 20\u001b[1;33m \u001b[0mc\u001b[0m\u001b[1;33m.\u001b[0m\u001b[0mm1\u001b[0m\u001b[1;33m(\u001b[0m\u001b[1;33m)\u001b[0m\u001b[1;33m\u001b[0m\u001b[1;33m\u001b[0m\u001b[0m\n\u001b[0m",
      "\u001b[1;32m~\\AppData\\Local\\Temp\\ipykernel_36032\\1217067459.py\u001b[0m in \u001b[0;36mm1\u001b[1;34m(self)\u001b[0m\n\u001b[0;32m     15\u001b[0m         \u001b[0mprint\u001b[0m\u001b[1;33m(\u001b[0m\u001b[0mself\u001b[0m\u001b[1;33m.\u001b[0m\u001b[0mb\u001b[0m\u001b[1;33m)\u001b[0m \u001b[1;31m#valid\u001b[0m\u001b[1;33m\u001b[0m\u001b[1;33m\u001b[0m\u001b[0m\n\u001b[0;32m     16\u001b[0m         \u001b[0mprint\u001b[0m\u001b[1;33m(\u001b[0m\u001b[0msuper\u001b[0m\u001b[1;33m(\u001b[0m\u001b[1;33m)\u001b[0m\u001b[1;33m.\u001b[0m\u001b[0ma\u001b[0m\u001b[1;33m)\u001b[0m \u001b[1;31m#valid\u001b[0m\u001b[1;33m\u001b[0m\u001b[1;33m\u001b[0m\u001b[0m\n\u001b[1;32m---> 17\u001b[1;33m         \u001b[0mprint\u001b[0m\u001b[1;33m(\u001b[0m\u001b[0msuper\u001b[0m\u001b[1;33m(\u001b[0m\u001b[1;33m)\u001b[0m\u001b[1;33m.\u001b[0m\u001b[0mb\u001b[0m\u001b[1;33m)\u001b[0m \u001b[1;31m#invalid, can only be accessed using self\u001b[0m\u001b[1;33m\u001b[0m\u001b[1;33m\u001b[0m\u001b[0m\n\u001b[0m\u001b[0;32m     18\u001b[0m \u001b[1;33m\u001b[0m\u001b[0m\n\u001b[0;32m     19\u001b[0m \u001b[0mc\u001b[0m \u001b[1;33m=\u001b[0m \u001b[0mC\u001b[0m\u001b[1;33m(\u001b[0m\u001b[1;33m)\u001b[0m\u001b[1;33m\u001b[0m\u001b[1;33m\u001b[0m\u001b[0m\n",
      "\u001b[1;31mAttributeError\u001b[0m: 'super' object has no attribute 'b'"
     ]
    }
   ],
   "source": [
    "class P:\n",
    "    a = 888\n",
    "    def __init__(self):\n",
    "        self.b = 999\n",
    "\n",
    "class C(P):\n",
    "    def m1(self):\n",
    "        print(self.a) #valid\n",
    "        print(self.b) #valid\n",
    "        print(super().a) #valid\n",
    "        print(super().b) #invalid, can only be accessed using self\n",
    "\n",
    "c = C()\n",
    "c.m1()\n"
   ]
  },
  {
   "cell_type": "code",
   "execution_count": 57,
   "id": "2514e3bc",
   "metadata": {
    "hidden": true
   },
   "outputs": [
    {
     "name": "stdout",
     "output_type": "stream",
     "text": [
      "20\n"
     ]
    }
   ],
   "source": [
    "class P:\n",
    "    a = 888\n",
    "    def __init__(self):\n",
    "        self.b = 999\n",
    "\n",
    "class C(P):\n",
    "    def __init__(self):\n",
    "        self.b = 20\n",
    "    def m1(self):\n",
    "        print(self.b) #if both parent & child has same variavle name for instance varible.\n",
    "                      # we will never be able to access parent class.\n",
    "\n",
    "c = C()\n",
    "c.m1()"
   ]
  },
  {
   "cell_type": "markdown",
   "id": "cf1829d2",
   "metadata": {
    "heading_collapsed": true,
    "hidden": true
   },
   "source": [
    "#### Case-2\n",
    "From child class constructor and instance method, we can access parent class instance method, static method and \n",
    "class method by using super()"
   ]
  },
  {
   "cell_type": "code",
   "execution_count": 65,
   "id": "d2415990",
   "metadata": {
    "hidden": true
   },
   "outputs": [
    {
     "name": "stdout",
     "output_type": "stream",
     "text": [
      "Parent Constructor\n",
      "Parent instance method\n",
      "Parent class method\n",
      "Parent static method\n",
      "\n",
      "Parent Constructor\n",
      "Parent instance method\n",
      "Parent class method\n",
      "Parent static method\n",
      "\n",
      "Parent class method\n",
      "Parent static method\n",
      "\n",
      "Parent static method\n"
     ]
    }
   ],
   "source": [
    "class P:\n",
    "    def __init__(self):\n",
    "        print('Parent Constructor')\n",
    "    def m1(self):\n",
    "        print('Parent instance method')\n",
    "    @classmethod\n",
    "    def m2(cls):\n",
    "        print('Parent class method')\n",
    "    @staticmethod\n",
    "    def m3():\n",
    "        print('Parent static method')\n",
    "\n",
    "class C(P):\n",
    "    def __init__(self):\n",
    "        super().__init__()\n",
    "        super().m1()\n",
    "        super().m2()\n",
    "        super().m3()\n",
    "    def m1(self):\n",
    "        super().__init__()\n",
    "        super().m1()\n",
    "        super().m2()\n",
    "        super().m3()\n",
    "    @classmethod #from child class method we can't call parent instance method or constructor\n",
    "    def m2(cls):\n",
    "        #super().__init__() #error\n",
    "        #super().m1() #error\n",
    "        super().m2() #no error\n",
    "        super().m3() #no error\n",
    "'''        \n",
    "    @staticmethod #from child static method we can't call any parent\n",
    "    def m3():\n",
    "        #super().__init__() #error\n",
    "        #super().m1() #error\n",
    "        #super().m2() #error\n",
    "        #super().m3() #error'''\n",
    "\n",
    "c = C() # this is due to constructor call\n",
    "print()\n",
    "c.m1() # this is due to m1 method\n",
    "print()\n",
    "c.m2() # this is due to m1 method\n",
    "print()\n",
    "c.m3() # this is due to m1 method"
   ]
  },
  {
   "cell_type": "markdown",
   "id": "95ee39fc",
   "metadata": {
    "heading_collapsed": true,
    "hidden": true
   },
   "source": [
    "#### Case-3\n",
    "From child class, class method we cannot access parent class instance methods and constructors by using super() \n",
    "directly(but indirectly possible). But we can access parent class static and class methods."
   ]
  },
  {
   "cell_type": "code",
   "execution_count": 66,
   "id": "92f6c1c7",
   "metadata": {
    "hidden": true
   },
   "outputs": [
    {
     "name": "stdout",
     "output_type": "stream",
     "text": [
      "Parent class method\n",
      "Parent static method\n"
     ]
    }
   ],
   "source": [
    "class P:\n",
    "    def __init__(self):\n",
    "        print('Parent Constructor')\n",
    "    def m1(self):\n",
    "        print('Parent instance method')\n",
    "    @classmethod\n",
    "    def m2(cls):\n",
    "        print('Parent class method')\n",
    "    @staticmethod\n",
    "    def m3():\n",
    "        print('Parent static method')\n",
    "\n",
    "class C(P):\n",
    "    @classmethod\n",
    "    def m1(cls):\n",
    "        # super().__init__()  # Invalid\n",
    "        # super().m1()       # Invalid\n",
    "        super().m2()         # Valid\n",
    "        super().m3()         # Valid\n",
    "C.m1()"
   ]
  },
  {
   "cell_type": "markdown",
   "id": "47cba225",
   "metadata": {
    "heading_collapsed": true,
    "hidden": true
   },
   "source": [
    "#### Case-4\n",
    "\n",
    "From Class Method of Child Class, how to call Parent Class Instance Methods and Constructors"
   ]
  },
  {
   "cell_type": "code",
   "execution_count": 69,
   "id": "78d4c284",
   "metadata": {
    "hidden": true
   },
   "outputs": [
    {
     "name": "stdout",
     "output_type": "stream",
     "text": [
      "Parent constructor\n",
      "Parent instance method\n"
     ]
    }
   ],
   "source": [
    "class A:\n",
    "    def __init__(self):\n",
    "        print('Parent constructor')\n",
    "\n",
    "    def m1(self):\n",
    "        print('Parent instance method')\n",
    "\n",
    "class B(A):\n",
    "    @classmethod\n",
    "    def m2(cls):\n",
    "        super(B, cls).__init__(cls)\n",
    "        super(B, cls).m1(cls)\n",
    "\n",
    "\n",
    "B.m2()"
   ]
  },
  {
   "cell_type": "markdown",
   "id": "f61194be",
   "metadata": {
    "heading_collapsed": true,
    "hidden": true
   },
   "source": [
    "#### Case-5\n",
    "In child class static method we are not allowed to use super() generally (But in special way we can use)"
   ]
  },
  {
   "cell_type": "code",
   "execution_count": 73,
   "id": "e6cf7ffc",
   "metadata": {
    "hidden": true
   },
   "outputs": [
    {
     "name": "stdout",
     "output_type": "stream",
     "text": [
      "Parent class method\n",
      "Parent static method\n"
     ]
    }
   ],
   "source": [
    "class P:\n",
    "    def __init__(self):\n",
    "        print('Parent Constructor')\n",
    "    def m1(self):\n",
    "        print('Parent instance method')\n",
    "    @classmethod\n",
    "    def m2(cls):\n",
    "        print('Parent class method')\n",
    "    @staticmethod\n",
    "    def m3():\n",
    "        print('Parent static method')\n",
    "\n",
    "class C(P):\n",
    "    @staticmethod\n",
    "    def m1():\n",
    "        super(C,C).m2()  \n",
    "        super(C,C).m3() \n",
    "        pass\n",
    "\n",
    "C.m1()"
   ]
  },
  {
   "cell_type": "markdown",
   "id": "9dc09f9e",
   "metadata": {
    "hidden": true
   },
   "source": [
    "#### Case-6\n",
    "How to Call Parent Class Static Method from Child Class Static Method by using super()"
   ]
  },
  {
   "cell_type": "code",
   "execution_count": 8,
   "id": "fb2411d7",
   "metadata": {
    "hidden": true
   },
   "outputs": [
    {
     "name": "stdout",
     "output_type": "stream",
     "text": [
      "Parent static method\n"
     ]
    }
   ],
   "source": [
    "class A:\n",
    "    @staticmethod\n",
    "    def m1():\n",
    "        print('Parent static method')\n",
    "class B(A):\n",
    "    @staticmethod\n",
    "    def m2():\n",
    "        super(B, B).m1()\n",
    "\n",
    "B.m2()"
   ]
  },
  {
   "cell_type": "markdown",
   "id": "d23b4004",
   "metadata": {
    "heading_collapsed": true
   },
   "source": [
    "# Polymorphism"
   ]
  },
  {
   "cell_type": "markdown",
   "id": "f655c4c8",
   "metadata": {
    "hidden": true
   },
   "source": [
    "⚽ Poly means many. Morphs means forms. <br>\n",
    "⚽ Polymorphism means 'Many Forms'.<br>\n",
    "⚽ Thus One Name but multiple Forms is Polymorphism<br>\n",
    "\n",
    "Eg1 - Yourself is best example of polymorphism.In front of Your parents You will have one type of behaviour and with friends another type of behaviour.Same person but different behaviours at different places,which is nothing but polymorphism.<br>\n",
    "Eg2: + operator acts as concatenation and arithmetic addition <br>\n",
    "Eg3: * operator acts as multiplication and repetition operator<br>\n",
    "Eg4: The Same method with different implementations in Parent class and child classes.(overriding)<br>\n",
    "\n",
    "Related to Polymorphism the following **4 topics** are important<br>\n",
    "1) Duck Typing Philosophy of Python<br>\n",
    "2) Overloading <br>\n",
    "$\\;\\;\\;\\;\\;\\;$a) Operator Overloading <br>\n",
    "$\\;\\;\\;\\;\\;\\;$b) Method Overloading <br>\n",
    "$\\;\\;\\;\\;\\;\\;$c) Constructor Overloading<br>\n",
    "3) Overriding <br>\n",
    "$\\;\\;\\;\\;\\;\\;$a) Method Overriding <br>\n",
    "$\\;\\;\\;\\;\\;\\;$b) Constructor Overriding<br>"
   ]
  },
  {
   "cell_type": "markdown",
   "id": "0a71e009",
   "metadata": {
    "hidden": true
   },
   "source": [
    "A boy start Love with the word Friendship <br>\n",
    "A girl end Love with the word Friendship<br>\n",
    "The word is same but the purpose is different. <br>\n",
    "This beautiful concept in OOPs is polymorphism."
   ]
  },
  {
   "cell_type": "markdown",
   "id": "a79d598d",
   "metadata": {
    "heading_collapsed": true,
    "hidden": true
   },
   "source": [
    "## Overloading\n",
    "We can use same operator or methods for different purposes.<br>\n",
    "Eg 1: + operator can be used for Arithmetic addition and String concatenation print(10+20)#30 print('durga'+'soft')#durgasoft<br>\n",
    "Eg 2: * operator can be used for multiplication and string repetition purposes. print(10*20)#200 print('durga'*3)#durgadurgadurga<br>\n",
    "Eg 3: We can use deposit() method to deposit cash or cheque or dd deposit(cash) deposit(cheque) deposit(dd)<br>"
   ]
  },
  {
   "cell_type": "markdown",
   "id": "8711bc50",
   "metadata": {
    "heading_collapsed": true,
    "hidden": true
   },
   "source": [
    "### Operator Overloading\n",
    "⚽ We can use the same operator for multiple purposes, which is nothing but operator overloading.<br> \n",
    "⚽ Python supports operator overloading with help of **magic methods** <br>\n",
    "Eg 1: + operator can be used for Arithmetic addition and String concatenation print(10+20)#30 print('durga'+'soft')#durgasoft <br>\n",
    "Eg 2: * operator can be used for multiplication and string repetition purposes. print(10*20)#200 print('durga'*3)#durgadurgadurga<br>"
   ]
  },
  {
   "cell_type": "markdown",
   "id": "123d095c",
   "metadata": {
    "heading_collapsed": true,
    "hidden": true,
    "hide_input": true
   },
   "source": [
    "#### List of operators and corresponding magic methods."
   ]
  },
  {
   "cell_type": "code",
   "execution_count": null,
   "id": "7fe648b1",
   "metadata": {
    "hidden": true
   },
   "outputs": [],
   "source": [
    "Arithmetic Operators:\n",
    "\n",
    "Addition: __add__(self, other)\n",
    "Subtraction: __sub__(self, other)\n",
    "Multiplication: __mul__(self, other)\n",
    "Division: __div__(self, other) (Python 2), __truediv__(self, other) (Python 3)\n",
    "Floor Division: __floordiv__(self, other)\n",
    "Modulo: __mod__(self, other)\n",
    "Exponentiation: __pow__(self, other)\n",
    "Unary Negation: __neg__(self)\n",
    "Unary Positive: __pos__(self)\n",
    "Absolute Value: __abs__(self)\n",
    "Comparison Operators:\n",
    "\n",
    "Equality: __eq__(self, other)\n",
    "Inequality: __ne__(self, other)\n",
    "Less than: __lt__(self, other)\n",
    "Less than or equal to: __le__(self, other)\n",
    "Greater than: __gt__(self, other)\n",
    "Greater than or equal to: __ge__(self, other)\n",
    "Assignment Operators:\n",
    "\n",
    "Assignment: __setitem__(self, key, value)\n",
    "Augmented Addition: __iadd__(self, other)\n",
    "Augmented Subtraction: __isub__(self, other)\n",
    "Augmented Multiplication: __imul__(self, other)\n",
    "Augmented Division: __idiv__(self, other) (Python 2), __itruediv__(self, other) (Python 3)\n",
    "Augmented Floor Division: __ifloordiv__(self, other)\n",
    "Augmented Modulo: __imod__(self, other)\n",
    "Augmented Exponentiation: __ipow__(self, other)\n",
    "String Representation:\n",
    "\n",
    "String conversion: __str__(self)\n",
    "Object representation: __repr__(self)\n",
    "Indexing and Slicing:\n",
    "\n",
    "Indexing: __getitem__(self, key)\n",
    "Setting value by index: __setitem__(self, key, value)\n",
    "Deleting value by index: __delitem__(self, key)\n",
    "Slicing: __getitem__(self, slice)\n",
    "Callable Objects:\n",
    "\n",
    "Function call: __call__(self, *args, **kwargs)\n",
    "Context Managers:\n",
    "\n",
    "Enter a context: __enter__(self)\n",
    "Exit a context: __exit__(self, exc_type, exc_value, traceback)"
   ]
  },
  {
   "cell_type": "markdown",
   "id": "3247bd4f",
   "metadata": {
    "heading_collapsed": true,
    "hidden": true
   },
   "source": [
    "#### Example1\n",
    "⚽ We can overload + operator to work with Book objects also. i.e Python supports Operator Overloading. <br>\n",
    "⚽ For every operator Magic Methods are available. To overload any operator we have to override that Method in our class. <br>\n",
    "⚽ Internally + operator is implemented by using ___add ___() method.This method is called magic method for + operator. We have to override this method in our class.<br>"
   ]
  },
  {
   "cell_type": "code",
   "execution_count": 74,
   "id": "5a7a54cd",
   "metadata": {
    "hidden": true
   },
   "outputs": [
    {
     "ename": "TypeError",
     "evalue": "unsupported operand type(s) for +: 'Book' and 'Book'",
     "output_type": "error",
     "traceback": [
      "\u001b[1;31m---------------------------------------------------------------------------\u001b[0m",
      "\u001b[1;31mTypeError\u001b[0m                                 Traceback (most recent call last)",
      "\u001b[1;32m~\\AppData\\Local\\Temp\\ipykernel_36032\\216161622.py\u001b[0m in \u001b[0;36m<module>\u001b[1;34m\u001b[0m\n\u001b[0;32m      4\u001b[0m \u001b[0mb1\u001b[0m \u001b[1;33m=\u001b[0m \u001b[0mBook\u001b[0m\u001b[1;33m(\u001b[0m\u001b[1;36m100\u001b[0m\u001b[1;33m)\u001b[0m\u001b[1;33m\u001b[0m\u001b[1;33m\u001b[0m\u001b[0m\n\u001b[0;32m      5\u001b[0m \u001b[0mb2\u001b[0m \u001b[1;33m=\u001b[0m \u001b[0mBook\u001b[0m\u001b[1;33m(\u001b[0m\u001b[1;36m200\u001b[0m\u001b[1;33m)\u001b[0m\u001b[1;33m\u001b[0m\u001b[1;33m\u001b[0m\u001b[0m\n\u001b[1;32m----> 6\u001b[1;33m \u001b[0mprint\u001b[0m\u001b[1;33m(\u001b[0m\u001b[0mb1\u001b[0m \u001b[1;33m+\u001b[0m \u001b[0mb2\u001b[0m\u001b[1;33m)\u001b[0m\u001b[1;33m\u001b[0m\u001b[1;33m\u001b[0m\u001b[0m\n\u001b[0m",
      "\u001b[1;31mTypeError\u001b[0m: unsupported operand type(s) for +: 'Book' and 'Book'"
     ]
    }
   ],
   "source": [
    "# here b1 and b2 is object and not integer\n",
    "class Book:\n",
    "    def __init__(self, pages):\n",
    "        self.pages = pages\n",
    "b1 = Book(100)\n",
    "b2 = Book(200)\n",
    "print(b1 + b2)\n"
   ]
  },
  {
   "cell_type": "markdown",
   "id": "43d584e4",
   "metadata": {
    "heading_collapsed": true,
    "hidden": true
   },
   "source": [
    "#### Example2 - Demo Program to Overload + Operator for Our Book Class Objects"
   ]
  },
  {
   "cell_type": "code",
   "execution_count": 75,
   "id": "87a0fbb2",
   "metadata": {
    "hidden": true
   },
   "outputs": [
    {
     "name": "stdout",
     "output_type": "stream",
     "text": [
      "The Total Number of Pages: 300\n"
     ]
    }
   ],
   "source": [
    "'''\n",
    "As soon as b1+b2 is done, piython virtual m/c will check corrosponding class for aa magic method\n",
    "If magic method is present it will be executed\n",
    "'''\n",
    "class Book:\n",
    "    def __init__(self, pages):\n",
    "        self.pages = pages\n",
    "    \n",
    "    def __add__(self, other): #here self = b1 i.e. first object and b2 goes others\n",
    "        return self.pages + other.pages\n",
    "\n",
    "b1 = Book(100)\n",
    "b2 = Book(200)\n",
    "print('The Total Number of Pages:', b1 + b2)\n"
   ]
  },
  {
   "cell_type": "markdown",
   "id": "1f7bfbfc",
   "metadata": {
    "heading_collapsed": true,
    "hidden": true
   },
   "source": [
    "#### Overloading > and <= Operators for Student Class Objects"
   ]
  },
  {
   "cell_type": "code",
   "execution_count": 76,
   "id": "19159876",
   "metadata": {
    "hidden": true
   },
   "outputs": [
    {
     "name": "stdout",
     "output_type": "stream",
     "text": [
      "10 > 20 = False\n",
      "s1 > s2 = False\n",
      "s1 < s2 = True\n",
      "s1 <= s2 = True\n",
      "s1 >= s2 = False\n"
     ]
    }
   ],
   "source": [
    "class Student:\n",
    "    def __init__(self, name, marks):\n",
    "        self.name = name\n",
    "        self.marks = marks\n",
    "    def __gt__(self, other):\n",
    "        return self.marks > other.marks\n",
    "    def __le__(self, other):\n",
    "        return self.marks <= other.marks\n",
    "\n",
    "print(\"10 > 20 =\", 10 > 20)\n",
    "s1 = Student(\"Durga\", 100)\n",
    "s2 = Student(\"Ravi\", 200)\n",
    "print(\"s1 > s2 =\", s1 > s2)\n",
    "print(\"s1 < s2 =\", s1 < s2)\n",
    "print(\"s1 <= s2 =\", s1 <= s2)\n",
    "print(\"s1 >= s2 =\", s1 >= s2)"
   ]
  },
  {
   "cell_type": "markdown",
   "id": "f50275f8",
   "metadata": {
    "heading_collapsed": true,
    "hidden": true
   },
   "source": [
    "#### Program to Overload Multiplication Operator to Work on Employee Objects"
   ]
  },
  {
   "cell_type": "code",
   "execution_count": 79,
   "id": "da27a2a4",
   "metadata": {
    "hidden": true
   },
   "outputs": [
    {
     "name": "stdout",
     "output_type": "stream",
     "text": [
      "This Month Salary: 12500\n"
     ]
    },
    {
     "ename": "TypeError",
     "evalue": "unsupported operand type(s) for *: 'TimeSheet' and 'Employee'",
     "output_type": "error",
     "traceback": [
      "\u001b[1;31m---------------------------------------------------------------------------\u001b[0m",
      "\u001b[1;31mTypeError\u001b[0m                                 Traceback (most recent call last)",
      "\u001b[1;32m~\\AppData\\Local\\Temp\\ipykernel_36032\\2646265467.py\u001b[0m in \u001b[0;36m<module>\u001b[1;34m\u001b[0m\n\u001b[0;32m     14\u001b[0m \u001b[0mt\u001b[0m \u001b[1;33m=\u001b[0m \u001b[0mTimeSheet\u001b[0m\u001b[1;33m(\u001b[0m\u001b[1;34m'Durga'\u001b[0m\u001b[1;33m,\u001b[0m \u001b[1;36m25\u001b[0m\u001b[1;33m)\u001b[0m\u001b[1;33m\u001b[0m\u001b[1;33m\u001b[0m\u001b[0m\n\u001b[0;32m     15\u001b[0m \u001b[0mprint\u001b[0m\u001b[1;33m(\u001b[0m\u001b[1;34m'This Month Salary:'\u001b[0m\u001b[1;33m,\u001b[0m \u001b[0me\u001b[0m \u001b[1;33m*\u001b[0m \u001b[0mt\u001b[0m\u001b[1;33m)\u001b[0m\u001b[1;33m\u001b[0m\u001b[1;33m\u001b[0m\u001b[0m\n\u001b[1;32m---> 16\u001b[1;33m \u001b[0mprint\u001b[0m\u001b[1;33m(\u001b[0m\u001b[1;34m'This Month Salary:'\u001b[0m\u001b[1;33m,\u001b[0m \u001b[0mt\u001b[0m \u001b[1;33m*\u001b[0m \u001b[0me\u001b[0m\u001b[1;33m)\u001b[0m\u001b[1;33m\u001b[0m\u001b[1;33m\u001b[0m\u001b[0m\n\u001b[0m",
      "\u001b[1;31mTypeError\u001b[0m: unsupported operand type(s) for *: 'TimeSheet' and 'Employee'"
     ]
    }
   ],
   "source": [
    "class Employee:\n",
    "    def __init__(self, name, salary):\n",
    "        self.name = name\n",
    "        self.salary = salary\n",
    "    def __mul__(self, other):\n",
    "        return self.salary * other.days\n",
    "\n",
    "class TimeSheet:\n",
    "    def __init__(self, name, days):\n",
    "        self.name = name\n",
    "        self.days = days\n",
    "\n",
    "e = Employee('Durga', 500)\n",
    "t = TimeSheet('Durga', 25)\n",
    "print('This Month Salary:', e * t)\n",
    "print('This Month Salary:', t * e) #will give error as t doesnot have magic method"
   ]
  },
  {
   "cell_type": "markdown",
   "id": "f0330c6c",
   "metadata": {
    "heading_collapsed": true,
    "hidden": true
   },
   "source": [
    "#### Importance of str method\n",
    "\n",
    "If we are not implementing str method, while printing string we will not get error but will get result as in example 1.<br>\n",
    "To get a meaningful response we would need a string magic function implemented."
   ]
  },
  {
   "cell_type": "code",
   "execution_count": 86,
   "id": "5cef241c",
   "metadata": {
    "hidden": true
   },
   "outputs": [
    {
     "name": "stdout",
     "output_type": "stream",
     "text": [
      "<__main__.student object at 0x00000198C1D9C190>\n",
      "<__main__.student object at 0x00000198C1243880>\n"
     ]
    }
   ],
   "source": [
    "# example 1\n",
    "class student:\n",
    "    def __init__(self, name, rollno, marks):\n",
    "        self.name = name\n",
    "        self.rollno = rollno\n",
    "        self.marks = marks\n",
    "\n",
    "s1 = student('Durga', 10, 20)\n",
    "s2 = student('Ram', 30, 80)\n",
    "print(s1)\n",
    "print(s2)"
   ]
  },
  {
   "cell_type": "code",
   "execution_count": 94,
   "id": "36e4b033",
   "metadata": {
    "hidden": true
   },
   "outputs": [
    {
     "name": "stdout",
     "output_type": "stream",
     "text": [
      "Durga\n",
      "Ram\n"
     ]
    }
   ],
   "source": [
    "# example  - this will only give string i.e. name, but if we want everything in object then\n",
    "class student:\n",
    "    def __init__(self, name, rollno, marks):\n",
    "        self.name = name\n",
    "        self.rollno = rollno\n",
    "        self.marks = marks\n",
    "    def __str__(self):\n",
    "        return self.name\n",
    "\n",
    "s1 = student('Durga', 10, 20)\n",
    "s2 = student('Ram', 30, 80)\n",
    "print(s1)\n",
    "print(s2)"
   ]
  },
  {
   "cell_type": "code",
   "execution_count": 95,
   "id": "675849de",
   "metadata": {
    "hidden": true
   },
   "outputs": [
    {
     "name": "stdout",
     "output_type": "stream",
     "text": [
      "Name: Durga, Rollno: 10, Marks: 20\n",
      "Name: Ram, Rollno: 30, Marks: 80\n"
     ]
    }
   ],
   "source": [
    "# example 3 - this will give all values\n",
    "class student:\n",
    "    def __init__(self, name, rollno, marks):\n",
    "        self.name = name\n",
    "        self.rollno = rollno\n",
    "        self.marks = marks\n",
    "    def __str__(self):\n",
    "        return 'Name: {}, Rollno: {}, Marks: {}'.format(self.name, self.rollno, self.marks)\n",
    "\n",
    "s1 = student('Durga', 10, 20)\n",
    "s2 = student('Ram', 30, 80)\n",
    "print(s1)\n",
    "print(s2)"
   ]
  },
  {
   "cell_type": "markdown",
   "id": "2bb887b3",
   "metadata": {
    "heading_collapsed": true,
    "hidden": true
   },
   "source": [
    "#### Operator overloading for nesting requirments\n",
    "\n",
    "Below will be executed in presidence order i.e. multiplication > addition"
   ]
  },
  {
   "cell_type": "code",
   "execution_count": 98,
   "id": "a74103c2",
   "metadata": {
    "hidden": true
   },
   "outputs": [
    {
     "name": "stdout",
     "output_type": "stream",
     "text": [
      "mul method executed...\n",
      "add method executed...\n",
      "add method executed...\n",
      "The Total Number of Pages: 100700\n",
      "\n",
      "mul method executed...\n",
      "mul method executed...\n",
      "add method executed...\n",
      "The Total Number of Pages: 320000\n"
     ]
    }
   ],
   "source": [
    "class Book:\n",
    "\tdef __init__(self,pages):\n",
    "\t\tself.pages=pages\n",
    "\tdef __add__(self,other):\n",
    "\t\tprint('add method executed...')\n",
    "\t\treturn Book(self.pages+other.pages)\n",
    "\tdef __str__(self):\n",
    "\t\treturn 'The Total Number of Pages: {}'.format(self.pages)\n",
    "\tdef __mul__(self,other):\n",
    "\t\tprint('mul method executed...')\n",
    "\t\treturn Book(self.pages*other.pages)\n",
    "\n",
    "\n",
    "b1=Book(100)\n",
    "b2=Book(200)\n",
    "b3=Book(500)\n",
    "b4=Book(600)\n",
    "print(b1+b2*b3+b4)\n",
    "print()\n",
    "print(b1*b2+b3*b4)"
   ]
  },
  {
   "cell_type": "markdown",
   "id": "fb6e7c09",
   "metadata": {
    "heading_collapsed": true,
    "hidden": true
   },
   "source": [
    "### Method Overloading"
   ]
  },
  {
   "cell_type": "markdown",
   "id": "81782a08",
   "metadata": {
    "hidden": true
   },
   "source": [
    "⚽ If 2 methods having same name but different type of arguments then those methods are said to be overloaded methods.<br> \n",
    "Eg: m1(int a) <br>\n",
    "$\\;\\;\\;\\;\\;$m1(double d)<br>\n",
    "⚽ But in Python Method overloading is not possible. <br>\n",
    "⚽ If we are trying to declare multiple methods with same name and different number of arguments then Python will always consider only last method."
   ]
  },
  {
   "cell_type": "markdown",
   "id": "c7e6decf",
   "metadata": {
    "hidden": true
   },
   "source": [
    "**Why Python doesnot support method over loading but Java syupports?**<br>\n",
    "Because in Java inside a method, we have to explicitely define the type of argument i.e. int, string etc. Python has flexibility of not defyning the argument type."
   ]
  },
  {
   "cell_type": "code",
   "execution_count": 99,
   "id": "738b03de",
   "metadata": {
    "hidden": true
   },
   "outputs": [
    {
     "name": "stdout",
     "output_type": "stream",
     "text": [
      "two-arg method\n"
     ]
    }
   ],
   "source": [
    "# last method is called\n",
    "class Test:\n",
    "    def m1(self):\n",
    "        print('no-arg method')\n",
    "    def m1(self, a):\n",
    "        print('one-arg method')\n",
    "    def m1(self, a, b):\n",
    "        print('two-arg method')\n",
    "\n",
    "t = Test()\n",
    "# t.m1()  # Uncomment this line to invoke the no-arg method\n",
    "# t.m1(10)  # Uncomment this line to invoke the one-arg method\n",
    "t.m1(10, 20)  # Invoke the two-arg method with arguments 10 and 20"
   ]
  },
  {
   "cell_type": "markdown",
   "id": "ae390ee7",
   "metadata": {
    "heading_collapsed": true,
    "hidden": true
   },
   "source": [
    "#### How we can handle Overloaded Method Requirements in Python\n",
    "Most of the times, if method with variable number of arguments required then we can handle with default arguments or with variable number of argument methods."
   ]
  },
  {
   "cell_type": "code",
   "execution_count": 100,
   "id": "41d72b08",
   "metadata": {
    "hidden": true
   },
   "outputs": [
    {
     "name": "stdout",
     "output_type": "stream",
     "text": [
      "The Sum of 2 Numbers: 30\n",
      "The Sum of 3 Numbers: 60\n",
      "Please provide 2 or 3 arguments\n"
     ]
    }
   ],
   "source": [
    "#Example1 - Demo Program with Default Arguments\n",
    "class Test:\n",
    "    def sum(self, a=None, b=None, c=None):\n",
    "        if a is not None and b is not None and c is not None:\n",
    "            print('The Sum of 3 Numbers:', a + b + c)\n",
    "        elif a is not None and b is not None:\n",
    "            print('The Sum of 2 Numbers:', a + b)\n",
    "        else:\n",
    "            print('Please provide 2 or 3 arguments')\n",
    "\n",
    "t = Test()\n",
    "t.sum(10, 20)\n",
    "t.sum(10, 20, 30)\n",
    "t.sum(10)"
   ]
  },
  {
   "cell_type": "code",
   "execution_count": 101,
   "id": "f8263de4",
   "metadata": {
    "hidden": true
   },
   "outputs": [
    {
     "name": "stdout",
     "output_type": "stream",
     "text": [
      "The Sum: 30\n",
      "The Sum: 60\n",
      "The Sum: 10\n",
      "The Sum: 0\n"
     ]
    }
   ],
   "source": [
    "#Example2 - Demo Program with Variable Number of Arguments\n",
    "class Test:\n",
    "    def sum(self, *args):\n",
    "        total = 0\n",
    "        for x in a:\n",
    "            total = total + x\n",
    "        print('The Sum:', total)\n",
    "\n",
    "t = Test()\n",
    "t.sum(10, 20)\n",
    "t.sum(10, 20, 30)\n",
    "t.sum(10)\n",
    "t.sum()"
   ]
  },
  {
   "cell_type": "code",
   "execution_count": 107,
   "id": "988babfc",
   "metadata": {
    "hidden": true
   },
   "outputs": [
    {
     "name": "stdout",
     "output_type": "stream",
     "text": [
      "int-argument method\n",
      "float-argument method\n",
      "str-argument method\n"
     ]
    }
   ],
   "source": [
    "#Example3 - Using x.__class__.__name__\n",
    "# using this command we can find the argument type of the object\n",
    "\n",
    "class Test:  # Class name should start with an uppercase letter\n",
    "\n",
    "    def m1(self, x):\n",
    "        print('{}-argument method'.format(x.__class__.__name__))\n",
    "\n",
    "t1 = Test()  \n",
    "t2 = Test()\n",
    "t3 = Test()\n",
    "t1.m1(10)  \n",
    "t2.m1(10.5)\n",
    "t3.m1('durga')"
   ]
  },
  {
   "cell_type": "markdown",
   "id": "1009cf2c",
   "metadata": {
    "heading_collapsed": true,
    "hidden": true
   },
   "source": [
    "### Constructor Overloading"
   ]
  },
  {
   "cell_type": "markdown",
   "id": "708528a2",
   "metadata": {
    "hidden": true
   },
   "source": [
    "⚽ Constructor overloading is not possible in Python.<br> \n",
    "⚽ If we define multiple constructors then the last constructor will be considered."
   ]
  },
  {
   "cell_type": "markdown",
   "id": "0af809ef",
   "metadata": {
    "heading_collapsed": true,
    "hidden": true
   },
   "source": [
    "#### Basic Example"
   ]
  },
  {
   "cell_type": "code",
   "execution_count": 110,
   "id": "6abb97be",
   "metadata": {
    "hidden": true
   },
   "outputs": [
    {
     "name": "stdout",
     "output_type": "stream",
     "text": [
      "Two-Arg constructor\n"
     ]
    }
   ],
   "source": [
    "'''\n",
    "In the above program only Two-Arg Constructor is available. \n",
    "But based on our requirement we can declare constructor with default arguments and variable number of arguments.\n",
    "'''\n",
    "class Test:\n",
    "    def __init__(self):\n",
    "        print('No-Arg Constructor')\n",
    "    def __init__(self, a):\n",
    "        print('One-Arg constructor')\n",
    "    def __init__(self, a, b):\n",
    "        print('Two-Arg constructor')\n",
    "\n",
    "# t1 = Test()\n",
    "# t1 = Test(10)\n",
    "t1 = Test(10, 20)"
   ]
  },
  {
   "cell_type": "code",
   "execution_count": 111,
   "id": "cdc4e48f",
   "metadata": {
    "hidden": true
   },
   "outputs": [
    {
     "ename": "TypeError",
     "evalue": "__init__() missing 1 required positional argument: 'b'",
     "output_type": "error",
     "traceback": [
      "\u001b[1;31m---------------------------------------------------------------------------\u001b[0m",
      "\u001b[1;31mTypeError\u001b[0m                                 Traceback (most recent call last)",
      "\u001b[1;32m~\\AppData\\Local\\Temp\\ipykernel_36032\\521793333.py\u001b[0m in \u001b[0;36m<module>\u001b[1;34m\u001b[0m\n\u001b[0;32m     10\u001b[0m \u001b[1;31m# t1 = Test()\u001b[0m\u001b[1;33m\u001b[0m\u001b[1;33m\u001b[0m\u001b[0m\n\u001b[0;32m     11\u001b[0m \u001b[1;31m# t1 = Test(10)\u001b[0m\u001b[1;33m\u001b[0m\u001b[1;33m\u001b[0m\u001b[0m\n\u001b[1;32m---> 12\u001b[1;33m \u001b[0mt1\u001b[0m \u001b[1;33m=\u001b[0m \u001b[0mTest\u001b[0m\u001b[1;33m(\u001b[0m\u001b[1;36m10\u001b[0m\u001b[1;33m)\u001b[0m\u001b[1;33m\u001b[0m\u001b[1;33m\u001b[0m\u001b[0m\n\u001b[0m",
      "\u001b[1;31mTypeError\u001b[0m: __init__() missing 1 required positional argument: 'b'"
     ]
    }
   ],
   "source": [
    "# Trying to call 2nd constructor will result in error\n",
    "class Test:\n",
    "    def __init__(self):\n",
    "        print('No-Arg Constructor')\n",
    "    def __init__(self, a):\n",
    "        print('One-Arg constructor')\n",
    "    def __init__(self, a, b):\n",
    "        print('Two-Arg constructor')\n",
    "\n",
    "# t1 = Test()\n",
    "# t1 = Test(10)\n",
    "t1 = Test(10)"
   ]
  },
  {
   "cell_type": "markdown",
   "id": "81c297c2",
   "metadata": {
    "heading_collapsed": true,
    "hidden": true
   },
   "source": [
    "#### Constructor with Default Arguments\n",
    "How to pass multiple/variable number of argument"
   ]
  },
  {
   "cell_type": "code",
   "execution_count": 112,
   "id": "e08d8f23",
   "metadata": {
    "hidden": true
   },
   "outputs": [
    {
     "name": "stdout",
     "output_type": "stream",
     "text": [
      "Constructor with 0|1|2|3 number of arguments\n",
      "Constructor with 0|1|2|3 number of arguments\n",
      "Constructor with 0|1|2|3 number of arguments\n",
      "Constructor with 0|1|2|3 number of arguments\n"
     ]
    }
   ],
   "source": [
    "class Test:\n",
    "    def __init__(self, a=None, b=None, c=None):\n",
    "        print('Constructor with 0|1|2|3 number of arguments')\n",
    "\n",
    "t1 = Test()\n",
    "t2 = Test(10)\n",
    "t3 = Test(10, 20)\n",
    "t4 = Test(10, 20, 30)"
   ]
  },
  {
   "cell_type": "markdown",
   "id": "70cbf0a4",
   "metadata": {
    "hidden": true
   },
   "source": [
    "#### Constructor with Variable Number of Arguments"
   ]
  },
  {
   "cell_type": "code",
   "execution_count": 113,
   "id": "11891ee0",
   "metadata": {
    "hidden": true
   },
   "outputs": [
    {
     "name": "stdout",
     "output_type": "stream",
     "text": [
      "Constructor with variable number of arguments\n",
      "Constructor with variable number of arguments\n",
      "Constructor with variable number of arguments\n",
      "Constructor with variable number of arguments\n",
      "Constructor with variable number of arguments\n"
     ]
    }
   ],
   "source": [
    "class Test:\n",
    "    def __init__(self, *args):\n",
    "        print('Constructor with variable number of arguments')\n",
    "\n",
    "t1 = Test()\n",
    "t2 = Test(10)\n",
    "t3 = Test(10, 20)\n",
    "t4 = Test(10, 20, 30)\n",
    "t5 = Test(10, 20, 30, 40, 50, 60)"
   ]
  },
  {
   "cell_type": "markdown",
   "id": "fa99a525",
   "metadata": {
    "heading_collapsed": true,
    "hidden": true
   },
   "source": [
    "### Comparision b/w Java & Python\n",
    "\n",
    "| Comment | Java | Python |\n",
    "|---------|------|--------|\n",
    "|   Operator Overloading      |   No |   Yes     |\n",
    "|   Method Overloading     |  Yes    |   No     |\n",
    "|   Constructor Overloading     | Yes     |  No      |"
   ]
  },
  {
   "cell_type": "markdown",
   "id": "e6e3820e",
   "metadata": {
    "heading_collapsed": true,
    "hidden": true
   },
   "source": [
    "## Overriding\n",
    "⚽ Whatever members present in parent class are by default available to the child class through inheritance. Sometimes child class may not satisfy with Parent class implementation, then child class is allowed to redefine that method based on its requirement. This is **overriding**.<br>\n",
    "⚽ Overiding concept is available for method and constructor."
   ]
  },
  {
   "cell_type": "markdown",
   "id": "48853007",
   "metadata": {
    "heading_collapsed": true,
    "hidden": true
   },
   "source": [
    "### Method Overriding"
   ]
  },
  {
   "cell_type": "code",
   "execution_count": 117,
   "id": "ed2c8daf",
   "metadata": {
    "hidden": true
   },
   "outputs": [
    {
     "name": "stdout",
     "output_type": "stream",
     "text": [
      "Land+Gold+Cash+Power\n",
      "Family friend daughter\n"
     ]
    }
   ],
   "source": [
    "class parent:\n",
    "    def property(self):\n",
    "        print('Land+Gold+Cash+Power')\n",
    "    def marry(self):\n",
    "        print('Family friend daughter')\n",
    "\n",
    "class child(parent):\n",
    "    pass\n",
    "c = child()\n",
    "c.property()\n",
    "c.marry()\n",
    "\n",
    "# child is satisfied with property method but not with marry method."
   ]
  },
  {
   "cell_type": "code",
   "execution_count": 125,
   "id": "2edca706",
   "metadata": {
    "hidden": true
   },
   "outputs": [
    {
     "name": "stdout",
     "output_type": "stream",
     "text": [
      "Land+Gold+Cash+Power\n",
      "Girl friend\n"
     ]
    }
   ],
   "source": [
    "# here we override parent marry function.\n",
    "class parent:\n",
    "    def property(self):\n",
    "        print('Land+Gold+Cash+Power')\n",
    "    def marry(self):\n",
    "        print('Family friend daughter')\n",
    "\n",
    "class child(parent):\n",
    "    def marry(self): # this method is overriding\n",
    "        print('Girl friend')\n",
    "c = child()\n",
    "c.property()\n",
    "c.marry()"
   ]
  },
  {
   "cell_type": "code",
   "execution_count": 124,
   "id": "dee8fc3b",
   "metadata": {
    "hidden": true
   },
   "outputs": [
    {
     "name": "stdout",
     "output_type": "stream",
     "text": [
      "Land+Gold+Cash+Power\n",
      "Family friend daughter\n",
      "Girl friend\n"
     ]
    }
   ],
   "source": [
    "# if parent forces to pass its own marry method but child still passes its marry method\n",
    "class parent:\n",
    "    def property(self):\n",
    "        print('Land+Gold+Cash+Power')\n",
    "    def marry(self):\n",
    "        print('Family friend daughter')\n",
    "\n",
    "class child(parent):\n",
    "    def marry(self):\n",
    "        super().marry()\n",
    "        print('Girl friend')\n",
    "c = child()\n",
    "c.property()\n",
    "c.marry()"
   ]
  },
  {
   "cell_type": "markdown",
   "id": "30b183aa",
   "metadata": {
    "heading_collapsed": true,
    "hidden": true
   },
   "source": [
    "### Constructor Overriding"
   ]
  },
  {
   "cell_type": "code",
   "execution_count": 128,
   "id": "bdca0778",
   "metadata": {
    "hidden": true
   },
   "outputs": [
    {
     "name": "stdout",
     "output_type": "stream",
     "text": [
      "Parent Constructor\n"
     ]
    }
   ],
   "source": [
    "# If child doenot has a constructor then parent class constructor get executed\n",
    "class P:\n",
    "    def __init__(self):\n",
    "        print('Parent Constructor')\n",
    "class C(P):\n",
    "        pass\n",
    "\n",
    "c = C()  \n"
   ]
  },
  {
   "cell_type": "code",
   "execution_count": 130,
   "id": "b44cfa0e",
   "metadata": {
    "hidden": true
   },
   "outputs": [
    {
     "name": "stdout",
     "output_type": "stream",
     "text": [
      "Child Constructor\n"
     ]
    }
   ],
   "source": [
    "# If child has constructor then it will be executed\n",
    "class P:\n",
    "    def __init__(self):\n",
    "        print('Parent Constructor')\n",
    "class C(P):\n",
    "    def __init__(self):\n",
    "        print('Child Constructor')\n",
    "\n",
    "c = C()  "
   ]
  },
  {
   "cell_type": "code",
   "execution_count": 132,
   "id": "5e247f4f",
   "metadata": {
    "hidden": true
   },
   "outputs": [
    {
     "name": "stdout",
     "output_type": "stream",
     "text": [
      "Parent Constructor\n",
      "Child Constructor\n"
     ]
    }
   ],
   "source": [
    "# Execute both parent and child constructor using super\n",
    "class P:\n",
    "    def __init__(self):\n",
    "        print('Parent Constructor')\n",
    "class C(P):\n",
    "    def __init__(self):\n",
    "        super().__init__()  # Call parent's constructor\n",
    "        print('Child Constructor')\n",
    "\n",
    "c = C()  \n",
    "'''\n",
    "In the above example,if child class does not contain constructor then parent class constructor will be executed\n",
    "From child class constuctor we can call parent class constructor by using super().\n",
    "'''"
   ]
  },
  {
   "cell_type": "markdown",
   "id": "02cf096b",
   "metadata": {
    "heading_collapsed": true,
    "hidden": true
   },
   "source": [
    "#### Call Parent Class Constructor by using super()"
   ]
  },
  {
   "cell_type": "code",
   "execution_count": 133,
   "id": "838640df",
   "metadata": {
    "hidden": true
   },
   "outputs": [
    {
     "name": "stdout",
     "output_type": "stream",
     "text": [
      "Employee Name: Durga\n",
      "Employee Age: 48\n",
      "Employee Number: 872425\n",
      "Employee Salary: 26000\n",
      "Employee Name: Sunny\n",
      "Employee Age: 39\n",
      "Employee Number: 872426\n",
      "Employee Salary: 36000\n"
     ]
    }
   ],
   "source": [
    "class Person:\n",
    "    def __init__(self, name, age):\n",
    "        self.name = name\n",
    "        self.age = age\n",
    "\n",
    "class Employee(Person):\n",
    "    def __init__(self, name, age, eno, esal):\n",
    "        super().__init__(name, age)\n",
    "        self.eno = eno\n",
    "        self.esal = esal\n",
    "    def display(self):\n",
    "        print('Employee Name:', self.name)\n",
    "        print('Employee Age:', self.age)\n",
    "        print('Employee Number:', self.eno)\n",
    "        print('Employee Salary:', self.esal)\n",
    "\n",
    "e1 = Employee('Durga', 48, 872425, 26000)\n",
    "e1.display()\n",
    "\n",
    "e2 = Employee('Sunny', 39, 872426, 36000)\n",
    "e2.display()"
   ]
  },
  {
   "cell_type": "markdown",
   "id": "c19817a8",
   "metadata": {
    "heading_collapsed": true
   },
   "source": [
    "# Abstraction"
   ]
  },
  {
   "cell_type": "markdown",
   "id": "f1b0c777",
   "metadata": {
    "hidden": true
   },
   "source": [
    "Something which is not complete. Just abstract."
   ]
  },
  {
   "cell_type": "markdown",
   "id": "81fcb093",
   "metadata": {
    "heading_collapsed": true,
    "hidden": true
   },
   "source": [
    "## Abstract Method"
   ]
  },
  {
   "cell_type": "markdown",
   "id": "4c1b6439",
   "metadata": {
    "hidden": true
   },
   "source": [
    "⚽ Sometimes we don't know about implementation, still we can declare a method. Such types of methods are called abstract methods.i.e abstract method has only declaration but not implementation. <br>\n",
    "⚽ In python we can declare abstract method by using **@abstractmethod** decorator as follows.<br>\n",
    "\n",
    "**Syntex:**<br>\n",
    "@abstractmethod <br>\n",
    "def m1(self): pass <br>\n",
    "\n",
    "⚽ The method which has only declaration but not implementation (i.e. empty implementation)"
   ]
  },
  {
   "cell_type": "code",
   "execution_count": 135,
   "id": "be056e32",
   "metadata": {
    "hidden": true
   },
   "outputs": [],
   "source": [
    "# Abstract Method - Only declaration no implimentation\n",
    "from abc import ABC, abstractmethod\n",
    "\n",
    "class Test:\n",
    "    @abstractmethod\n",
    "    def m1(self):\n",
    "        pass"
   ]
  },
  {
   "cell_type": "markdown",
   "id": "2feaf9aa",
   "metadata": {
    "heading_collapsed": true,
    "hidden": true
   },
   "source": [
    "## Abstract Class\n",
    "⚽ Some times implementation of a class is not complete,such type of **partially implementation classes** are called abstract class<br> \n",
    "⚽ Every abstract class in Python should be derived from ABC class which is present in abc module. So basically, only way to declare an abstract class is to make any class child of ABC class.<br>\n",
    "\n",
    "**Who is responsible to provide implementation for abstract methods?**<br>\n",
    "⚽ Child classes are responsible to provide implementation for parent class abstract method.<br>\n",
    "\n",
    "**What is the advantage of declaring abstract methods in Parent class?**<br>\n",
    "⚽ If parent is defined as abstract class, i.e. with @abstractmethod decorator. It becomes compulsory for child class to provide implemention for abstract method in it (it should complete the method)<br>\n",
    "⚽ By declaring abstract methods in parent class we can provide guidelines to the child class, such thhat which method is compulsory they should be implemented."
   ]
  },
  {
   "cell_type": "markdown",
   "id": "d3b0a77c",
   "metadata": {
    "heading_collapsed": true,
    "hidden": true
   },
   "source": [
    "### Examples - "
   ]
  },
  {
   "cell_type": "code",
   "execution_count": 137,
   "id": "b426e223",
   "metadata": {
    "hidden": true
   },
   "outputs": [],
   "source": [
    "#case 1\n",
    "from abc import ABC\n",
    "\n",
    "class Test(ABC):\n",
    "    pass\n",
    "t = Test()\n",
    "\n",
    "# Above is a abstract class with no abstract method hence we can create a object for this"
   ]
  },
  {
   "cell_type": "code",
   "execution_count": 138,
   "id": "0740dcc0",
   "metadata": {
    "hidden": true
   },
   "outputs": [
    {
     "ename": "TypeError",
     "evalue": "Can't instantiate abstract class Test with abstract method m1",
     "output_type": "error",
     "traceback": [
      "\u001b[1;31m---------------------------------------------------------------------------\u001b[0m",
      "\u001b[1;31mTypeError\u001b[0m                                 Traceback (most recent call last)",
      "\u001b[1;32m~\\AppData\\Local\\Temp\\ipykernel_36032\\1528217348.py\u001b[0m in \u001b[0;36m<module>\u001b[1;34m\u001b[0m\n\u001b[0;32m      6\u001b[0m         \u001b[1;32mpass\u001b[0m\u001b[1;33m\u001b[0m\u001b[1;33m\u001b[0m\u001b[0m\n\u001b[0;32m      7\u001b[0m \u001b[1;33m\u001b[0m\u001b[0m\n\u001b[1;32m----> 8\u001b[1;33m \u001b[0mt\u001b[0m \u001b[1;33m=\u001b[0m \u001b[0mTest\u001b[0m\u001b[1;33m(\u001b[0m\u001b[1;33m)\u001b[0m\u001b[1;33m\u001b[0m\u001b[1;33m\u001b[0m\u001b[0m\n\u001b[0m",
      "\u001b[1;31mTypeError\u001b[0m: Can't instantiate abstract class Test with abstract method m1"
     ]
    }
   ],
   "source": [
    "#case 2\n",
    "from abc import ABC, abstractmethod\n",
    "\n",
    "class Test(ABC):\n",
    "    @abstractmethod\n",
    "    def m1(self):\n",
    "        pass\n",
    "\n",
    "t = Test()\n",
    "# This will not work as class itself is not complete."
   ]
  },
  {
   "cell_type": "code",
   "execution_count": 139,
   "id": "e6b5a07b",
   "metadata": {
    "hidden": true
   },
   "outputs": [],
   "source": [
    "#case 3\n",
    "from abc import ABC, abstractmethod\n",
    "\n",
    "class Test:\n",
    "    @abstractmethod\n",
    "    def m1(self):\n",
    "        pass\n",
    "\n",
    "t = Test()\n",
    "# Not a abstract class but has abstract method. So this will work as class is complete"
   ]
  },
  {
   "cell_type": "markdown",
   "id": "a7b48f7e",
   "metadata": {
    "hidden": true
   },
   "source": [
    "Conclusion:<br> \n",
    "⚽ If a class contains atleast one abstract method and if we are extending ABC class then instantiation is not possible. <br>\n",
    "⚽ \"abstract class with abstract method instantiation is not possible\"<br>\n",
    "⚽ Parent class abstract methods should be implemented in the child classes. Otherwise we cannot instantiate child class.If we are not creating child class object then we won't get any error."
   ]
  },
  {
   "cell_type": "code",
   "execution_count": 142,
   "id": "dd5744d4",
   "metadata": {
    "hidden": true
   },
   "outputs": [],
   "source": [
    "# case 4 - It is valid because we are not creating Child class object.\n",
    "\n",
    "from abc import ABC, abstractmethod\n",
    "\n",
    "class Vehicle(ABC):\n",
    "    @abstractmethod\n",
    "    def noofwheels(self):\n",
    "        pass\n",
    "\n",
    "class Bus(Vehicle):\n",
    "    pass"
   ]
  },
  {
   "cell_type": "code",
   "execution_count": 143,
   "id": "76566d62",
   "metadata": {
    "hidden": true
   },
   "outputs": [
    {
     "ename": "TypeError",
     "evalue": "Can't instantiate abstract class Bus with abstract method noofwheels",
     "output_type": "error",
     "traceback": [
      "\u001b[1;31m---------------------------------------------------------------------------\u001b[0m",
      "\u001b[1;31mTypeError\u001b[0m                                 Traceback (most recent call last)",
      "\u001b[1;32m~\\AppData\\Local\\Temp\\ipykernel_36032\\3909670832.py\u001b[0m in \u001b[0;36m<module>\u001b[1;34m\u001b[0m\n\u001b[0;32m      9\u001b[0m \u001b[1;33m\u001b[0m\u001b[0m\n\u001b[0;32m     10\u001b[0m \u001b[1;32mclass\u001b[0m \u001b[0mBus\u001b[0m\u001b[1;33m(\u001b[0m\u001b[0mVehicle\u001b[0m\u001b[1;33m)\u001b[0m\u001b[1;33m:\u001b[0m \u001b[1;32mpass\u001b[0m\u001b[1;33m\u001b[0m\u001b[1;33m\u001b[0m\u001b[0m\n\u001b[1;32m---> 11\u001b[1;33m \u001b[0mb\u001b[0m \u001b[1;33m=\u001b[0m \u001b[0mBus\u001b[0m\u001b[1;33m(\u001b[0m\u001b[1;33m)\u001b[0m\u001b[1;33m\u001b[0m\u001b[1;33m\u001b[0m\u001b[0m\n\u001b[0m",
      "\u001b[1;31mTypeError\u001b[0m: Can't instantiate abstract class Bus with abstract method noofwheels"
     ]
    }
   ],
   "source": [
    "# case 5 - If we are extending abstract class and does not override its abstract method then child class is also abstract and instantiation is not possible.\n",
    "\n",
    "from abc import ABC, abstractmethod\n",
    "\n",
    "class Vehicle(ABC):\n",
    "    @abstractmethod\n",
    "    def noofwheels(self):\n",
    "        pass\n",
    "\n",
    "class Bus(Vehicle): pass\n",
    "b = Bus()"
   ]
  },
  {
   "cell_type": "code",
   "execution_count": 6,
   "id": "87298af3",
   "metadata": {
    "hidden": true
   },
   "outputs": [
    {
     "name": "stdout",
     "output_type": "stream",
     "text": [
      "6\n",
      "3\n"
     ]
    }
   ],
   "source": [
    "# case - Parent calss has abstract method thus it is an abstract class, for these abstract class created child class\n",
    "# And child class is responsible to provide additional information\n",
    "\n",
    "#Abstract class can contain both abstract and non-abstract methods also#\n",
    "\n",
    "'''\n",
    "This is a governance scenario. By making parent class as abstract with abstract method. It becomes compulsory \n",
    "for child class to implement the method from parent class\n",
    "'''\n",
    "from abc import ABC, abstractmethod\n",
    "\n",
    "class Vehicle(ABC):\n",
    "    @abstractmethod\n",
    "    def getNoofWheels(self):\n",
    "        pass\n",
    "class Bus(Vehicle):\n",
    "    def getNoofWheels(self):\n",
    "        return 6\n",
    "class Auto(Vehicle):\n",
    "    def getNoofWheels(self):\n",
    "        return 3\n",
    "    \n",
    "b = Bus()\n",
    "print(b.getNoofWheels())\n",
    "a = Auto()\n",
    "print(a.getNoofWheels())"
   ]
  },
  {
   "cell_type": "markdown",
   "id": "be6db7e4",
   "metadata": {
    "hidden": true
   },
   "source": [
    "### Conclusions"
   ]
  },
  {
   "cell_type": "markdown",
   "id": "4e0cbdc0",
   "metadata": {
    "hidden": true
   },
   "source": [
    "⚽ If a class contains at least one abstract method and if we are extending ABC class then object instantiaon (creation of object) is not possible. Because the class itself is not completed. Example below."
   ]
  },
  {
   "cell_type": "code",
   "execution_count": 10,
   "id": "da6da0b9",
   "metadata": {
    "hidden": true
   },
   "outputs": [
    {
     "ename": "TypeError",
     "evalue": "Can't instantiate abstract class Test with abstract method m",
     "output_type": "error",
     "traceback": [
      "\u001b[1;31m---------------------------------------------------------------------------\u001b[0m",
      "\u001b[1;31mTypeError\u001b[0m                                 Traceback (most recent call last)",
      "\u001b[1;32m~\\AppData\\Local\\Temp\\ipykernel_3264\\2023614063.py\u001b[0m in \u001b[0;36m<module>\u001b[1;34m\u001b[0m\n\u001b[0;32m     12\u001b[0m         \u001b[1;32mpass\u001b[0m\u001b[1;33m\u001b[0m\u001b[1;33m\u001b[0m\u001b[0m\n\u001b[0;32m     13\u001b[0m \u001b[1;33m\u001b[0m\u001b[0m\n\u001b[1;32m---> 14\u001b[1;33m \u001b[0mt\u001b[0m \u001b[1;33m=\u001b[0m \u001b[0mTest\u001b[0m\u001b[1;33m(\u001b[0m\u001b[1;33m)\u001b[0m\u001b[1;33m\u001b[0m\u001b[1;33m\u001b[0m\u001b[0m\n\u001b[0m",
      "\u001b[1;31mTypeError\u001b[0m: Can't instantiate abstract class Test with abstract method m"
     ]
    }
   ],
   "source": [
    "# This will work as there is no abstract method so we are able to create object\n",
    "from abc import *\n",
    "class Test(ABC):\n",
    "    pass\n",
    "t = Test()\n",
    "\n",
    "# This will not work as there is abstract method and we are not completing the method\n",
    "from abc import *\n",
    "class Test(ABC):\n",
    "    @abstractmethod\n",
    "    def m(self):\n",
    "        pass\n",
    "t = Test()"
   ]
  },
  {
   "cell_type": "code",
   "execution_count": 14,
   "id": "a88959ac",
   "metadata": {
    "hidden": true
   },
   "outputs": [],
   "source": [
    "# This will work as there is abstract method and we are completing the method\n",
    "from abc import *\n",
    "class Test(ABC):\n",
    "    @abstractmethod\n",
    "    def m(self):\n",
    "        pass\n",
    "class Retest(Test):\n",
    "    def m(self):\n",
    "        pass\n",
    "t = Retest()\n",
    "t.m()"
   ]
  },
  {
   "cell_type": "markdown",
   "id": "a05434bb",
   "metadata": {
    "hidden": true
   },
   "source": [
    "⚽ If we are creating child class  for abstracy class, then for every abstract method of parent class compulsory we should provide implementation in the child class, otherwise child class is also abstract and we cannot create object for child class. <br>\n",
    "Or simply, the child class should complete the parent abstract method, it should be without the method present in parent class. For example -"
   ]
  },
  {
   "cell_type": "code",
   "execution_count": 15,
   "id": "806f5722",
   "metadata": {
    "hidden": true
   },
   "outputs": [
    {
     "ename": "TypeError",
     "evalue": "Can't instantiate abstract class Retest with abstract method m",
     "output_type": "error",
     "traceback": [
      "\u001b[1;31m---------------------------------------------------------------------------\u001b[0m",
      "\u001b[1;31mTypeError\u001b[0m                                 Traceback (most recent call last)",
      "\u001b[1;32m~\\AppData\\Local\\Temp\\ipykernel_3264\\1189204974.py\u001b[0m in \u001b[0;36m<module>\u001b[1;34m\u001b[0m\n\u001b[0;32m      6\u001b[0m \u001b[1;32mclass\u001b[0m \u001b[0mRetest\u001b[0m\u001b[1;33m(\u001b[0m\u001b[0mTest\u001b[0m\u001b[1;33m)\u001b[0m\u001b[1;33m:\u001b[0m\u001b[1;33m\u001b[0m\u001b[1;33m\u001b[0m\u001b[0m\n\u001b[0;32m      7\u001b[0m         \u001b[1;32mpass\u001b[0m\u001b[1;33m\u001b[0m\u001b[1;33m\u001b[0m\u001b[0m\n\u001b[1;32m----> 8\u001b[1;33m \u001b[0mt\u001b[0m \u001b[1;33m=\u001b[0m \u001b[0mRetest\u001b[0m\u001b[1;33m(\u001b[0m\u001b[1;33m)\u001b[0m\u001b[1;33m\u001b[0m\u001b[1;33m\u001b[0m\u001b[0m\n\u001b[0m",
      "\u001b[1;31mTypeError\u001b[0m: Can't instantiate abstract class Retest with abstract method m"
     ]
    }
   ],
   "source": [
    "# Here child class is not having a method as m\n",
    "from abc import *\n",
    "class Test(ABC):\n",
    "    @abstractmethod\n",
    "    def m(self):\n",
    "        pass\n",
    "class Retest(Test):\n",
    "        pass\n",
    "t = Retest()"
   ]
  },
  {
   "cell_type": "code",
   "execution_count": 16,
   "id": "124a0759",
   "metadata": {
    "hidden": true
   },
   "outputs": [
    {
     "ename": "TypeError",
     "evalue": "Can't instantiate abstract class Retest with abstract method n",
     "output_type": "error",
     "traceback": [
      "\u001b[1;31m---------------------------------------------------------------------------\u001b[0m",
      "\u001b[1;31mTypeError\u001b[0m                                 Traceback (most recent call last)",
      "\u001b[1;32m~\\AppData\\Local\\Temp\\ipykernel_3264\\2073063586.py\u001b[0m in \u001b[0;36m<module>\u001b[1;34m\u001b[0m\n\u001b[0;32m     10\u001b[0m     \u001b[1;32mdef\u001b[0m \u001b[0mm\u001b[0m\u001b[1;33m(\u001b[0m\u001b[0mself\u001b[0m\u001b[1;33m)\u001b[0m\u001b[1;33m:\u001b[0m\u001b[1;33m\u001b[0m\u001b[1;33m\u001b[0m\u001b[0m\n\u001b[0;32m     11\u001b[0m         \u001b[1;32mpass\u001b[0m\u001b[1;33m\u001b[0m\u001b[1;33m\u001b[0m\u001b[0m\n\u001b[1;32m---> 12\u001b[1;33m \u001b[0mt\u001b[0m \u001b[1;33m=\u001b[0m \u001b[0mRetest\u001b[0m\u001b[1;33m(\u001b[0m\u001b[1;33m)\u001b[0m\u001b[1;33m\u001b[0m\u001b[1;33m\u001b[0m\u001b[0m\n\u001b[0m",
      "\u001b[1;31mTypeError\u001b[0m: Can't instantiate abstract class Retest with abstract method n"
     ]
    }
   ],
   "source": [
    "# In the child class no implementation for n method hence error\n",
    "from abc import *\n",
    "class Test(ABC):\n",
    "    @abstractmethod\n",
    "    def m(self):\n",
    "        pass\n",
    "    @abstractmethod\n",
    "    def n(self):\n",
    "        pass\n",
    "class Retest(Test):\n",
    "    def m(self):\n",
    "        pass\n",
    "t = Retest()"
   ]
  },
  {
   "cell_type": "code",
   "execution_count": 17,
   "id": "1db823e8",
   "metadata": {
    "hidden": true
   },
   "outputs": [
    {
     "name": "stdout",
     "output_type": "stream",
     "text": [
      "Success\n"
     ]
    }
   ],
   "source": [
    "# In the child class has both m and n class implementation for parent abstract method\n",
    "from abc import *\n",
    "class Test(ABC):\n",
    "    @abstractmethod\n",
    "    def m(self):\n",
    "        pass\n",
    "    @abstractmethod\n",
    "    def n(self):\n",
    "        pass\n",
    "class Retest(Test):\n",
    "    def m(self):\n",
    "        pass\n",
    "    def n(self):\n",
    "        print('Success')\n",
    "t = Retest()\n",
    "t.n()"
   ]
  },
  {
   "cell_type": "markdown",
   "id": "a422b8de",
   "metadata": {
    "hidden": true
   },
   "source": [
    "⚽ If a class contains both abstract and non-abstract method then child class iis responsible to provide implementation only for abstract method."
   ]
  },
  {
   "cell_type": "code",
   "execution_count": 19,
   "id": "846ca4ec",
   "metadata": {
    "hidden": true
   },
   "outputs": [
    {
     "name": "stdout",
     "output_type": "stream",
     "text": [
      "Success\n"
     ]
    }
   ],
   "source": [
    "# In this parent has abstract+non abstract. Now child should only instanciate the abstract method.\n",
    "from abc import *\n",
    "class Test(ABC):\n",
    "    @abstractmethod\n",
    "    def m(self):\n",
    "        pass\n",
    "    def n(self):\n",
    "        pass\n",
    "class Retest(Test):\n",
    "    def m(self):\n",
    "        print('Success')\n",
    "t = Retest()\n",
    "t.m()"
   ]
  },
  {
   "cell_type": "markdown",
   "id": "bfeea076",
   "metadata": {
    "heading_collapsed": true,
    "hidden": true
   },
   "source": [
    "## Interface\n",
    "⚽ Abstract class may contain both abstract and non abstract method.<br>\n",
    "⚽ In general if an abstract class contains only abstract methods such type of abstract class is considered as interface.<br>\n",
    "⚽ 100% pure abstract class is **interface**<br>\n",
    "\n",
    "**What is the use of interface?<br>**\n",
    "⚽ Interface work as **Service Requirement Specification (SRS)**"
   ]
  },
  {
   "cell_type": "code",
   "execution_count": 23,
   "id": "427ce204",
   "metadata": {
    "hidden": true
   },
   "outputs": [
    {
     "name": "stdout",
     "output_type": "stream",
     "text": [
      "Your requirment like communicating with DB etc\n",
      "DB details wmight be stored at parent class level\n",
      "Additional requirements\n"
     ]
    }
   ],
   "source": [
    "# Example - Collage automation system\n",
    "'''\n",
    "The system should have below features\n",
    "1. get student attendance\n",
    "2. update student attendance\n",
    "3. get marks\n",
    "4. update marks\n",
    "5. get fees\n",
    "6. update fees\n",
    "\n",
    "Above all could be abstract class and a low level developer can create implementation class for above\n",
    "'''\n",
    "from abc import ABC, abstractmethod\n",
    "class collageAutomation(ABC):\n",
    "    @abstractmethod\n",
    "    def m1(self):\n",
    "        pass\n",
    "    @abstractmethod\n",
    "    def m2(self):\n",
    "        pass\n",
    "    @abstractmethod\n",
    "    def m3(self):\n",
    "        pass\n",
    "# now we have above interface\n",
    "# different collage can provide implimentation in there own way\n",
    "class sastra(collageAutomation):\n",
    "    def m1(self):\n",
    "        print('Your requirment like communicating with DB etc')\n",
    "    def m2(self):\n",
    "        print('DB details wmight be stored at parent class level')\n",
    "    def m3(self):\n",
    "        print('Additional requirements')\n",
    "s=sastra()\n",
    "s.m1()\n",
    "s.m2()\n",
    "s.m3()\n",
    "# similarly someother collage can use this interface    "
   ]
  },
  {
   "cell_type": "markdown",
   "id": "75a19396",
   "metadata": {
    "hidden": true
   },
   "source": [
    "**Note:** The inbuilt function **globals()[str]** converts the string 'str' into a class name and returns the classname."
   ]
  },
  {
   "cell_type": "code",
   "execution_count": 24,
   "id": "576716c2",
   "metadata": {
    "hidden": true
   },
   "outputs": [
    {
     "name": "stdout",
     "output_type": "stream",
     "text": [
      "Enter Database Name:Oracle\n",
      "Connecting to Oracle Database...\n",
      "Disconnecting to Oracle Database...\n"
     ]
    }
   ],
   "source": [
    "# Example 2 - Interface to interact with any DB\n",
    "from abc import ABC, abstractmethod\n",
    "class DBInterface(ABC):\n",
    "    @abstractmethod\n",
    "    def connect(self):\n",
    "        pass\n",
    "    @abstractmethod\n",
    "    def disconnect(self):\n",
    "        pass\n",
    "\n",
    "class Oracle(DBInterface):\n",
    "    def connect(self):\n",
    "        print('Connecting to Oracle Database...')\n",
    "    def disconnect(self):\n",
    "        print('Disconnecting to Oracle Database...')\n",
    "\n",
    "class Sybase(DBInterface):\n",
    "    def connect(self):\n",
    "        print('Connecting to Sybase Database...')\n",
    "    def disconnect(self):\n",
    "        print('Disconnecting to Sybase Database...')\n",
    "\n",
    "def main():\n",
    "    dbname = input('Enter Database Name:')\n",
    "    classname = globals()[dbname]\n",
    "    x = classname()\n",
    "    x.connect()\n",
    "    x.disconnect()\n",
    "\n",
    "\n",
    "if __name__ == '__main__':\\\n",
    "    main()"
   ]
  },
  {
   "cell_type": "code",
   "execution_count": 25,
   "id": "acbaa6f7",
   "metadata": {
    "hidden": true
   },
   "outputs": [
    {
     "name": "stdout",
     "output_type": "stream",
     "text": [
      "Printing from EPSON Printer...\n",
      "This data has to print...\n",
      "Printing completed on EPSON Printer...\n"
     ]
    }
   ],
   "source": [
    "# Reading class name from the file\n",
    "\n",
    "from abc import ABC, abstractmethod\n",
    "\n",
    "class Printer(ABC):\n",
    "    @abstractmethod\n",
    "    def printit(self, text):\n",
    "        pass\n",
    "    @abstractmethod\n",
    "    def disconnect(self):\n",
    "        pass\n",
    "\n",
    "class EPSON(Printer):\n",
    "    def printit(self, text):\n",
    "        print('Printing from EPSON Printer...')\n",
    "        print(text)\n",
    "    def disconnect(self):\n",
    "        print('Printing completed on EPSON Printer...')\n",
    "\n",
    "class HP(Printer):\n",
    "    def printit(self, text):\n",
    "        print('Printing from HP Printer...')\n",
    "        print(text)\n",
    "    def disconnect(self):\n",
    "        print('Printing completed on HP Printer...')\n",
    "\n",
    "def main():\n",
    "    with open('C:\\\\Users\\\\saurabhkumar9\\\\Python Tutorial\\\\config.txt', 'r') as f:\n",
    "        pname = f.readline()\n",
    "    classname = globals()[pname]\n",
    "    x = classname()\n",
    "    x.printit('This data has to print...')\n",
    "    x.disconnect()\n",
    "\n",
    "if __name__ == '__main__':\n",
    "    main()"
   ]
  },
  {
   "cell_type": "markdown",
   "id": "4b9cbe55",
   "metadata": {
    "hidden": true
   },
   "source": [
    "## Concreate class vs Abstract Class vs Inteface"
   ]
  },
  {
   "cell_type": "markdown",
   "id": "9351c288",
   "metadata": {
    "hidden": true
   },
   "source": [
    "⚽ **Interface** - If we don't know about implementation and just we have requirement specifications then we should use interface. In python a seperate interface concept is not there. This is included with abstract class<br>\n",
    "⚽ **Abstract Class** - If we are talking about implementation but not completely then we should go for abstract class. <br>\n",
    "⚽ **Concreate Class** - If we are talking about implementation completely and ready to provide services then we should go for concrete class. This is a fully implimented class."
   ]
  },
  {
   "cell_type": "markdown",
   "id": "36b562cb",
   "metadata": {
    "heading_collapsed": true
   },
   "source": [
    "# Public, Private and Protected Members"
   ]
  },
  {
   "cell_type": "markdown",
   "id": "b1b0306f",
   "metadata": {
    "hidden": true
   },
   "source": [
    "⚽ **Public** - A member inside python class which acan be accessed from outside is public. By default every attribute is public. We can access from anywhere either within the class or from outside of the class. <br>\n",
    "***Eg:*** name = 'durga'<br>\n",
    "\n",
    "⚽ **Protected** - Protected attributes can be accessed within the class anywhere but from outside of the class only in child classes. We can specify an attribute as protected by prefexing with _ symbol. <br>\n",
    "***Syntax:*** _variablename = value <br>\n",
    "***Eg:*** _name='durga' <br>\n",
    "But is is just convention and in reality does not exists protected attributes.<br>\n",
    "\n",
    "⚽ **Private** - private attributes can be accessed only within the class.i.e from outside of the class we cannot access. We can declare a variable as private explicitly by prefexing with 2 underscore symbols.<br>\n",
    "***Syntax:*** __variablename=value<br>\n",
    "***Eg:***: __name='durga'"
   ]
  },
  {
   "cell_type": "markdown",
   "id": "08968998",
   "metadata": {
    "heading_collapsed": true,
    "hidden": true
   },
   "source": [
    "## Public"
   ]
  },
  {
   "cell_type": "code",
   "execution_count": 2,
   "id": "5f60a87d",
   "metadata": {
    "hidden": true
   },
   "outputs": [
    {
     "name": "stdout",
     "output_type": "stream",
     "text": [
      "10\n",
      "It is public method\n"
     ]
    },
    {
     "data": {
      "text/plain": [
       "10"
      ]
     },
     "execution_count": 2,
     "metadata": {},
     "output_type": "execute_result"
    }
   ],
   "source": [
    "# Public\n",
    "\n",
    "class Test:\n",
    "    def __init__(self):\n",
    "        self.x = 10\n",
    "        \n",
    "    def m1(self):\n",
    "        print('It is public method')\n",
    "        \n",
    "    def m2(self):\n",
    "        print(self.x)\n",
    "        self.m1()\n",
    "        \n",
    "t = Test()\n",
    "t.m2()\n",
    "t.x"
   ]
  },
  {
   "cell_type": "markdown",
   "id": "f475e34f",
   "metadata": {
    "heading_collapsed": true,
    "hidden": true
   },
   "source": [
    "## Private"
   ]
  },
  {
   "cell_type": "code",
   "execution_count": 9,
   "id": "1617b660",
   "metadata": {
    "hidden": true
   },
   "outputs": [
    {
     "name": "stdout",
     "output_type": "stream",
     "text": [
      "10\n",
      "It is private method\n"
     ]
    }
   ],
   "source": [
    "# Private\n",
    "\n",
    "class Test:\n",
    "    def __init__(self):\n",
    "        self.__x=10 # private variable\n",
    "    def __m1(self): # private method\n",
    "        print('It is private method')\n",
    "    def m2(self):\n",
    "        print(self.__x) # private call\n",
    "        self.__m1()     # private call\n",
    "t=Test()\n",
    "t.m2()\n",
    "#print(t.__x) # will get error as we are trying to access provate variable\n",
    "#t.__m1() # will get error as we are trying to access private method"
   ]
  },
  {
   "cell_type": "markdown",
   "id": "6cda9480",
   "metadata": {
    "heading_collapsed": true,
    "hidden": true
   },
   "source": [
    "### Name Mangling and Accessing private calss from outside of the class\n",
    "\n",
    "⚽ How to access private member from outside of class ? <br>\n",
    "Using name mangling. Python Internally changes the name of private variable. <br>\n",
    "__variablName ===> _className__VariableName"
   ]
  },
  {
   "cell_type": "code",
   "execution_count": 2,
   "id": "5250f7d8",
   "metadata": {
    "hidden": true
   },
   "outputs": [
    {
     "name": "stdout",
     "output_type": "stream",
     "text": [
      "10\n",
      "It is private method\n",
      "10\n"
     ]
    }
   ],
   "source": [
    "class Test:\n",
    "    def __init__(self):\n",
    "        self.__x=10 # private variable\n",
    "    def __m1(self): # private method\n",
    "        print('It is private method')\n",
    "    def m2(self):\n",
    "        print(self.__x) # private call\n",
    "        self.__m1()     # private call\n",
    "t=Test()\n",
    "t.m2()\n",
    "print(t._Test__x) # mangling of varaible name"
   ]
  },
  {
   "cell_type": "markdown",
   "id": "5ceacff0",
   "metadata": {
    "heading_collapsed": true,
    "hidden": true
   },
   "source": [
    "## Protected"
   ]
  },
  {
   "cell_type": "code",
   "execution_count": 5,
   "id": "4e07334a",
   "metadata": {
    "hidden": true
   },
   "outputs": [
    {
     "name": "stdout",
     "output_type": "stream",
     "text": [
      "10\n",
      "10\n"
     ]
    }
   ],
   "source": [
    "# can be accessed within the class and from outside only by child classes\n",
    "\n",
    "class Test:\n",
    "    def __init__(self):\n",
    "        self._x=10 # Protected variable\n",
    "    def m1(self): \n",
    "        print(self._x)\n",
    "class SubTest(Test):\n",
    "    def m2(self):\n",
    "        print(self._x) # access protected from child class \n",
    "\n",
    "t=SubTest()\n",
    "t.m2()\n",
    "print(t._x) # idealy we should not have accessed it like this\n",
    "# Thus it is just naming convention and it is not implemented in python may be for the future version"
   ]
  },
  {
   "cell_type": "markdown",
   "id": "0e3da983",
   "metadata": {
    "heading_collapsed": true,
    "hidden": true
   },
   "source": [
    "## Data Hiding\n",
    "\n",
    "Data should not be accessd directly from outside. It is used for security. Can be implemented using private variable."
   ]
  },
  {
   "cell_type": "code",
   "execution_count": 6,
   "id": "0fcf85e8",
   "metadata": {
    "hidden": true
   },
   "outputs": [
    {
     "name": "stdout",
     "output_type": "stream",
     "text": [
      "10000\n"
     ]
    }
   ],
   "source": [
    "class Account:\n",
    "    def __init__(self, initial_balance):\n",
    "        self.balance = initial_balance\n",
    "\n",
    "a = Account(10000)\n",
    "print(a.balance) # here a third person is trying to access the balance and he can do that. How to prevent this?"
   ]
  },
  {
   "cell_type": "code",
   "execution_count": 7,
   "id": "6b09a412",
   "metadata": {
    "hidden": true
   },
   "outputs": [
    {
     "ename": "AttributeError",
     "evalue": "'Account' object has no attribute '__balance'",
     "output_type": "error",
     "traceback": [
      "\u001b[1;31m---------------------------------------------------------------------------\u001b[0m",
      "\u001b[1;31mAttributeError\u001b[0m                            Traceback (most recent call last)",
      "\u001b[1;32m~\\AppData\\Local\\Temp\\ipykernel_1140\\454716024.py\u001b[0m in \u001b[0;36m<module>\u001b[1;34m\u001b[0m\n\u001b[0;32m      6\u001b[0m \u001b[1;33m\u001b[0m\u001b[0m\n\u001b[0;32m      7\u001b[0m \u001b[0ma\u001b[0m \u001b[1;33m=\u001b[0m \u001b[0mAccount\u001b[0m\u001b[1;33m(\u001b[0m\u001b[1;36m10000\u001b[0m\u001b[1;33m)\u001b[0m\u001b[1;33m\u001b[0m\u001b[1;33m\u001b[0m\u001b[0m\n\u001b[1;32m----> 8\u001b[1;33m \u001b[0mprint\u001b[0m\u001b[1;33m(\u001b[0m\u001b[0ma\u001b[0m\u001b[1;33m.\u001b[0m\u001b[0m__balance\u001b[0m\u001b[1;33m)\u001b[0m\u001b[1;33m\u001b[0m\u001b[1;33m\u001b[0m\u001b[0m\n\u001b[0m",
      "\u001b[1;31mAttributeError\u001b[0m: 'Account' object has no attribute '__balance'"
     ]
    }
   ],
   "source": [
    "# by declaring balance variable as private\n",
    "\n",
    "class Account:\n",
    "    def __init__(self, initial_balance):\n",
    "        self.__balance = initial_balance\n",
    "\n",
    "a = Account(10000)\n",
    "print(a.__balance) # will get error. But question is how we can access this data ? By using method."
   ]
  },
  {
   "cell_type": "code",
   "execution_count": 10,
   "id": "ee72e516",
   "metadata": {
    "hidden": true
   },
   "outputs": [
    {
     "name": "stdout",
     "output_type": "stream",
     "text": [
      "10000\n"
     ]
    }
   ],
   "source": [
    "class Account:\n",
    "    def __init__(self, initial_balance):\n",
    "        self.__balance = initial_balance\n",
    "        \n",
    "    def getBalance(self):\n",
    "        # validate/authentication\n",
    "        return self.__balance\n",
    "\n",
    "a = Account(10000)\n",
    "print(a.getBalance()) # now after validation, it can be accessed"
   ]
  },
  {
   "cell_type": "markdown",
   "id": "8795a6d8",
   "metadata": {
    "heading_collapsed": true,
    "hidden": true
   },
   "source": [
    "## Abstraction\n",
    "\n",
    "Hiding internal implimentation and just highlighting the set of services is the concept of abstraction.<br>\n",
    "Eg: Through Bank ATM GUI Screen, Bank people are highlighting the set of services what they are offering without highlighting internal implementation. This is nothing but abstraction."
   ]
  },
  {
   "cell_type": "markdown",
   "id": "7f054e30",
   "metadata": {
    "heading_collapsed": true,
    "hidden": true
   },
   "source": [
    "## Encapsulation\n",
    "\n",
    "The process of Binding/Grouping/encapsulating data and corrosponding behaviour(methods) into a single unit is nothing but encapsulation.<br>\n",
    "\n",
    "Every python class is an example of encapsulation. <br>"
   ]
  },
  {
   "cell_type": "markdown",
   "id": "c34c4f1e",
   "metadata": {
    "hidden": true
   },
   "source": [
    "⚽ If any component follow data hiding and abstraction, such component is said to be encapsulated component.<br>\n",
    "⚽ Capsulation = Data Hiding + Abstraction <br>\n",
    "⚽  Hiding data behind methods is the central concept of encapsulaton <br>\n",
    "\n",
    "**Advantage:**<br>\n",
    "⚽ Security <br>\n",
    "⚽ Enhancement will become easy <br>\n",
    "⚽  Maintainability and modularity will be improved <br>\n",
    "\n",
    "**Limitation**<br>\n",
    "⚽ It increases length of the code and slows down execution. We should compromise with performance."
   ]
  },
  {
   "cell_type": "code",
   "execution_count": 11,
   "id": "6332fff7",
   "metadata": {
    "hidden": true
   },
   "outputs": [
    {
     "name": "stdout",
     "output_type": "stream",
     "text": [
      "Durga's Savings Account with Balance :10000\n",
      "Account Balance: 15000\n",
      "Sorry, Insufficient Funds\n",
      "Durga's Savings Account with Balance :0\n",
      "Ravi's Current Account with Balance :26000\n",
      "Ravi's Current Account with Balance :-1000\n"
     ]
    }
   ],
   "source": [
    "class Account:\n",
    "    def __init__(self, name, balance, min_balance):\n",
    "        self.name = name\n",
    "        self.balance = balance\n",
    "        self.min_balance = min_balance\n",
    "\n",
    "    def deposit(self, amount):\n",
    "        self.balance += amount\n",
    "\n",
    "    def withdraw(self, amount):\n",
    "        if self.balance - amount >= self.min_balance:\n",
    "            self.balance -= amount\n",
    "        else:\n",
    "            print(\"Sorry, Insufficient Funds\")\n",
    "\n",
    "    def print_statement(self):\n",
    "        print(\"Account Balance:\", self.balance)\n",
    "\n",
    "\n",
    "class Current(Account):\n",
    "    def __init__(self, name, balance):\n",
    "        super().__init__(name, balance, min_balance=-1000)\n",
    "\n",
    "    def __str__(self):\n",
    "        return \"{}'s Current Account with Balance :{}\".format(self.name, self.balance)\n",
    "\n",
    "\n",
    "class Savings(Account):\n",
    "    def __init__(self, name, balance):\n",
    "        super().__init__(name, balance, min_balance=0)\n",
    "\n",
    "    def __str__(self):\n",
    "        return \"{}'s Savings Account with Balance :{}\".format(self.name, self.balance)\n",
    "\n",
    "\n",
    "c = Savings(\"Durga\", 10000)\n",
    "print(c)\n",
    "c.deposit(5000)\n",
    "c.print_statement()\n",
    "c.withdraw(16000)\n",
    "c.withdraw(15000)\n",
    "print(c)\n",
    "\n",
    "c2 = Current('Ravi', 20000)\n",
    "c2.deposit(6000)\n",
    "print(c2)\n",
    "c2.withdraw(27000)\n",
    "print(c2)\n"
   ]
  },
  {
   "cell_type": "markdown",
   "id": "9e312fe9",
   "metadata": {
    "hidden": true
   },
   "source": [
    "### __str__() method\n",
    "⚽ Whenever we are printing any object reference internally __str__() method will be called which is returns string in the following format <__main__.classname object at 0x022144B0><br>\n",
    "⚽ To return meaningful string representation we have to override __str__() method.<br>"
   ]
  },
  {
   "cell_type": "code",
   "execution_count": 12,
   "id": "e590d993",
   "metadata": {
    "hidden": true
   },
   "outputs": [
    {
     "name": "stdout",
     "output_type": "stream",
     "text": [
      "This is Student with Name:Durga and Rollno:101\n",
      "This is Student with Name:Ravi and Rollno:102\n"
     ]
    }
   ],
   "source": [
    "class Student:\n",
    "    def __init__(self, name, rollno):\n",
    "        self.name = name\n",
    "        self.rollno = rollno\n",
    "\n",
    "    def __str__(self):\n",
    "        return f\"This is Student with Name:{self.name} and Rollno:{self.rollno}\"\n",
    "\n",
    "\n",
    "s1 = Student(\"Durga\", 101)\n",
    "s2 = Student(\"Ravi\", 102)\n",
    "\n",
    "print(s1)\n",
    "print(s2)"
   ]
  },
  {
   "cell_type": "markdown",
   "id": "90cf47fa",
   "metadata": {
    "hidden": true
   },
   "source": [
    "Difference between str() and repr()<br>\n",
    "OR<br> \n",
    "Difference between __str__() and __repr__()<br> \n",
    "\n",
    "⚽ str() internally calls __str__() function and hence functionality of both is same. <br>\n",
    "⚽ Similarly,repr() internally calls __repr__() function and hence functionality of both is same. <br>\n",
    "⚽ str() returns a string containing a nicely printable representation object. <br>\n",
    "⚽ The main purpose of str() is for readability.It may not possible to convert result string to original object.<br>"
   ]
  },
  {
   "cell_type": "code",
   "execution_count": 14,
   "id": "ba1288db",
   "metadata": {
    "hidden": true
   },
   "outputs": [
    {
     "name": "stdout",
     "output_type": "stream",
     "text": [
      "2023-07-15 20:56:19.749468\n"
     ]
    },
    {
     "ename": "SyntaxError",
     "evalue": "leading zeros in decimal integer literals are not permitted; use an 0o prefix for octal integers (<string>, line 1)",
     "output_type": "error",
     "traceback": [
      "Traceback \u001b[1;36m(most recent call last)\u001b[0m:\n",
      "  File \u001b[0;32m\"C:\\Users\\saurabhkumar9\\Anaconda3\\lib\\site-packages\\IPython\\core\\interactiveshell.py\"\u001b[0m, line \u001b[0;32m3457\u001b[0m, in \u001b[0;35mrun_code\u001b[0m\n    exec(code_obj, self.user_global_ns, self.user_ns)\n",
      "\u001b[1;36m  File \u001b[1;32m\"C:\\Users\\saurabhkumar9\\AppData\\Local\\Temp\\ipykernel_1140\\129209421.py\"\u001b[1;36m, line \u001b[1;32m5\u001b[1;36m, in \u001b[1;35m<module>\u001b[1;36m\u001b[0m\n\u001b[1;33m    d=eval(s)#converting str object to datetime\u001b[0m\n",
      "\u001b[1;36m  File \u001b[1;32m\"<string>\"\u001b[1;36m, line \u001b[1;32m1\u001b[0m\n\u001b[1;33m    2023-07-15 20:56:19.749468\u001b[0m\n\u001b[1;37m          ^\u001b[0m\n\u001b[1;31mSyntaxError\u001b[0m\u001b[1;31m:\u001b[0m leading zeros in decimal integer literals are not permitted; use an 0o prefix for octal integers\n"
     ]
    }
   ],
   "source": [
    "import datetime\n",
    "today = datetime.datetime.now()\n",
    "s = str(today)#converting datetime object to str\n",
    "print(s)\n",
    "d=eval(s)#converting str object to datetime\n",
    "'''\n",
    "But repr() returns a string containing a printable representation of object. The main goal of repr() is unambigouous. \n",
    "We can convert result string to original object by using eval() function,which may not possible in str() function.\n",
    "'''"
   ]
  },
  {
   "cell_type": "code",
   "execution_count": 16,
   "id": "5f91fa42",
   "metadata": {
    "hidden": true
   },
   "outputs": [
    {
     "name": "stdout",
     "output_type": "stream",
     "text": [
      "datetime.datetime(2023, 7, 15, 20, 57, 19, 766798)\n",
      "2023-07-15 20:57:19.766798\n"
     ]
    }
   ],
   "source": [
    "import datetime\n",
    "today = datetime.datetime.now()\n",
    "s = repr(today)#converting datetime object to str\n",
    "print(s)\n",
    "d=eval(s)#converting str object to datetime\n",
    "print(d)\n",
    "\n",
    "# It is recommended to use repr() instead of str()"
   ]
  },
  {
   "cell_type": "markdown",
   "id": "3799718d",
   "metadata": {
    "heading_collapsed": true
   },
   "source": [
    "# Decorator"
   ]
  },
  {
   "cell_type": "markdown",
   "id": "ab10406d",
   "metadata": {
    "hidden": true
   },
   "source": [
    "## Function Aliasing\n",
    "\n",
    "In Python, function aliasing refers to creating additional names or references for existing functions. It allows you to assign a different name to a function, and both the original name and the alias can be used interchangeably to invoke the function."
   ]
  },
  {
   "cell_type": "markdown",
   "id": "a3d5b995",
   "metadata": {
    "hidden": true
   },
   "source": [
    "|f1 = outer |f1 = outer() |\n",
    "|-------|------------|\n",
    "|Means f1 is pointing to object which is pointed by outer. Thus both are pointing to same object. This is function alaising |This is a function call as we have (). Thus outer function returns inner function object. f1 is assigned to that returned value (which is a actually a function) |\n"
   ]
  },
  {
   "cell_type": "code",
   "execution_count": 192,
   "id": "b0265d91",
   "metadata": {
    "hidden": true
   },
   "outputs": [
    {
     "name": "stdout",
     "output_type": "stream",
     "text": [
      "Hello, world!\n",
      "Hello, world!\n"
     ]
    }
   ],
   "source": [
    "# Function Aliasing\n",
    "def greet():\n",
    "    print(\"Hello, world!\")\n",
    "# Creating an alias for the greet() function\n",
    "hello = greet\n",
    "# Using the alias to call the function\n",
    "hello()  # Output: Hello, world!\n",
    "# Using the original name to call the function\n",
    "greet()  # Output: Hello, world!"
   ]
  },
  {
   "cell_type": "code",
   "execution_count": 190,
   "id": "e9f518d8",
   "metadata": {
    "hidden": true
   },
   "outputs": [
    {
     "name": "stdout",
     "output_type": "stream",
     "text": [
      "1758133011936\n",
      "1758133011936\n",
      "Inner function execution: 10\n",
      "Inner function execution: 10\n"
     ]
    }
   ],
   "source": [
    "def outer():\n",
    "    def inner():\n",
    "        a=10\n",
    "        print('Inner function execution:',a)\n",
    "    print(id(inner))\n",
    "    return inner\n",
    "\n",
    "f1 = outer() #Outer function is executed and return inner func object. For this inner function object we are using f1 to refer. f1 is actually inner function.\n",
    "print(id(f1)) # check the id of inner and f1 is same. Both are actually same\n",
    "f1()\n",
    "f1()\n"
   ]
  },
  {
   "cell_type": "markdown",
   "id": "dc731d4d",
   "metadata": {
    "hidden": true
   },
   "source": [
    "## Function as argument to another function\n",
    "\n",
    "Well know examples are as follow<br>\n",
    "\n",
    "1) filter(function, iterable)<br>\n",
    "2) map(function, iterable)<br>\n",
    "3) reduce(function, iterable)<br>\n",
    "\n",
    "We see filter itself is a function which takes anaother func as argument and then filter out a iterable like list<br>\n",
    "4) lambda arguments: expression<br>\n",
    " here arguments represents the input parameters to the function, and expression is a single expression that gets evaluated and returned as the result of the function.\n"
   ]
  },
  {
   "cell_type": "code",
   "execution_count": 199,
   "id": "e1f6a592",
   "metadata": {
    "hidden": true
   },
   "outputs": [
    {
     "name": "stdout",
     "output_type": "stream",
     "text": [
      "8\n",
      "[2, 4, 6, 8, 10]\n"
     ]
    }
   ],
   "source": [
    "add = lambda x, y: x + y\n",
    "result = add(3, 5)\n",
    "print(result)  # Output: 8\n",
    "\n",
    "numbers = [1, 2, 3, 4, 5, 6, 7, 8, 9, 10]\n",
    "even_numbers = list(filter(lambda x: x % 2 == 0, numbers))\n",
    "print(even_numbers)  # Output: [2, 4, 6, 8, 10]"
   ]
  },
  {
   "cell_type": "code",
   "execution_count": 243,
   "id": "da5acba7",
   "metadata": {
    "hidden": true
   },
   "outputs": [
    {
     "name": "stdout",
     "output_type": "stream",
     "text": [
      "[0, 2, 4, 6, 8]\n"
     ]
    }
   ],
   "source": [
    "# replicating filter\n",
    "def lam(num):\n",
    "    if (num%2==0):\n",
    "        return True\n",
    "    else: return False\n",
    "\n",
    "def fil(l, fun):\n",
    "    d = []\n",
    "    for i in range(len(l)):\n",
    "        returned_value = fun(l[i])\n",
    "        if (returned_value == False):\n",
    "            d.append(i)\n",
    "    return d\n",
    "\n",
    "numbers = [1, 2, 3, 4, 5, 6, 7, 8, 9, 10]\n",
    "d = fil(numbers, lam)\n",
    "print(d)"
   ]
  },
  {
   "cell_type": "code",
   "execution_count": 245,
   "id": "973d7a86",
   "metadata": {
    "hidden": true
   },
   "outputs": [
    {
     "data": {
      "text/plain": [
       "[2, 4, 6, 8, 10]"
      ]
     },
     "execution_count": 245,
     "metadata": {},
     "output_type": "execute_result"
    }
   ],
   "source": [
    "list1 = [1, 2, 3, 4, 5, 6, 7, 8, 9, 10]\n",
    "def is_even(n):\n",
    "    if n%2==0:\n",
    "        return True\n",
    "    else: return False\n",
    "    \n",
    "list2 = list(filter(is_even,list1))\n",
    "list2"
   ]
  },
  {
   "cell_type": "code",
   "execution_count": 197,
   "id": "67a0242d",
   "metadata": {
    "hidden": true
   },
   "outputs": [
    {
     "name": "stdout",
     "output_type": "stream",
     "text": [
      "f2 function\n"
     ]
    }
   ],
   "source": [
    "def f1(func):\n",
    "    func()\n",
    "def f2():\n",
    "    print('f2 function')\n",
    "f1(f2)"
   ]
  },
  {
   "cell_type": "code",
   "execution_count": 196,
   "id": "dfb534f5",
   "metadata": {
    "hidden": true
   },
   "outputs": [
    {
     "name": "stdout",
     "output_type": "stream",
     "text": [
      "Hello!\n",
      "[2, 4, 6, 8, 10]\n",
      "[1, 4, 9, 16, 25]\n",
      "[Student(name='Alice', age=18, grade=A), Student(name='Bob', age=20, grade=B), Student(name='Charlie', age=19, grade=A), Student(name='David', age=18, grade=C), Student(name='Eve', age=21, grade=B)]\n",
      "[Student(name='Alice', age=18, grade=A), Student(name='David', age=18, grade=C), Student(name='Charlie', age=19, grade=A), Student(name='Bob', age=20, grade=B), Student(name='Eve', age=21, grade=B)]\n",
      "[Student(name='Alice', age=18, grade=A), Student(name='Charlie', age=19, grade=A), Student(name='Bob', age=20, grade=B), Student(name='Eve', age=21, grade=B), Student(name='David', age=18, grade=C)]\n",
      "[10, 2, 2, 10, 26]\n"
     ]
    }
   ],
   "source": [
    "def greet():\n",
    "    print(\"Hello!\")\n",
    "def call_function(func):\n",
    "    func()\n",
    "# Pass the 'greet' function as an argument to 'call_function'\n",
    "call_function(greet)\n",
    "\n",
    "#--------------------------------------\n",
    "\n",
    "def apply_operation(operation, items):\n",
    "    results = []\n",
    "    for item in items:\n",
    "        result = operation(item)\n",
    "        results.append(result)\n",
    "    return results\n",
    "def double(number):\n",
    "    return number * 2\n",
    "def square(number):\n",
    "    return number ** 2\n",
    "numbers = [1, 2, 3, 4, 5]\n",
    "# Pass the 'double' function as an argument to 'apply_operation'\n",
    "doubled_numbers = apply_operation(double, numbers)\n",
    "print(doubled_numbers)  # Output: [2, 4, 6, 8, 10]\n",
    "# Pass the 'square' function as an argument to 'apply_operation'\n",
    "squared_numbers = apply_operation(square, numbers)\n",
    "print(squared_numbers)  # Output: [1, \n",
    "\n",
    "#--------------------------------------\n",
    "class Student:\n",
    "    def __init__(self, name, age, grade):\n",
    "        self.name = name\n",
    "        self.age = age\n",
    "        self.grade = grade\n",
    "    def __repr__(self):\n",
    "        return f\"Student(name='{self.name}', age={self.age}, grade={self.grade})\"\n",
    "def sort_students(students, key_func):\n",
    "    return sorted(students, key=key_func)\n",
    "students = [\n",
    "    Student(\"Alice\", 18, \"A\"),\n",
    "    Student(\"Bob\", 20, \"B\"),\n",
    "    Student(\"Charlie\", 19, \"A\"),\n",
    "    Student(\"David\", 18, \"C\"),\n",
    "    Student(\"Eve\", 21, \"B\")\n",
    "]\n",
    "# Sort students by name\n",
    "sorted_by_name = sort_students(students, key_func=lambda student: student.name)\n",
    "print(sorted_by_name)\n",
    "# Sort students by age\n",
    "sorted_by_age = sort_students(students, key_func=lambda student: student.age)\n",
    "print(sorted_by_age)\n",
    "# Sort students by grade\n",
    "sorted_by_grade = sort_students(students, key_func=lambda student: student.grade)\n",
    "print(sorted_by_grade)\n",
    "\n",
    "#----------------------------------------\n",
    "def compose(*functions):\n",
    "    def inner(arg):\n",
    "        result = arg\n",
    "        for func in reversed(functions):\n",
    "            result = func(result)\n",
    "        return result\n",
    "    return inner\n",
    "def add_one(number):\n",
    "    return number + 1\n",
    "def square(number):\n",
    "    return number ** 2\n",
    "def subtract_five(number):\n",
    "    return number - 5\n",
    "def multiply_by_two(number):\n",
    "    return number * 2\n",
    "def is_even(number):\n",
    "    return number % 2 == 0\n",
    "data = [1, 2, 3, 4, 5]\n",
    "transformation = compose(\n",
    "    add_one,\n",
    "    square,\n",
    "    subtract_five,\n",
    "    multiply_by_two\n",
    ")\n",
    "filtered_data = list(filter(is_even, map(transformation, data)))\n",
    "print(filtered_data)"
   ]
  },
  {
   "cell_type": "markdown",
   "id": "1e1bf454",
   "metadata": {
    "hidden": true
   },
   "source": [
    "## Decorator Intro"
   ]
  },
  {
   "cell_type": "markdown",
   "id": "be725aa2",
   "metadata": {
    "hidden": true
   },
   "source": [
    "⚽ Decorator is a function which can take a function as argument and extend its functionality and returns modified function with extended functionality.<br>\n",
    "⚽ The main objective of decorator functions is we can extend the functionality of existing functions without modifies that function. <br>"
   ]
  },
  {
   "cell_type": "code",
   "execution_count": 1,
   "id": "e54f1668",
   "metadata": {
    "hidden": true
   },
   "outputs": [],
   "source": [
    "##Syntex\n",
    "\n",
    "def decorator_function(input_function): # Function as argument to another function\n",
    "    def output_function(): # Nested function\n",
    "        print('Add Extra Power')\n",
    "    return output_function #Returning a function with extra functionality"
   ]
  },
  {
   "cell_type": "code",
   "execution_count": 256,
   "id": "e16440ea",
   "metadata": {
    "hidden": true
   },
   "outputs": [
    {
     "name": "stdout",
     "output_type": "stream",
     "text": [
      "send the person to beauty parlor\n",
      "Now show the person with full of makeup\n"
     ]
    }
   ],
   "source": [
    "@deco\n",
    "def display():\n",
    "    print('Showing a person as it is for marriage')\n",
    "\n",
    "def deco(func): #here display func will pass but return is inner function\n",
    "    def inner():\n",
    "        print('send the person to beauty parlor')\n",
    "        print('Now show the person with full of makeup')\n",
    "    return inner #if this is replaced by return func, display function will be executed\n",
    "\n",
    "display() # Python will check if a decorator is present and will bypass original to run the decorator\n",
    "\n",
    "'''\n",
    "Impartant - number of arguments in inner function should be same as original function(display)\n",
    "'''"
   ]
  },
  {
   "cell_type": "code",
   "execution_count": 258,
   "id": "8fbc0b0e",
   "metadata": {
    "hidden": true
   },
   "outputs": [
    {
     "name": "stdout",
     "output_type": "stream",
     "text": [
      "##############################\n",
      "The sum is: 30\n",
      "##############################\n"
     ]
    }
   ],
   "source": [
    "# passing original function in inner function\n",
    "def dec_for_add(func):\n",
    "    def inner(c,d): # no of argument should be same as original function\n",
    "        print('#'*30)\n",
    "        print('The sum is: ', end='')\n",
    "        func(c,d)\n",
    "        print('#'*30)\n",
    "    return inner\n",
    "\n",
    "@dec_for_add\n",
    "def add(a,b):\n",
    "    print(a+b)\n",
    "\n",
    "add(10,20)"
   ]
  },
  {
   "cell_type": "code",
   "execution_count": 176,
   "id": "c2ba08b0",
   "metadata": {
    "hidden": true
   },
   "outputs": [
    {
     "name": "stdout",
     "output_type": "stream",
     "text": [
      "Hello Durga Good Morning\n",
      "Hello Ravi Good Morning\n",
      "Hello Sunny Good Morning\n",
      "\n",
      "Hello Durga Good Morning\n",
      "Hello Ravi Good Morning\n",
      "Hello Sunny, Bad Morning\n"
     ]
    }
   ],
   "source": [
    "# This function can always print same output for any name\n",
    "\n",
    "def wish(name): \n",
    "    print(\"Hello\",name,\"Good Morning\") \n",
    "    \n",
    "wish(\"Durga\")\n",
    "wish(\"Ravi\")\n",
    "wish(\"Sunny\")\n",
    "print()\n",
    "\n",
    "#But we want to modify this function to provide different message if name is Sunny. We can do this without touching wish() function by using decorator.\n",
    "\n",
    "def decor(func):\n",
    "    def inner(name):\n",
    "        if name == \"Sunny\":\n",
    "            print(\"Hello Sunny, Bad Morning\")\n",
    "        else:\n",
    "            func(name)\n",
    "    return inner\n",
    "@decor\n",
    "def wish(name):\n",
    "    print(\"Hello\", name, \"Good Morning\")\n",
    "    \n",
    "wish(\"Durga\")\n",
    "wish(\"Ravi\")\n",
    "wish(\"Sunny\")\n"
   ]
  },
  {
   "cell_type": "code",
   "execution_count": 9,
   "id": "0cee7504",
   "metadata": {
    "hidden": true
   },
   "outputs": [
    {
     "name": "stdout",
     "output_type": "stream",
     "text": [
      "##################################################\n",
      "Hello CM You are very important for us\n",
      "Very very good morning!!!\n",
      "##################################################\n",
      "Good Morning: Durga\n"
     ]
    }
   ],
   "source": [
    "def decor(func):\n",
    "    def inner(name):\n",
    "        names=['CM','PM','Minister']\n",
    "        if name in names:\n",
    "            print('#'*50)\n",
    "            print('Hello {} You are very important for us'.format(name))\n",
    "            print('Very very good morning!!!')\n",
    "            print('#'*50)\n",
    "        else:\n",
    "            func(name)\n",
    "    return inner\n",
    "@decor\n",
    "def wish(name):\n",
    "    print('Good Morning:', name)\n",
    "\n",
    "wish('CM')\n",
    "wish('Durga')\n",
    "    "
   ]
  },
  {
   "cell_type": "code",
   "execution_count": 11,
   "id": "2aa1f828",
   "metadata": {
    "hidden": true
   },
   "outputs": [
    {
     "name": "stdout",
     "output_type": "stream",
     "text": [
      "We are dividing 20 by 2\n",
      "10.0\n",
      "We are dividing 20 by 0\n",
      "OOPS... cannot divide\n",
      "None\n"
     ]
    }
   ],
   "source": [
    "def smart_division(func):\n",
    "    def inner(a, b):\n",
    "        print(\"We are dividing\", a, \"by\", b)\n",
    "        if b == 0:\n",
    "            print(\"OOPS... cannot divide\")\n",
    "        else:\n",
    "            return func(a, b)\n",
    "    return inner\n",
    "@smart_division\n",
    "def division(a, b):\n",
    "    return a / b\n",
    "print(division(20, 2))\n",
    "print(division(20, 0))\n"
   ]
  },
  {
   "cell_type": "markdown",
   "id": "c7df0756",
   "metadata": {
    "heading_collapsed": true,
    "hidden": true
   },
   "source": [
    "## How to call Same Function with Decorator and without Decorator"
   ]
  },
  {
   "cell_type": "markdown",
   "id": "e6dc8e15",
   "metadata": {
    "hidden": true
   },
   "source": [
    "⚽ We will not use @deco insted save the decorator using Function Alisaing concept as new function but pass original function as argument to it.<br>\n",
    "⚽ So if we need to run decorator just run this aliased function. If not run the original function."
   ]
  },
  {
   "cell_type": "code",
   "execution_count": 177,
   "id": "3b9e8822",
   "metadata": {
    "hidden": true
   },
   "outputs": [
    {
     "name": "stdout",
     "output_type": "stream",
     "text": [
      "Hello Durga Good Morning\n",
      "Hello Sunny Good Morning\n",
      "Hello Durga Good Morning\n",
      "Hello Sunny, Bad Morning\n"
     ]
    }
   ],
   "source": [
    "# We should not use @decor\n",
    "def decor(func):\n",
    "    def inner(name):\n",
    "        if name == \"Sunny\":\n",
    "            print(\"Hello Sunny, Bad Morning\")\n",
    "        else:\n",
    "            func(name)\n",
    "    return inner\n",
    "\n",
    "def wish(name):\n",
    "    print(\"Hello\", name, \"Good Morning\")\n",
    "\n",
    "decorfunction = decor(wish)\n",
    "\n",
    "wish(\"Durga\")  # Decorator won't be executed\n",
    "wish(\"Sunny\")  # Decorator won't be executed\n",
    "\n",
    "decorfunction(\"Durga\")  # Decorator will be executed\n",
    "decorfunction(\"Sunny\")  # Decorator will be executed\n"
   ]
  },
  {
   "cell_type": "code",
   "execution_count": 182,
   "id": "cdbdf852",
   "metadata": {
    "hidden": true
   },
   "outputs": [
    {
     "name": "stdout",
     "output_type": "stream",
     "text": [
      "Hair decoration...\n",
      "Face decoration with Platinum package\n",
      "Fair and Lovely etc..\n",
      "Ready for the marriage\n"
     ]
    }
   ],
   "source": [
    "def marriagedecor(func):\n",
    "    def inner():\n",
    "        print('Hair decoration...')\n",
    "        print('Face decoration with Platinum package')\n",
    "        print('Fair and Lovely etc..')\n",
    "        func()\n",
    "    return inner\n",
    "def getready():\n",
    "    print('Ready for the marriage')\n",
    "decorated_getready = marriagedecor(getready)\n",
    "decorated_getready()\n"
   ]
  },
  {
   "cell_type": "markdown",
   "id": "4dcd2f1a",
   "metadata": {
    "hidden": true
   },
   "source": [
    "## Decorator Chaining\n",
    "⚽ We can define multiple decorators for the same function and all these decorators will form Decorator Chaining<br>\n",
    "⚽ Assume for a marraige a series of steps will be needed. Example - Facial Decoration + Hair Decoration + Dress Decoration = Final Person\n",
    "\n",
    "@dress_deco<br>\n",
    "@hair_deco<br>\n",
    "@facial_deco<br>\n",
    "def marraige:<br>"
   ]
  },
  {
   "cell_type": "code",
   "execution_count": 29,
   "id": "93a945fd",
   "metadata": {
    "hidden": true
   },
   "outputs": [
    {
     "name": "stdout",
     "output_type": "stream",
     "text": [
      "Decorator 2 execution\n"
     ]
    }
   ],
   "source": [
    "# Example\n",
    "\n",
    "def decor1(func):\n",
    "    def inner1():\n",
    "        print('Decorator 1 execution')\n",
    "        #func() if this is enabled, while executting decor1 after decor2 original function will also be executed as input to decor1 is original function\n",
    "    return inner1\n",
    "\n",
    "def decor2(func):\n",
    "    def inner2():\n",
    "        print('Decorator 2 execution')\n",
    "        #func() if this is enabled, decor2 will call it's input function i.e. inner1 and hence both inner1 & 2 will be executed \n",
    "    return inner2\n",
    "\n",
    "# First nearest decorator will run\n",
    "@decor2 #inner1 will become input to decor2 which will produce inner2 as final output\n",
    "@decor1 #this will produce inner1 as return. \n",
    "def f():\n",
    "    print('Original Function')\n",
    "    \n",
    "f()"
   ]
  },
  {
   "cell_type": "markdown",
   "id": "5caaa1a3",
   "metadata": {
    "heading_collapsed": true,
    "hidden": true
   },
   "source": [
    "### # Example1: Recursive error and Kernal Will Die"
   ]
  },
  {
   "cell_type": "code",
   "execution_count": null,
   "id": "e967a51f",
   "metadata": {
    "hidden": true
   },
   "outputs": [],
   "source": [
    "def decor1(func):\n",
    "    def inner1():\n",
    "        print('Decorator 1 execution')\n",
    "    return inner1\n",
    "\n",
    "def decor2(func):\n",
    "    def inner2():\n",
    "        print('Decorator 2 execution')\n",
    "        f() #calling original function from decor2, this will result in recursive error\n",
    "    return inner2\n",
    "\n",
    "# First nearest decorator will run\n",
    "@decor2 \n",
    "@decor1 \n",
    "def f():\n",
    "    print('Original Function')\n",
    "    \n",
    "f()"
   ]
  },
  {
   "cell_type": "markdown",
   "id": "623ed90c",
   "metadata": {
    "hidden": true
   },
   "source": [
    "### Example2: "
   ]
  },
  {
   "cell_type": "code",
   "execution_count": 2,
   "id": "04a00166",
   "metadata": {
    "hidden": true
   },
   "outputs": [
    {
     "name": "stdout",
     "output_type": "stream",
     "text": [
      "400\n"
     ]
    }
   ],
   "source": [
    "'''\n",
    "Eg: \n",
    "@decor1 \n",
    "@decor \n",
    "def num():\n",
    "\n",
    "For num() function we are applying 2 decorator functions. First inner decorator will work and then outer decorator.\n",
    "'''\n",
    "def decor1(func):\n",
    "    def inner():\n",
    "        x = func()\n",
    "        return x * x\n",
    "    return inner\n",
    "def decor(func):\n",
    "    def inner():\n",
    "        x = func()\n",
    "        return 2 * x\n",
    "    return inner\n",
    "@decor1\n",
    "@decor\n",
    "def num():\n",
    "    return 10\n",
    "print(num())"
   ]
  },
  {
   "cell_type": "markdown",
   "id": "57c8ab13",
   "metadata": {
    "heading_collapsed": true
   },
   "source": [
    "# Generator"
   ]
  },
  {
   "cell_type": "markdown",
   "id": "66e8300f",
   "metadata": {
    "hidden": true
   },
   "source": [
    "⚽ Generator is a function which is responsible to generate a sequence of values. We can write generator functions just like ordinary functions, but it uses yield keyword to return values<br>\n",
    "⚽ We can write generator functions just like ordinary functions, but it uses a special keyword **yield** to return values."
   ]
  },
  {
   "cell_type": "markdown",
   "id": "1a0c4449",
   "metadata": {
    "hidden": true
   },
   "source": [
    "**Use of Generator:<br>**\n",
    "⚽ Huge web scraping, traditional collections will not work<br>\n",
    "⚽ Quering databases, collection will consume lot of memory<br>\n",
    "    "
   ]
  },
  {
   "cell_type": "markdown",
   "id": "6219f1fa",
   "metadata": {
    "hidden": true
   },
   "source": [
    "**Advantages of Generator Functions:**<br> \n",
    "1) When compared with Class Level Iterators, Generators are very easy to use.<br> \n",
    "2) Improves Memory Utilization and Performance.<br> \n",
    "3) Generators are best suitable for reading Data from Large Number of Large Files.<br> \n",
    "4) Generators work great for web scraping and crawling."
   ]
  },
  {
   "cell_type": "markdown",
   "id": "169c8fa3",
   "metadata": {
    "heading_collapsed": true,
    "hidden": true
   },
   "source": [
    "## Generators vs Normal Collections wrt Memory Utilization"
   ]
  },
  {
   "cell_type": "code",
   "execution_count": 9,
   "id": "b9de9b4d",
   "metadata": {
    "collapsed": true,
    "hidden": true
   },
   "outputs": [
    {
     "name": "stdout",
     "output_type": "stream",
     "text": [
      "[0, 1, 4, 9, 16, 25, 36, 49, 64, 81]\n",
      "<class 'list'>\n",
      "<class 'generator'>\n",
      "0\n",
      "1\n",
      "4\n",
      "9\n",
      "16\n",
      "25\n",
      "36\n",
      "49\n",
      "64\n",
      "81\n"
     ]
    },
    {
     "ename": "StopIteration",
     "evalue": "",
     "output_type": "error",
     "traceback": [
      "\u001b[1;31m---------------------------------------------------------------------------\u001b[0m",
      "\u001b[1;31mStopIteration\u001b[0m                             Traceback (most recent call last)",
      "\u001b[1;32m~\\AppData\\Local\\Temp\\ipykernel_35628\\258972489.py\u001b[0m in \u001b[0;36m<module>\u001b[1;34m\u001b[0m\n\u001b[0;32m     15\u001b[0m \u001b[1;33m\u001b[0m\u001b[0m\n\u001b[0;32m     16\u001b[0m \u001b[1;32mwhile\u001b[0m \u001b[1;32mTrue\u001b[0m\u001b[1;33m:\u001b[0m\u001b[1;33m\u001b[0m\u001b[1;33m\u001b[0m\u001b[0m\n\u001b[1;32m---> 17\u001b[1;33m     \u001b[0mprint\u001b[0m\u001b[1;33m(\u001b[0m\u001b[0mnext\u001b[0m\u001b[1;33m(\u001b[0m\u001b[0mg\u001b[0m\u001b[1;33m)\u001b[0m\u001b[1;33m)\u001b[0m\u001b[1;33m\u001b[0m\u001b[1;33m\u001b[0m\u001b[0m\n\u001b[0m",
      "\u001b[1;31mStopIteration\u001b[0m: "
     ]
    }
   ],
   "source": [
    "# list comprehension i.e. Normal Collection\n",
    "# We will get MemoryError in this case because all these values are required to store in the memory.\n",
    "\n",
    "l = [x*x for x in range(10)]\n",
    "print(l)\n",
    "print(type(l), end = '\\n')\n",
    "\n",
    "'''\n",
    "-> As we know, in Python everything is object. So in above code there will be 10 objects created and the values are saved in l[0] till l[9]\n",
    "-> If we replace 10 by 100000. It will result in \"memory error\" as 100000 objects will be created.\n",
    "This can be acheived using generator.\n",
    "\n",
    "-> In below example, lets replace list with tuple. Comprehension concept is not present in tuple.\n",
    "-> We can also replace 1o with 1000000000 we will not get memory error.\n",
    "-> Generator will not store any objects. When ever it is asked to generate next element, it will generate and provide it but in list all \n",
    "objects will be created and stored in starting itself\n",
    "-> It is just like a formula and will work on demand.\n",
    "'''\n",
    "# Generator\n",
    "# We won't get any MemoryError because the values won't be stored at the beginning\n",
    "\n",
    "g = (x*x for x in range(10)) #can be replaced with 1000000000\n",
    "print(type(g)) # we see this is generator class\n",
    "\n",
    "while True:\n",
    "    print(next(g))"
   ]
  },
  {
   "cell_type": "markdown",
   "id": "dfa3baa6",
   "metadata": {
    "heading_collapsed": true,
    "hidden": true
   },
   "source": [
    "## Basic Generator Syntex & Example"
   ]
  },
  {
   "cell_type": "code",
   "execution_count": 15,
   "id": "fee77b65",
   "metadata": {
    "hidden": true
   },
   "outputs": [
    {
     "name": "stdout",
     "output_type": "stream",
     "text": [
      "<class 'generator'>\n",
      "A\n",
      "B\n",
      "C\n"
     ]
    }
   ],
   "source": [
    "def mygen():\n",
    "    yield 'A'\n",
    "    yield 'B'\n",
    "    yield 'C'\n",
    "    \n",
    "g = mygen()\n",
    "print(type(g))\n",
    "print(next(g))\n",
    "print(next(g))\n",
    "print(next(g))\n",
    "\n",
    "# in loop, if we don't know how manu elements the generator will generator\n",
    "for x in g:\n",
    "    print(x)"
   ]
  },
  {
   "cell_type": "code",
   "execution_count": 16,
   "id": "6b110fa0",
   "metadata": {
    "hidden": true
   },
   "outputs": [
    {
     "name": "stdout",
     "output_type": "stream",
     "text": [
      "1\n",
      "2\n",
      "3\n",
      "4\n",
      "5\n",
      "6\n",
      "7\n",
      "8\n",
      "9\n",
      "10\n"
     ]
    }
   ],
   "source": [
    "def first_n_value_generator(n):\n",
    "    i=1\n",
    "    while i<=n:\n",
    "        yield i\n",
    "        i=i+1\n",
    "g = first_n_value_generator(10) #we can pass 100000000000 numbers, we will never get memory error\n",
    "for x in g:\n",
    "    print(x)"
   ]
  },
  {
   "cell_type": "code",
   "execution_count": 20,
   "id": "8d695e7c",
   "metadata": {
    "hidden": true
   },
   "outputs": [
    {
     "name": "stdout",
     "output_type": "stream",
     "text": [
      "Start Countdown\n",
      "5\n",
      "4\n",
      "3\n",
      "2\n",
      "1\n",
      "1\n",
      "2\n",
      "3\n",
      "4\n",
      "5\n",
      "0\n",
      "1\n",
      "1\n",
      "2\n",
      "3\n",
      "5\n",
      "8\n",
      "13\n",
      "21\n",
      "34\n",
      "55\n",
      "89\n"
     ]
    }
   ],
   "source": [
    "# countdown\n",
    "def countdown(num):\n",
    "    print(\"Start Countdown\")\n",
    "    while num > 0:\n",
    "        yield num\n",
    "        num = num - 1\n",
    "\n",
    "values = countdown(5)\n",
    "for x in values:\n",
    "    print(x, end = '\\n')\n",
    "\n",
    "# .......................\n",
    "# To generate first n numbers\n",
    "def firstn(num):\n",
    "    n = 1\n",
    "    while n <= num:\n",
    "        yield n\n",
    "        n = n + 1\n",
    "\n",
    "values = firstn(5)\n",
    "for x in values:\n",
    "    print(x, end = '\\n')\n",
    "    \n",
    "# ........................\n",
    "# Fibonaci\n",
    "def fib():\n",
    "    a, b = 0, 1\n",
    "    while True:\n",
    "        yield a\n",
    "        a, b = b, a + b\n",
    "\n",
    "for f in fib():\n",
    "    if f > 100:\n",
    "        break\n",
    "    print(f, end = '\\n')\n",
    "#..........................\n",
    "\n",
    "\n"
   ]
  },
  {
   "cell_type": "markdown",
   "id": "3512c7aa",
   "metadata": {
    "heading_collapsed": true,
    "hidden": true
   },
   "source": [
    "## Generators vs Normal Collections wrt Performance"
   ]
  },
  {
   "cell_type": "code",
   "execution_count": 25,
   "id": "3aac7a75",
   "metadata": {
    "hidden": true
   },
   "outputs": [
    {
     "name": "stdout",
     "output_type": "stream",
     "text": [
      "Generator Took 4.1700001020217314e-05\n",
      "Normal Collections Took 0.08264849999977741\n"
     ]
    }
   ],
   "source": [
    "import random\n",
    "import time\n",
    "\n",
    "names = ['Sunny', 'Bunny', 'Chinny', 'Vinny']\n",
    "subjects = ['Python', 'Java', 'Blockchain']\n",
    "\n",
    "def people_list(num_people):\n",
    "    results = []\n",
    "    for i in range(num_people):\n",
    "        person = {\n",
    "            'id': i,\n",
    "            'name': random.choice(names),\n",
    "            'subject': random.choice(subjects)\n",
    "        }\n",
    "        results.append(person)\n",
    "    return results\n",
    "\n",
    "def people_generator(num_people):\n",
    "    for i in range(num_people):\n",
    "        person = {\n",
    "            'id': i,\n",
    "            'name': random.choice(names),\n",
    "            'major': random.choice(subjects)\n",
    "        }\n",
    "        yield person\n",
    "\n",
    "t1 = time.perf_counter()\n",
    "people1 = people_generator(10000000)\n",
    "t2 = time.perf_counter()\n",
    "print('Generator Took {}'.format(t2 - t1))\n",
    "\n",
    "t3 = time.perf_counter()\n",
    "people2 = people_list(100000)\n",
    "t4 = time.perf_counter()\n",
    "print('Normal Collections Took {}'.format(t4 - t3))"
   ]
  },
  {
   "cell_type": "markdown",
   "id": "fd620778",
   "metadata": {
    "heading_collapsed": true,
    "hidden": true
   },
   "source": [
    "## Generator Object to List"
   ]
  },
  {
   "cell_type": "code",
   "execution_count": null,
   "id": "b93fd550",
   "metadata": {
    "hidden": true
   },
   "outputs": [],
   "source": [
    "g = geneartor(1000)\n",
    "l = list(g)\n",
    "print(l)"
   ]
  },
  {
   "cell_type": "markdown",
   "id": "5cb2241f",
   "metadata": {
    "heading_collapsed": true
   },
   "source": [
    "# Magic Methods"
   ]
  },
  {
   "cell_type": "markdown",
   "id": "790c533f",
   "metadata": {
    "hidden": true
   },
   "source": [
    "Magic methods in Python are the special methods that start and end with the double underscores. They are also called dunder methods. Magic methods are not meant to be invoked directly by you, but the invocation happens internally from the class on a certain action. For example, when you add two numbers using the + operator, internally, the __add__() method will be called.<br>\n",
    "\n",
    "Built-in classes in Python define many magic methods. Use the **dir()** function to see the number of magic methods inherited by a class. For example, the following lists all the attributes and methods defined in the int class."
   ]
  },
  {
   "cell_type": "code",
   "execution_count": 14,
   "id": "6c6d1b4c",
   "metadata": {
    "hidden": true
   },
   "outputs": [
    {
     "name": "stdout",
     "output_type": "stream",
     "text": [
      "['__abs__', '__add__', '__and__', '__bool__', '__ceil__', '__class__', '__delattr__', '__dir__', '__divmod__', '__doc__', '__eq__', '__float__', '__floor__', '__floordiv__', '__format__', '__ge__', '__getattribute__', '__getnewargs__', '__gt__', '__hash__', '__index__', '__init__', '__init_subclass__', '__int__', '__invert__', '__le__', '__lshift__', '__lt__', '__mod__', '__mul__', '__ne__', '__neg__', '__new__', '__or__', '__pos__', '__pow__', '__radd__', '__rand__', '__rdivmod__', '__reduce__', '__reduce_ex__', '__repr__', '__rfloordiv__', '__rlshift__', '__rmod__', '__rmul__', '__ror__', '__round__', '__rpow__', '__rrshift__', '__rshift__', '__rsub__', '__rtruediv__', '__rxor__', '__setattr__', '__sizeof__', '__str__', '__sub__', '__subclasshook__', '__truediv__', '__trunc__', '__xor__', 'as_integer_ratio', 'bit_length', 'conjugate', 'denominator', 'from_bytes', 'imag', 'numerator', 'real', 'to_bytes']\n"
     ]
    }
   ],
   "source": [
    "print(dir(int))"
   ]
  },
  {
   "cell_type": "markdown",
   "id": "32e2f0e7",
   "metadata": {
    "hidden": true
   },
   "source": [
    "| Initialization and Construction | Description                            |\n",
    "|---------------------------------|----------------------------------------|\n",
    "| `__new__(cls, other)`           | To get called in an object's instantiation. |\n",
    "| `__init__(self, other)`         | To get called by the `__new__` method.   |\n",
    "| `__del__(self)`                 | Destructor method.                      |\n",
    "\n",
    "\n",
    "| Unary operators and functions | Description                                     |\n",
    "|-----------------------------|-------------------------------------------------|\n",
    "| `__pos__(self)`             | To get called for unary positive, e.g., `+someobject`.     |\n",
    "| `__neg__(self)`             | To get called for unary negative, e.g., `-someobject`.     |\n",
    "| `__abs__(self)`             | To get called by the built-in `abs()` function.            |\n",
    "| `__invert__(self)`          | To get called for inversion using the `~` operator.        |\n",
    "| `__round__(self, n)`        | To get called by the built-in `round()` function.          |\n",
    "| `__floor__(self)`           | To get called by the built-in `math.floor()` function.     |\n",
    "| `__ceil__(self)`            | To get called by the built-in `math.ceil()` function.      |\n",
    "| `__trunc__(self)`           | To get called by the built-in `math.trunc()` function.     |\n",
    "\n",
    "| Augmented Assignment         | Description                                                |\n",
    "|-----------------------------|------------------------------------------------------------|\n",
    "| `__iadd__(self, other)`     | To get called on addition with assignment, e.g., `a += b`.       |\n",
    "| `__isub__(self, other)`     | To get called on subtraction with assignment, e.g., `a -= b`.    |\n",
    "| `__imul__(self, other)`     | To get called on multiplication with assignment, e.g., `a *= b`. |\n",
    "| `__ifloordiv__(self, other)`| To get called on integer division with assignment, e.g., `a //= b`. |\n",
    "| `__idiv__(self, other)`     | To get called on division with assignment, e.g., `a /= b`.        |\n",
    "| `__itruediv__(self, other)` | To get called on true division with assignment.                  |\n",
    "| `__imod__(self, other)`     | To get called on modulo with assignment, e.g., `a %= b`.         |\n",
    "| `__ipow__(self, other)`     | To get called on exponents with assignment, e.g., `a **= b`.     |\n",
    "| `__ilshift__(self, other)`  | To get called on left bitwise shift with assignment, e.g., `a <<= b`. |\n",
    "| `__irshift__(self, other)`  | To get called on right bitwise shift with assignment, e.g., `a >>= b`. |\n",
    "| `__iand__(self, other)`     | To get called on bitwise AND with assignment, e.g., `a &= b`.       |\n",
    "| `__ior__(self, other)`      | To get called on bitwise OR with assignment, e.g., `a |= b`.        |\n",
    "| `__ixor__(self, other)`     | To get called on bitwise XOR with assignment, e.g., `a ^= b`.       |\n",
    "\n",
    "| Type Conversion Magic Methods | Description                                                        |\n",
    "|-----------------------------|--------------------------------------------------------------------|\n",
    "| `__int__(self)`             | To get called by the built-in `int()` method to convert a type to an `int`.              |\n",
    "| `__float__(self)`           | To get called by the built-in `float()` method to convert a type to a `float`.           |\n",
    "| `__complex__(self)`         | To get called by the built-in `complex()` method to convert a type to `complex`.         |\n",
    "| `__oct__(self)`             | To get called by the built-in `oct()` method to convert a type to octal.                 |\n",
    "| `__hex__(self)`             | To get called by the built-in `hex()` method to convert a type to hexadecimal.          |\n",
    "| `__index__(self)`           | To get called on type conversion to an `int` when the object is used in a slice expression. |\n",
    "| `__trunc__(self)`           | To get called from `math.trunc()` method.                                            |\n",
    "\n",
    "| String Magic Methods         | Description                                                                     |\n",
    "|-----------------------------|---------------------------------------------------------------------------------|\n",
    "| `__str__(self)`             | To get called by the built-in `str()` method to return a string representation of a type.        |\n",
    "| `__repr__(self)`            | To get called by the built-in `repr()` method to return a machine-readable representation of a type. |\n",
    "| `__unicode__(self)`         | To get called by the built-in `unicode()` method to return a Unicode string of a type.           |\n",
    "| `__format__(self, formatstr)` | To get called by the built-in `string.format()` method to return a new style of string.        |\n",
    "| `__hash__(self)`            | To get called by the built-in `hash()` method to return an integer.                  |\n",
    "| `__nonzero__(self)`         | To get called by the built-in `bool()` method to return `True` or `False`.            |\n",
    "| `__dir__(self)`             | To get called by the built-in `dir()` method to return a list of attributes of a class. |\n",
    "| `__sizeof__(self)`          | To get called by the built-in `sys.getsizeof()` method to return the size of an object.     |\n",
    "\n",
    "| Attribute Magic Methods     | Description                                                                     |\n",
    "|----------------------------|---------------------------------------------------------------------------------|\n",
    "| `__getattr__(self, name)`   | Is called when accessing an attribute of a class that does not exist.                  |\n",
    "| `__setattr__(self, name, value)` | Is called when assigning a value to an attribute of a class.                |\n",
    "| `__delattr__(self, name)`  | Is called when deleting an attribute of a class.                            |\n",
    "\n",
    "| Operator Magic Methods          | Description                                                                   |\n",
    "|--------------------------------|-------------------------------------------------------------------------------|\n",
    "| `__add__(self, other)`         | To get called on addition operation using the `+` operator.                           |\n",
    "| `__sub__(self, other)`         | To get called on subtraction operation using the `-` operator.                        |\n",
    "| `__mul__(self, other)`         | To get called on multiplication operation using the `*` operator.                     |\n",
    "| `__floordiv__(self, other)`    | To get called on floor division operation using the `//` operator.                   |\n",
    "| `__truediv__(self, other)`     | To get called on division operation using the `/` operator.                            |\n",
    "| `__mod__(self, other)`         | To get called on modulo operation using the `%` operator.                             |\n",
    "| `__pow__(self, other[, modulo])` | To get called on calculating the power using the `**` operator.                     |\n",
    "| `__lt__(self, other)`          | To get called on comparison using the `<` operator.                                   |\n",
    "| `__le__(self, other)`          | To get called on comparison using the `<=` operator.                                  |\n",
    "| `__eq__(self, other)`          | To get called on comparison using the `==` operator.                                  |\n",
    "| `__ne__(self, other)`          | To get called on comparison using the `!=` operator.                                  |\n",
    "| `__ge__(self, other)`          | To get called on comparison using the `>=` operator.                                  |\n",
    "\n",
    "\n",
    "\n",
    "\n",
    "\n"
   ]
  },
  {
   "cell_type": "markdown",
   "id": "c2672921",
   "metadata": {
    "heading_collapsed": true
   },
   "source": [
    "# Numpy"
   ]
  },
  {
   "cell_type": "markdown",
   "id": "30b01c7f",
   "metadata": {
    "hidden": true
   },
   "source": [
    "| Function             | Description                                         | Example                      |\n",
    "| -------------------- | --------------------------------------------------- | ---------------------------- |\n",
    "| `numpy.array()`      | Creates a NumPy array from a list or tuple           | `np.array([1, 2, 3])`        |\n",
    "| `numpy.arange()`     | Returns evenly spaced values within a given interval | `np.arange(0, 10, 2)`        |\n",
    "| `numpy.zeros()`      | Returns a new array filled with zeros                | `np.zeros((2, 3))`           |\n",
    "| `numpy.ones()`       | Returns a new array filled with ones                 | `np.ones((2, 3))`            |\n",
    "| `numpy.empty()`      | Returns a new array with uninitialized data          | `np.empty((2, 3))`           |\n",
    "| `numpy.linspace()`   | Returns evenly spaced numbers over a specified range | `np.linspace(0, 1, 5)`       |\n",
    "| `numpy.reshape()`    | Gives a new shape to an array without changing data  | `np.reshape(arr, (2, 3))`    |\n",
    "| `numpy.transpose()`  | Permute the dimensions of an array                   | `np.transpose(arr)`          |\n",
    "| `numpy.concatenate()`| Joins arrays along an existing axis                  | `np.concatenate([arr1, arr2], axis=1)` |\n",
    "| `numpy.split()`      | Splits an array into multiple sub-arrays             | `np.split(arr, 3)`           |\n",
    "| `numpy.max()`        | Returns the maximum value along a given axis         | `np.max(arr)`                |\n",
    "| `numpy.min()`        | Returns the minimum value along a given axis         | `np.min(arr)`                |\n",
    "| `numpy.sum()`        | Returns the sum of all elements along a given axis   | `np.sum(arr)`                |\n",
    "| `numpy.mean()`       | Computes the arithmetic mean along a specified axis  | `np.mean(arr)`               |\n",
    "| `numpy.std()`        | Computes the standard deviation along a specified axis | `np.std(arr)`              |\n",
    "| `numpy.argmax()`     | Returns the indices of the maximum values along a given axis | `np.argmax(arr)`       |\n",
    "| `numpy.argmin()`     | Returns the indices of the minimum values along a given axis | `np.argmin(arr)`       |\n",
    "| `numpy.dot()`        | Computes the dot product of two arrays               | `np.dot(arr1, arr2)`         |\n",
    "| `numpy.sin()`        | Returns the sine of the input array                  | `np.sin(arr)`                |\n",
    "| `numpy.cos()`        | Returns the cosine of the input array                | `np.cos(arr)`                |\n",
    "| `numpy.exp()`        | Returns the exponential of the input array           | `np.exp(arr)`                |\n",
    "| `numpy.log()`        | Returns the natural logarithm of the input array     | `np.log(arr)`                |\n"
   ]
  }
 ],
 "metadata": {
  "hide_input": false,
  "kernelspec": {
   "display_name": "Python 3 (ipykernel)",
   "language": "python",
   "name": "python3"
  },
  "language_info": {
   "codemirror_mode": {
    "name": "ipython",
    "version": 3
   },
   "file_extension": ".py",
   "mimetype": "text/x-python",
   "name": "python",
   "nbconvert_exporter": "python",
   "pygments_lexer": "ipython3",
   "version": "3.9.13"
  },
  "toc": {
   "base_numbering": 1,
   "nav_menu": {},
   "number_sections": true,
   "sideBar": true,
   "skip_h1_title": false,
   "title_cell": "Table of Contents",
   "title_sidebar": "Contents",
   "toc_cell": false,
   "toc_position": {
    "height": "573.6px",
    "left": "22px",
    "top": "110.325px",
    "width": "372.391px"
   },
   "toc_section_display": true,
   "toc_window_display": true
  }
 },
 "nbformat": 4,
 "nbformat_minor": 5
}
