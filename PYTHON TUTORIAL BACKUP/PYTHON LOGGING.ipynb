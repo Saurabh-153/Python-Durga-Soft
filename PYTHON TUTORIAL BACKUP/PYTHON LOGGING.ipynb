{
 "cells": [
  {
   "cell_type": "markdown",
   "id": "c137c8ef",
   "metadata": {
    "heading_collapsed": true
   },
   "source": [
    "# Introduction & Root Logger"
   ]
  },
  {
   "cell_type": "markdown",
   "id": "ebc69355",
   "metadata": {
    "hidden": true
   },
   "source": [
    "It is highly recommended to store complete application flow and exceptions information to a file. This process is called logging. <br>\n",
    "\n",
    "The main advanatages of logging are:<br>\n",
    "1. We can use log files while performing debugging <br>\n",
    "2. We can provide statistics like number of requests per day etc <br>\n",
    "\n",
    "To implement logging, Python provides inbuilt module logging."
   ]
  },
  {
   "cell_type": "markdown",
   "id": "680d12ec",
   "metadata": {
    "hidden": true
   },
   "source": [
    "## LOGGING LEVEL"
   ]
  },
  {
   "cell_type": "markdown",
   "id": "5d2da2df",
   "metadata": {
    "hidden": true
   },
   "source": [
    "Depending on type of information, logging data is divided according to the following 6 levels in python <br>\n",
    "1. **CRITICAL===>50** Represents a very serious problem that needs high attention <br>\n",
    "2. **ERROR ===>40** Represents a serious error <br>\n",
    "3. **WARNING ==>30** Represents a warning message, some caution needed. It is alert to the programmer. <br>\n",
    "4. **INFO==>20** Represents a message with some important information <br>\n",
    "5. **DEBUG ===>10** Represents a message with debugging information <br>\n",
    "6. **NOTSET==>0** Represents that level is not set <br>\n",
    "\n",
    "By default while executing Python program only WARNING and higher level messages will be displayed."
   ]
  },
  {
   "cell_type": "markdown",
   "id": "ea3f685a",
   "metadata": {
    "hidden": true
   },
   "source": [
    "## How to implement Logging\n",
    "\n",
    "To perform logging, first we required to create a file to store messages and we have to specify which level messages required to store.<br>\n",
    "\n",
    "We can do this by using **basicConfig()** function of logging module.<br>\n",
    "**logging.basicConfig(filename='log.txt',level=logging.WARNING)** <br>\n",
    "\n",
    "The above line will create a file log.txt and we can store either WARNING level or higher level messages to that file.<br>\n",
    "After creating log file, we can write messages to that file by using the following methods <br>\n",
    "\n",
    "☕ logging.debug(message) <br>\n",
    "☕ logging.info(message) <br>\n",
    "☕ logging.warning(message) <br>\n",
    "☕ logging.error(message) <br>\n",
    "☕ logging.critical(message) <br>"
   ]
  },
  {
   "cell_type": "code",
   "execution_count": 5,
   "id": "b277d83e",
   "metadata": {
    "hidden": true
   },
   "outputs": [
    {
     "name": "stdout",
     "output_type": "stream",
     "text": [
      "Logging Demo\n"
     ]
    },
    {
     "data": {
      "text/plain": [
       "'\\nNote: In the above program only WARNING and higher level messages will be written to the log file. \\nIf we set level as DEBUG then all messages will be written to the log file.\\nBy default, appending happens to this file.\\nWe can also replace.\\n'"
      ]
     },
     "execution_count": 5,
     "metadata": {},
     "output_type": "execute_result"
    }
   ],
   "source": [
    "import logging\n",
    "\n",
    "def main():\n",
    "    logging.basicConfig(filename=\"log.txt\", level=logging.WARNING)# can be replaced by number\n",
    "    print(\"Logging Demo\")\n",
    "    logging.debug(\"Debug Information\")\n",
    "    logging.info(\"info Information\")\n",
    "    logging.warning(\"warning Information\")\n",
    "    logging.error(\"error Information\")\n",
    "    logging.critical(\"critical Information\")\n",
    "\n",
    "if __name__ == \"__main__\":\n",
    "    main()\n",
    "    \n",
    "'''\n",
    "Note: In the above program only WARNING and higher level messages will be written to the log file. \n",
    "If we set level as DEBUG then all messages will be written to the log file.\n",
    "By default, appending happens to this file.\n",
    "We can also replace.\n",
    "'''"
   ]
  },
  {
   "cell_type": "markdown",
   "id": "c2509c81",
   "metadata": {
    "heading_collapsed": true,
    "hidden": true
   },
   "source": [
    "## How to configure log file in over writing mode\n",
    "\n",
    "In the above program by default data will be appended to the log file.i.e append is the default mode. Instead of appending if we want to over write data then we have to use filemode property.<br>\n",
    "\n",
    "☕ logging.basicConfig(filename='log786.txt',level=logging.WARNING) meant for appending <br>\n",
    "\n",
    "☕ logging.basicConfig(filename='log786.txt',level=logging.WARNING,filemode='a') explicitly we are specifying appending.<br>\n",
    "\n",
    "☕ logging.basicConfig(filename='log786.txt',level=logging.WARNING,filemode='w') meant for over writing of previous data.<br>\n",
    "\n",
    "**Note:**<br>\n",
    "☕ logging.basicConfig(filename='log.txt',level=logging.DEBUG) <br>\n",
    "☕ If we are not specifying level then the default level is WARNING(30) <br>\n",
    "☕ If we are not specifying file name then the messages will be printed to the console."
   ]
  },
  {
   "cell_type": "code",
   "execution_count": 6,
   "id": "117c0ce1",
   "metadata": {
    "hidden": true
   },
   "outputs": [
    {
     "name": "stdout",
     "output_type": "stream",
     "text": [
      "Logging Demo\n"
     ]
    }
   ],
   "source": [
    "import logging\n",
    "\n",
    "logging.basicConfig(filename=\"log.txt\", level=logging.DEBUG, filemode='w')\n",
    "print(\"Logging Demo\")\n",
    "logging.debug(\"Debug Information2\")\n",
    "logging.info(\"info Information2\")\n",
    "logging.warning(\"warning Information2\")\n",
    "logging.error(\"error Information2\")\n",
    "logging.critical(\"critical Information2\")"
   ]
  },
  {
   "cell_type": "markdown",
   "id": "b51adbc3",
   "metadata": {
    "heading_collapsed": true,
    "hidden": true
   },
   "source": [
    "## How to Format log messages\n",
    "\n",
    "By using format keyword argument, we can format messages.<br>\n",
    "Normally msg will be printed in below sequence - **levelname:loggername:message**<br>\n",
    "\n",
    "Log records list - https://docs.python.org/3/library/logging.html#logrecord-attributes<br>\n",
    "\n",
    "*1. To display only level name:<br>*\n",
    "**logging.basicConfig(format='%(levelname)s')**  #s means string type<br>\n",
    "\n",
    "*2. To display levelname and message:<br>*\n",
    "**logging.basicConfig(format='%(levelname)s:%(message)s')<br>**\n",
    "\n",
    "*2. To display levelname, loggername and message:<br>*\n",
    "**logging.basicConfig(format='%(levelname)s:%(name)s:%(message)s')<br>**"
   ]
  },
  {
   "cell_type": "code",
   "execution_count": null,
   "id": "8172d634",
   "metadata": {
    "hidden": true
   },
   "outputs": [],
   "source": [
    "#Example\n",
    "\n",
    "import logging\n",
    "\n",
    "logging.basicConfig(format='%(levelname)s:%(message)s')\n",
    "print(\"Logging Demo\")\n",
    "logging.debug(\"Debug Information2\")\n",
    "logging.info(\"info Information2\")\n",
    "logging.warning(\"warning Information2\")\n",
    "logging.error(\"error Information2\")\n",
    "logging.critical(\"critical Information2\")"
   ]
  },
  {
   "cell_type": "markdown",
   "id": "a696f32e",
   "metadata": {
    "hidden": true
   },
   "source": [
    "## How to add timestamp in the log messages\n",
    "\n",
    "logging.basicConfig(format='%(asctime)s:%(levelname)s:%(message)s')<br>"
   ]
  },
  {
   "cell_type": "code",
   "execution_count": null,
   "id": "e57625be",
   "metadata": {
    "hidden": true
   },
   "outputs": [],
   "source": [
    "import logging\n",
    "\n",
    "logging.basicConfig(format='%(asctime)s:%(levelname)s:%(name)s:%(process)d:%(message)s')\n",
    "print(\"Logging Demo\")\n",
    "logging.debug(\"Debug Information2\")\n",
    "logging.info(\"info Information2\")\n",
    "logging.warning(\"warning Information2\")\n",
    "logging.error(\"error Information2\")\n",
    "logging.critical(\"critical Information2\")"
   ]
  },
  {
   "cell_type": "markdown",
   "id": "abb52666",
   "metadata": {
    "heading_collapsed": true,
    "hidden": true
   },
   "source": [
    "### How to change date and time format\n",
    "\n",
    "We have to use special keyword argument: datefmt <br>\n",
    "\n",
    "**logging.basicConfig(format='%(asctime)s:%(levelname)s:%(message)s', datefmt='%d/%m/%Y %I:%M:%S %p')** <br>\n",
    "\n",
    "datefmt='%d/%m/%Y %I:%M:%S %p' ===>case is important<br>\n",
    "\n",
    "**Note:** All time format options are here - https://docs.python.org/3/library/time.html#time.strftime<br> \n",
    "☕ %I--->means 12 Hours time scale <br>\n",
    "☕ %H--->means 24 Hours time scale <br>"
   ]
  },
  {
   "cell_type": "code",
   "execution_count": null,
   "id": "65b6efe3",
   "metadata": {
    "hidden": true
   },
   "outputs": [],
   "source": [
    "import logging\n",
    "\n",
    "logging.basicConfig(format='%(asctime)s:%(levelname)s:%(name)s:%(process)d:%(message)s', datefmt='%d/%m/%Y %H:%M:%S')\n",
    "print(\"Logging Demo\")\n",
    "logging.debug(\"Debug Information2\")\n",
    "logging.info(\"info Information2\")\n",
    "logging.warning(\"warning Information2\")\n",
    "logging.error(\"error Information2\")\n",
    "logging.critical(\"critical Information2\")"
   ]
  },
  {
   "cell_type": "markdown",
   "id": "f6e09b21",
   "metadata": {
    "hidden": true
   },
   "source": [
    "## How to write Python program exceptions to the log file\n",
    "\n",
    "By using the following function we can write exception information to the log file.<br>\n",
    "\n",
    "**logging.exception(msg)**"
   ]
  },
  {
   "cell_type": "code",
   "execution_count": 1,
   "id": "29cb2b34",
   "metadata": {
    "hidden": true
   },
   "outputs": [
    {
     "name": "stdout",
     "output_type": "stream",
     "text": [
      "Enter First Number:10\n",
      "Enter Second Number:0\n",
      "cannot divide with zero\n"
     ]
    }
   ],
   "source": [
    "# Python Program to write exception information to the log file:\n",
    "\n",
    "import logging\n",
    "\n",
    "def main():\n",
    "    logging.basicConfig(\n",
    "        filename=\"mylog.txt\",\n",
    "        level=logging.INFO,\n",
    "        format=\"%(asctime)s:%(levelname)s:%(message)s\",\n",
    "        datefmt=\"%d/%m/%Y %I:%M:%S %p\",\n",
    "    )\n",
    "    logging.info(\"A new Request Came\")\n",
    "    try:\n",
    "        x = int(input(\"Enter First Number:\"))\n",
    "        y = int(input(\"Enter Second Number:\"))\n",
    "        print(\"The Result:\", x / y)\n",
    "    except ZeroDivisionError as msg:\n",
    "        print(\"cannot divide with zero\")\n",
    "        logging.exception(msg)\n",
    "    except ValueError as msg:\n",
    "        print(\"Please provide int values only\")\n",
    "        logging.exception(msg)\n",
    "    logging.info(\"Request Processing Completed\")\n",
    "\n",
    "if __name__ == \"__main__\":\n",
    "    main()"
   ]
  },
  {
   "cell_type": "markdown",
   "id": "0d42098b",
   "metadata": {
    "hidden": true
   },
   "source": [
    "## Problems with root logger\n",
    "\n",
    "If we are not defining our own logger,then bydefault root logger will be considered. <br>Once we perform basic configuration to root logger then the configurations are fixed and we cannot change."
   ]
  },
  {
   "cell_type": "code",
   "execution_count": null,
   "id": "2435eb7a",
   "metadata": {
    "hidden": true
   },
   "outputs": [],
   "source": [
    "'''\n",
    "Issue 1 - \n",
    "In the below case, abc got created and if we try to create another root logger xyz, this will not work\n",
    "The fxyz file ill not be created and all logs still get updated in abc\n",
    "'''\n",
    "import logging\n",
    "logging.basicConfig(filename = 'abc.log', level=logging.DEBUG, filemode = 'w')\n",
    "logging.basicConfig(filename = 'xyz.log', level=logging.ERROR, filemode = 'w')\n",
    "logging.debug(\"Debug Information2\")\n",
    "logging.info(\"info Information2\")\n",
    "logging.warning(\"warning Information2\")\n",
    "logging.error(\"error Information2\")\n",
    "logging.critical(\"critical Information2\")\n",
    "\n",
    "'''\n",
    "Issue 2 - Here we are importing another class. The other class has different logger settings with different logging \n",
    "level. By defaul since we import that class, even root logging information will also be imported.\n",
    "\n",
    "Thus we can't store log information in diffrent files or console.\n",
    "'''\n"
   ]
  },
  {
   "cell_type": "markdown",
   "id": "e8fe5479",
   "metadata": {
    "hidden": true
   },
   "source": [
    "The problems with root logger are:<br>\n",
    "1. Once we set basic configuration then that configuration is final and we cannot change <br>\n",
    "2. It will always work for only one handler at a time, either console or file, but not both simultaneously <br>\n",
    "3. It is not possible to configure logger with different configurations at different levels <br>\n",
    "4. We cannot specify multiple log files for multiple modules/classes/methods. <br>\n",
    "\n",
    "To overcome these problems we should go for our own customized loggers <br>"
   ]
  },
  {
   "cell_type": "markdown",
   "id": "5128ad4a",
   "metadata": {},
   "source": [
    "# How to develop and use customized logger"
   ]
  },
  {
   "cell_type": "markdown",
   "id": "a2fa6788",
   "metadata": {},
   "source": [
    "Use of: <br>\n",
    "**logger** - Purpose is to create log <br>\n",
    "**handler** - Decides if logs need to be displayed in console, or saved as file or send as email<br>\n",
    "**formater** - format the log message"
   ]
  },
  {
   "cell_type": "markdown",
   "id": "09b1a5da",
   "metadata": {},
   "source": [
    "This require 6 steps: <br>\n",
    "\n",
    "1. Creation of Logger object and set log level <br>\n",
    "**logger = logging.getLogger('demologger') logger.setLevel(logging.INFO)<br>**\n",
    "\n",
    "2. Creation of Handler object and set log level There are several types of Handlers like StreamHandler, FileHandler, SMTPhandler (for email), HTTPhandler (send to web server) etc <br>\n",
    "**consoleHandler = logging.StreamHandler() <br>\n",
    "consoleHandler.setLevel(logging.INFO)<br>**\n",
    "\n",
    "**Note:** If we use StreamHandler then log messages will be printed to console<br>\n",
    "\n",
    "3. Creation of Formatter object <br>\n",
    "**formatter = logging.Formatter('%(asctime)s - %(name)s - %(levelname)s: %(message)s', datefmt='%d/%m/%Y %I:%M:%S %p')**<br>\n",
    "\n",
    "4. Add Formatter to Handler **consoleHandler.setFormatter(formatter)**<br>\n",
    "\n",
    "5. Add Handler to Logger **logger.addHandler(consoleHandler)**<br>\n",
    "\n",
    "6. Write messages by using logger object and the following methods<br>\n",
    "\n",
    "**logger.debug('debug message') <br>\n",
    "logger.info('info message') <br> \n",
    "logger.warn('warn message') <br> \n",
    "logger.error('error message') <br> \n",
    "logger.critical('critical message') <br>**\n",
    "\n",
    "**Note:** Bydefault logger will set to WARNING level. But we can set our own level based on our requirement.<br>\n",
    "**logger = logging.getLogger('demologger') <br>\n",
    "logger.setLevel(logging.INFO)**<br>\n",
    "\n",
    "logger log level by default available to console and file handlers. If we are not satisfied with logger level, then we can set log level explicitly at console level and file levels.<br>\n",
    "\n",
    "**consoleHandler = logging.StreamHandler() consoleHandler.setLevel(logging.WARNING)**<br>\n",
    "\n",
    "**Note:**<br>\n",
    "console and file log levels should be supported by logger. i.e logger log level should be lower than console and file levels.<br> Otherwise only logger log level will be considered."
   ]
  },
  {
   "cell_type": "markdown",
   "id": "a77e6e00",
   "metadata": {},
   "source": [
    "## Console Handler"
   ]
  },
  {
   "cell_type": "code",
   "execution_count": null,
   "id": "4bd5d1cc",
   "metadata": {},
   "outputs": [],
   "source": [
    "import logging\n",
    "\n",
    "# Step 1: Create a logger with the name 'demologger'\n",
    "logger = logging.getLogger('demologger')\n",
    "\n",
    "# Step 2: Set the logger's level to DEBUG, which means it will capture all log messages. If not set all info will be captured\n",
    "logger.setLevel(logging.DEBUG)\n",
    "\n",
    "# Step 3: Create a console handler to log messages to the console.\n",
    "consoleHandler = logging.StreamHandler() #display on console\n",
    "\n",
    "# Step 4: Create a formatter for the log messages.\n",
    "formatter = logging.Formatter('%(asctime)s:%(levelname)s:%(name)s:%(message)s', datefmt='%d/%m/%Y %I:%M:%S %p')\n",
    "\n",
    "# Step 5: Set the formatter for the console handler.\n",
    "consoleHandler.setFormatter(formatter)\n",
    "\n",
    "# Step 6: Add the console handler to the logger so that it can handle log messages.\n",
    "logger.addHandler(consoleHandler)\n",
    "\n",
    "# Step 7: Log messages at different levels.\n",
    "logger.critical('It is a critical message')  # Highest level of severity\n",
    "logger.error('It is an error message')\n",
    "logger.warning('It is a warning message')\n",
    "logger.info('It is an info message')\n",
    "logger.debug('It is a debug message')  # Lowest level of severity"
   ]
  },
  {
   "cell_type": "markdown",
   "id": "e9bdba99",
   "metadata": {},
   "source": [
    "## File Handler"
   ]
  },
  {
   "cell_type": "code",
   "execution_count": null,
   "id": "9e72a809",
   "metadata": {},
   "outputs": [],
   "source": [
    "import logging\n",
    "\n",
    "# Step 1: Create a logger with the name 'demologger'\n",
    "logger = logging.getLogger('demologger')\n",
    "\n",
    "# Step 2: Set the logger's level to DEBUG, which means it will capture all log messages.\n",
    "logger.setLevel(logging.DEBUG)\n",
    "\n",
    "# Step 3: Create a file handler to log messages to a file named 'custtest.log', mode 'w' will overwrite the file.\n",
    "fileHandler = logging.FileHandler('custtest.log', mode='w')\n",
    "\n",
    "# Step 4: Create a formatter for the log messages.\n",
    "formatter = logging.Formatter('%(asctime)s:%(levelname)s:%(name)s:%(message)s', datefmt='%d/%m/%Y %I:%M:%S %p')\n",
    "\n",
    "# Step 5: Set the formatter for the file handler.\n",
    "fileHandler.setFormatter(formatter)\n",
    "\n",
    "# Step 6: Add the file handler to the logger so that it can handle log messages.\n",
    "logger.addHandler(fileHandler)\n",
    "\n",
    "# Step 7: Log messages at different levels.\n",
    "logger.critical('It is a critical message')  # Highest level of severity\n",
    "logger.error('It is an error message')\n",
    "logger.warning('It is a warning message')\n",
    "logger.info('It is an info message')\n",
    "logger.debug('It is a debug message')  # Lowest level of severity"
   ]
  },
  {
   "cell_type": "markdown",
   "id": "2e9ffbb3",
   "metadata": {},
   "source": [
    "## Both File and Console Handler"
   ]
  },
  {
   "cell_type": "code",
   "execution_count": null,
   "id": "9c1b96fa",
   "metadata": {},
   "outputs": [],
   "source": [
    "import logging\n",
    "\n",
    "# Step 1: Create a logger with the name 'demo logger'\n",
    "logger = logging.getLogger('demo logger')\n",
    "\n",
    "# Step 2: Set the logger's level to INFO, which means it will capture INFO, WARNING, ERROR, and CRITICAL log messages.\n",
    "logger.setLevel(logging.INFO)\n",
    "\n",
    "# Step 3: Create a console handler to log messages to the console.\n",
    "consoleHandler = logging.StreamHandler()\n",
    "\n",
    "# Step 4: Create a file handler to log messages to a file named 'abc.log', mode 'w' will overwrite the file.\n",
    "fileHandler = logging.FileHandler('abc.log', mode='w')\n",
    "\n",
    "# Step 5: Create a formatter for the log messages.\n",
    "formatter = logging.Formatter('%(asctime)s:%(levelname)s:%(name)s:%(message)s', datefmt='%d/%m/%Y %I:%M:%S %p')\n",
    "\n",
    "# Step 6: Set the formatter for the console and file handlers.\n",
    "consoleHandler.setFormatter(formatter)\n",
    "fileHandler.setFormatter(formatter)\n",
    "\n",
    "# Step 7: Add the console and file handlers to the logger so that they can handle log messages.\n",
    "logger.addHandler(consoleHandler)\n",
    "logger.addHandler(fileHandler)\n",
    "\n",
    "# Step 8: Log messages at different levels.\n",
    "logger.critical('It is a critical message')  # Highest level of severity\n",
    "logger.error('It is an error message')\n",
    "logger.warning('It is a warning message')\n",
    "logger.info('It is an info message')\n",
    "logger.debug('It is a debug message')  # Lowest level of severity"
   ]
  },
  {
   "cell_type": "markdown",
   "id": "948f751f",
   "metadata": {
    "heading_collapsed": true
   },
   "source": [
    "## Console and File Handlers"
   ]
  },
  {
   "cell_type": "code",
   "execution_count": null,
   "id": "f6461238",
   "metadata": {
    "hidden": true
   },
   "outputs": [],
   "source": [
    "import logging\n",
    "\n",
    "# Step 1: Create a logger with the name 'demo logger'\n",
    "logger = logging.getLogger('demo logger')\n",
    "\n",
    "# Step 2: Set the logger's level to INFO, which means it will capture INFO, WARNING, ERROR, and CRITICAL log messages.\n",
    "logger.setLevel(logging.INFO)\n",
    "\n",
    "# Step 3: Create a console handler to log messages to the console.\n",
    "consoleHandler = logging.StreamHandler()\n",
    "\n",
    "# Step 4: Create a file handler to log messages to a file named 'abc.log', mode 'w' will overwrite the file.\n",
    "fileHandler = logging.FileHandler('abc.log', mode='w')\n",
    "\n",
    "# Step 5: Create a formatter for the log messages.\n",
    "formatter = logging.Formatter('%(asctime)s:%(levelname)s:%(name)s:%(message)s', datefmt='%d/%m/%Y %I:%M:%S %p')\n",
    "\n",
    "# Step 6: Set the formatter for the console and file handlers.\n",
    "consoleHandler.setFormatter(formatter)\n",
    "fileHandler.setFormatter(formatter)\n",
    "\n",
    "# Step 7: Add the console and file handlers to the logger so that they can handle log messages.\n",
    "logger.addHandler(consoleHandler)\n",
    "logger.addHandler(fileHandler)\n",
    "\n",
    "# Step 8: Log messages at different levels.\n",
    "logger.critical('It is a critical message')  # Highest level of severity\n",
    "logger.error('It is an error message')\n",
    "logger.warning('It is a warning message')\n",
    "logger.info('It is an info message')\n",
    "logger.debug('It is a debug message')  # Lowest level of severity"
   ]
  },
  {
   "cell_type": "markdown",
   "id": "cce44842",
   "metadata": {},
   "source": [
    "## custom logger with different modules and with different log files\n",
    "\n",
    "Note: In the above program we are maintaining different log files for different modules, which is not possible by root logger."
   ]
  },
  {
   "cell_type": "code",
   "execution_count": null,
   "id": "dbf9434a",
   "metadata": {},
   "outputs": [],
   "source": [
    "import logging\n",
    "import student\n",
    "\n",
    "# Step 1: Create a logger with the name 'testlogger'\n",
    "logger = logging.getLogger('testlogger')\n",
    "\n",
    "# Step 2: Set the logger's level to DEBUG, which means it will capture all log messages.\n",
    "logger.setLevel(logging.DEBUG)\n",
    "\n",
    "# Step 3: Create a file handler to log messages to a file named 'test.log', mode 'a' will append to the file.\n",
    "fileHandler = logging.FileHandler('test.log', mode='a')\n",
    "\n",
    "# Step 4: Create a formatter for the log messages.\n",
    "formatter = logging.Formatter('%(asctime)s:%(levelname)s:%(name)s:%(message)s', datefmt='%d/%m/%Y %I:%M:%S %p')\n",
    "\n",
    "# Step 5: Set the formatter for the file handler.\n",
    "fileHandler.setFormatter(formatter)\n",
    "\n",
    "# Step 6: Add the file handler to the logger so that it can handle log messages.\n",
    "logger.addHandler(fileHandler)\n",
    "\n",
    "# Step 7: Log messages at different levels.\n",
    "logger.critical('critical message from test module')  # Highest level of severity\n",
    "logger.error('error message from test module')\n",
    "logger.warning('warning message from test module')\n",
    "logger.info('info message from test module')\n",
    "logger.debug('debug message from test module')  # Lowest level of severity\n",
    "\n",
    "#Student\n",
    "import logging\n",
    "\n",
    "# Step 1: Create a logger with the name 'studentlogger'\n",
    "logger = logging.getLogger('studentlogger')\n",
    "\n",
    "# Step 2: Set the logger's level to DEBUG, which means it will capture all log messages.\n",
    "logger.setLevel(logging.DEBUG)\n",
    "\n",
    "# Step 3: Create a file handler to log messages to a file named 'student.log', mode 'a' will append to the file.\n",
    "fileHandler = logging.FileHandler('student.log', mode='a')\n",
    "\n",
    "# Step 4: Set the file handler's level to ERROR, which means it will only capture ERROR and CRITICAL log messages.\n",
    "fileHandler.setLevel(logging.ERROR)\n",
    "\n",
    "# Step 5: Create a formatter for the log messages.\n",
    "formatter = logging.Formatter('%(asctime)s:%(levelname)s:%(name)s:%(message)s', datefmt='%d/%m/%Y %H:%M:%S')\n",
    "\n",
    "# Step 6: Set the formatter for the file handler.\n",
    "fileHandler.setFormatter(formatter)\n",
    "\n",
    "# Step 7: Add the file handler to the logger so that it can handle log messages.\n",
    "logger.addHandler(fileHandler)\n",
    "\n",
    "# Step 8: Log messages at different levels.\n",
    "logger.critical('critical message from student module')  # Highest level of severity\n",
    "logger.error('error message from student module')\n",
    "logger.warning('warning message student test module')\n",
    "logger.info('info message from student module')\n",
    "logger.debug('debug message from student module')  # Lowest level of severity"
   ]
  },
  {
   "cell_type": "markdown",
   "id": "545c2ece",
   "metadata": {
    "heading_collapsed": true
   },
   "source": [
    "## Importance of Inspect Module\n",
    "\n",
    "To perform inspection. Help in providing information on from which function, method, class a call came to the generic logger.<br>\n",
    "This is python inbuilt library"
   ]
  },
  {
   "cell_type": "code",
   "execution_count": 10,
   "id": "c1d72984",
   "metadata": {
    "hidden": true
   },
   "outputs": [
    {
     "name": "stdout",
     "output_type": "stream",
     "text": [
      "Caller Module: C:\\Users\\saurabhkumar9\\AppData\\Local\\Temp\\ipykernel_37964\\82793905.py\n",
      "Caller Function: f1\n"
     ]
    }
   ],
   "source": [
    "#demo.py\n",
    "import inspect\n",
    "def getInfo():\n",
    "    #print(inspect.stack())#complete trace of the caller\n",
    "    #print(inspect.stack()[1])#[1] will give only 1 stack\n",
    "    print('Caller Module:',inspect.stack()[1][1])\n",
    "    print('Caller Function:',inspect.stack()[1][3])\n",
    "    \n",
    "#test.py. Calling getinfo from above class. All info of caller will be pulled here.\n",
    "#from inspect import getInfo\n",
    "def f1():\n",
    "    getInfo()\n",
    "f1()"
   ]
  },
  {
   "cell_type": "code",
   "execution_count": 4,
   "id": "dcdc11bb",
   "metadata": {
    "hidden": true
   },
   "outputs": [
    {
     "name": "stdout",
     "output_type": "stream",
     "text": [
      "\n",
      "Execution Stack:\n",
      "Index File                 Function                       Line Number         \n",
      "======================================================================\n",
      "0     C:\\Users\\saurabhkumar9\\AppData\\Local\\Temp\\ipykernel_37964\\652801435.py get_call_stack                 4                   \n",
      "1     C:\\Users\\saurabhkumar9\\AppData\\Local\\Temp\\ipykernel_37964\\652801435.py print_call_stack               7                   \n",
      "2     C:\\Users\\saurabhkumar9\\AppData\\Local\\Temp\\ipykernel_37964\\652801435.py foo                            19                  \n",
      "3     C:\\Users\\saurabhkumar9\\AppData\\Local\\Temp\\ipykernel_37964\\652801435.py bar                            22                  \n",
      "4     C:\\Users\\saurabhkumar9\\AppData\\Local\\Temp\\ipykernel_37964\\652801435.py <module>                       24                  \n",
      "5     C:\\Users\\saurabhkumar9\\Anaconda3\\lib\\site-packages\\IPython\\core\\interactiveshell.py run_code                       3457                \n",
      "6     C:\\Users\\saurabhkumar9\\Anaconda3\\lib\\site-packages\\IPython\\core\\interactiveshell.py run_ast_nodes                  3377                \n",
      "7     C:\\Users\\saurabhkumar9\\Anaconda3\\lib\\site-packages\\IPython\\core\\interactiveshell.py run_cell_async                 3185                \n",
      "8     C:\\Users\\saurabhkumar9\\Anaconda3\\lib\\site-packages\\IPython\\core\\async_helpers.py _pseudo_sync_runner            78                  \n",
      "9     C:\\Users\\saurabhkumar9\\Anaconda3\\lib\\site-packages\\IPython\\core\\interactiveshell.py _run_cell                      2960                \n",
      "10    C:\\Users\\saurabhkumar9\\Anaconda3\\lib\\site-packages\\IPython\\core\\interactiveshell.py run_cell                       2914                \n",
      "11    C:\\Users\\saurabhkumar9\\Anaconda3\\lib\\site-packages\\ipykernel\\zmqshell.py run_cell                       528                 \n",
      "12    C:\\Users\\saurabhkumar9\\Anaconda3\\lib\\site-packages\\ipykernel\\ipkernel.py do_execute                     390                 \n",
      "13    C:\\Users\\saurabhkumar9\\Anaconda3\\lib\\site-packages\\ipykernel\\kernelbase.py execute_request                730                 \n",
      "14    C:\\Users\\saurabhkumar9\\Anaconda3\\lib\\site-packages\\ipykernel\\kernelbase.py dispatch_shell                 406                 \n",
      "15    C:\\Users\\saurabhkumar9\\Anaconda3\\lib\\site-packages\\ipykernel\\kernelbase.py process_one                    499                 \n",
      "16    C:\\Users\\saurabhkumar9\\Anaconda3\\lib\\site-packages\\ipykernel\\kernelbase.py dispatch_queue                 510                 \n",
      "17    C:\\Users\\saurabhkumar9\\Anaconda3\\lib\\asyncio\\events.py _run                           80                  \n",
      "18    C:\\Users\\saurabhkumar9\\Anaconda3\\lib\\asyncio\\base_events.py _run_once                      1905                \n",
      "19    C:\\Users\\saurabhkumar9\\Anaconda3\\lib\\asyncio\\base_events.py run_forever                    601                 \n",
      "20    C:\\Users\\saurabhkumar9\\Anaconda3\\lib\\site-packages\\tornado\\platform\\asyncio.py start                          195                 \n",
      "21    C:\\Users\\saurabhkumar9\\Anaconda3\\lib\\site-packages\\ipykernel\\kernelapp.py start                          712                 \n",
      "22    C:\\Users\\saurabhkumar9\\Anaconda3\\lib\\site-packages\\traitlets\\config\\application.py launch_instance                1043                \n",
      "23    C:\\Users\\saurabhkumar9\\Anaconda3\\lib\\site-packages\\ipykernel_launcher.py <module>                       17                  \n",
      "24    C:\\Users\\saurabhkumar9\\Anaconda3\\lib\\runpy.py _run_code                      87                  \n",
      "25    C:\\Users\\saurabhkumar9\\Anaconda3\\lib\\runpy.py _run_module_as_main            197                 \n",
      "======================================================================\n"
     ]
    }
   ],
   "source": [
    "# converting the above code to tabular form\n",
    "import inspect\n",
    "\n",
    "def get_call_stack():\n",
    "    return inspect.stack()\n",
    "\n",
    "def print_call_stack():\n",
    "    stack = get_call_stack()\n",
    "    print(\"\\nExecution Stack:\")\n",
    "    print(\"{:<5} {:<20} {:<30} {:<20}\".format(\"Index\", \"File\", \"Function\", \"Line Number\"))\n",
    "    print(\"=\"*70)\n",
    "    for i, frame in enumerate(stack):\n",
    "        file_name = frame.filename.split(\"/\")[-1]\n",
    "        function_name = frame.function\n",
    "        line_number = frame.lineno\n",
    "        print(\"{:<5} {:<20} {:<30} {:<20}\".format(i, file_name, function_name, line_number))\n",
    "    print(\"=\"*70)\n",
    "\n",
    "def foo():\n",
    "    print_call_stack()\n",
    "\n",
    "def bar():\n",
    "    foo()\n",
    "\n",
    "bar()"
   ]
  },
  {
   "cell_type": "markdown",
   "id": "33f57170",
   "metadata": {},
   "source": [
    "## Creation of generic custom logger and usage Demo Program-1"
   ]
  },
  {
   "cell_type": "code",
   "execution_count": null,
   "id": "bed7b11c",
   "metadata": {},
   "outputs": [],
   "source": [
    "# custlogger.py\n",
    "import logging\n",
    "import inspect\n",
    "\n",
    "def get_custom_logger(level):\n",
    "    function_name = inspect.stack()[1][3] #This will give function name \n",
    "    logger_name = function_name + \" logger\" #logger name is created based on function name, dynamic name \n",
    "\n",
    "    logger = logging.getLogger(logger_name)\n",
    "    logger.setLevel(level)\n",
    "\n",
    "    fileHandler = logging.FileHandler('abc.log', mode='a') #filename can also be generated dynamically\n",
    "    fileHandler.setLevel(level)\n",
    "\n",
    "    formatter = logging.Formatter('%(asctime)s:%(levelname)s:%(name)s:%(message)s', datefmt='%d/%m/%Y %I:%M:%S %p')\n",
    "    fileHandler.setFormatter(formatter)\n",
    "\n",
    "    logger.addHandler(fileHandler)\n",
    "    return logger\n",
    "\n",
    "# test.py\n",
    "from custlogger import get_custom_logger\n",
    "import logging\n",
    "\n",
    "def logtest():\n",
    "    logger = get_custom_logger(logging.DEBUG)\n",
    "    logger.critical('critical message from test module')\n",
    "    logger.error('error message from test module')\n",
    "    logger.warning('warning message from test module')\n",
    "    logger.info('info message from test module')\n",
    "    logger.debug('debug message from test module')\n",
    "\n",
    "logtest()\n",
    "\n",
    "#student.py\n",
    "from custlogger import get_custom_logger\n",
    "import logging\n",
    "\n",
    "def logstudent():\n",
    "    logger = get_custom_logger(logging.ERROR)\n",
    "    logger.critical('critical message from student module')\n",
    "    logger.error('error message from student module')\n",
    "    logger.warning('warning message from student module')\n",
    "    logger.info('info message from student module')\n",
    "    logger.debug('debug message from student module')\n",
    "\n",
    "logstudent()"
   ]
  },
  {
   "cell_type": "markdown",
   "id": "16cab0aa",
   "metadata": {},
   "source": [
    "## Creation of generic custom logger and usage Demo Program-2"
   ]
  },
  {
   "cell_type": "code",
   "execution_count": null,
   "id": "8abbdabb",
   "metadata": {},
   "outputs": [],
   "source": [
    "# custlogger.py\n",
    "import logging\n",
    "import inspect\n",
    "\n",
    "def get_custom_logger(level):\n",
    "    function_name = inspect.stack()[1][3] # Get the name of the calling function\n",
    "    logger_name = function_name + \"_logger\"\n",
    "\n",
    "    logger = logging.getLogger(logger_name)\n",
    "    logger.setLevel(level)\n",
    "\n",
    "    file_handler = logging.FileHandler('abc.log', mode='a')\n",
    "    file_handler.setLevel(level)\n",
    "\n",
    "    formatter = logging.Formatter('%(asctime)s:%(levelname)s:%(name)s:%(message)s',\n",
    "                                  datefmt='%d/%m/%Y %I:%M:%S %p')\n",
    "    file_handler.setFormatter(formatter)\n",
    "    \n",
    "    logger.addHandler(file_handler)\n",
    "    return logger\n",
    "\n",
    "# test.py\n",
    "from custlogger import get_custom_logger\n",
    "import logging\n",
    "\n",
    "def f1():\n",
    "    logger = get_custom_logger(logging.DEBUG)\n",
    "    logger.critical('critical message from f1')\n",
    "    logger.error('error message from f1')\n",
    "    logger.warning('warning message from f1')\n",
    "    logger.info('info message from f1')\n",
    "    logger.debug('debug message from f1')\n",
    "\n",
    "def f2():\n",
    "    logger = get_custom_logger(logging.WARNING)\n",
    "    logger.critical('critical message from f2')\n",
    "    logger.error('error message from f2')\n",
    "    logger.warning('warning message from f2')\n",
    "    logger.info('info message from f2')\n",
    "    logger.debug('debug message from f2')\n",
    "\n",
    "def f3():\n",
    "    logger = get_custom_logger(logging.ERROR)\n",
    "    logger.critical('critical message from f3')\n",
    "    logger.error('error message from f3')\n",
    "    logger.warning('warning message from f3')\n",
    "    logger.info('info message from f3')\n",
    "    logger.debug('debug message from f3')\n",
    "\n",
    "if __name__ == '__main__':\n",
    "    f1()\n",
    "    f2()\n",
    "    f3()"
   ]
  },
  {
   "cell_type": "markdown",
   "id": "5d25d7fe",
   "metadata": {},
   "source": [
    "## How to create separate log file based on caller dynamically?"
   ]
  },
  {
   "cell_type": "code",
   "execution_count": null,
   "id": "b829888b",
   "metadata": {},
   "outputs": [],
   "source": [
    "# custlogger.py\n",
    "\n",
    "import logging\n",
    "import inspect\n",
    "\n",
    "def get_custom_logger(level):\n",
    "    function_name = inspect.stack()[1][3]\n",
    "    logger_name = f\"{function_name} logger\"\n",
    "    logger = logging.getLogger(logger_name)\n",
    "    logger.setLevel(level)\n",
    "\n",
    "    file_handler = logging.FileHandler(f\"{function_name}.log\", mode=\"a\") #dynamically log names are generated\n",
    "    file_handler.setLevel(level)\n",
    "    formatter = logging.Formatter(\n",
    "        fmt=\"%(asctime)s:%(levelname)s:%(name)s:%(message)s\",\n",
    "        datefmt=\"%d/%m/%Y %I:%M:%S %p\",\n",
    "    )\n",
    "    file_handler.setFormatter(formatter)\n",
    "    logger.addHandler(file_handler)\n",
    "    return logger\n",
    "\n",
    "# test.py\n",
    "from custlogger import get_custom_logger\n",
    "import logging\n",
    "\n",
    "def f1():\n",
    "    logger = get_custom_logger(logging.DEBUG)\n",
    "    logger.critical('critical message from f1')\n",
    "    logger.error('error message from f1')\n",
    "    logger.warning('warning message from f1')\n",
    "    logger.info('info message from f1')\n",
    "    logger.debug('debug message from f1')\n",
    "\n",
    "def f2():\n",
    "    logger = get_custom_logger(logging.WARNING)\n",
    "    logger.critical('critical message from f2')\n",
    "    logger.error('error message from f2')\n",
    "    logger.warning('warning message from f2')\n",
    "    logger.info('info message from f2')\n",
    "    logger.debug('debug message from f2')\n",
    "\n",
    "def f3():\n",
    "    logger = get_custom_logger(logging.ERROR)\n",
    "    logger.critical('critical message from f3')\n",
    "    logger.error('error message from f3')\n",
    "    logger.warning('warning message from f3')\n",
    "    logger.info('info message from f3')\n",
    "    logger.debug('debug message from f3')\n",
    "\n",
    "if __name__ == '__main__':\n",
    "    f1()\n",
    "    f2()\n",
    "    f3()"
   ]
  },
  {
   "cell_type": "markdown",
   "id": "303c8c5a",
   "metadata": {},
   "source": [
    "# Need of separating logger configurations into a file or dict or JSON or YAML?\n",
    "\n"
   ]
  },
  {
   "cell_type": "markdown",
   "id": "27034188",
   "metadata": {},
   "source": [
    "Instead of hard coding logging configurations inside our application, we can separate into into a file or dict or JSON or YAML.<br>\n",
    "\n",
    "**Advantages:<br>**\n",
    "1. Modifications will become very easy. <br>\n",
    "2. We can reuse same configurations in different modules. <br>\n",
    "3. Length of the code will be reduced and readability will be improved."
   ]
  },
  {
   "cell_type": "markdown",
   "id": "b4c9351f",
   "metadata": {},
   "source": [
    "## Loggin.Config Module\n",
    "\n"
   ]
  },
  {
   "cell_type": "markdown",
   "id": "aba54f90",
   "metadata": {},
   "source": [
    "The logging.config module includes the following important functions and classes:<br>\n",
    "\n",
    "1. **fileConfig(fname, defaults=None, disable_existing_loggers=True):** This function reads the logging configuration from a file specified by fname. The file can be in INI-style or JSON format. It configures the logging system based on the contents of the file. <br>\n",
    "\n",
    "**Example:**<br>\n",
    "\n",
    "import logging.config<br>\n",
    "logging.config.fileConfig('logging.conf')<br>\n",
    "\n",
    "2. **dictConfig(config):** This function configures the logging system based on a dictionary config, which represents the logging configuration. The dictionary should have a structure similar to that of an INI-style configuration file.<br>\n",
    "\n",
    "**Example:  Below**<br>\n"
   ]
  },
  {
   "cell_type": "code",
   "execution_count": null,
   "id": "5195e26b",
   "metadata": {},
   "outputs": [],
   "source": [
    "import logging.config\n",
    "\n",
    "config = {\n",
    "    'version': 1,\n",
    "    'handlers': {\n",
    "        'console': {\n",
    "            'class': 'logging.StreamHandler',\n",
    "            'level': 'DEBUG',\n",
    "            'formatter': 'simple',\n",
    "        },\n",
    "    },\n",
    "    'loggers': {\n",
    "        'my_module': {\n",
    "            'level': 'DEBUG',\n",
    "            'handlers': ['console'],\n",
    "            'propagate': False,\n",
    "        },\n",
    "    },\n",
    "    'formatters': {\n",
    "        'simple': {\n",
    "            'format': '%(asctime)s - %(name)s - %(levelname)s - %(message)s',\n",
    "        },\n",
    "    },\n",
    "}\n",
    "\n",
    "logging.config.dictConfig(config)"
   ]
  },
  {
   "cell_type": "code",
   "execution_count": null,
   "id": "7f77283f",
   "metadata": {},
   "outputs": [],
   "source": [
    "# Demo Program for Logger configurations into a separate config file\n",
    "# logging_config.init: For File Handler\n",
    "\n",
    "[loggers] \n",
    "keys=root,demologger \n",
    "\n",
    "[handlers] \n",
    "keys=fileHandler \n",
    "\n",
    "[formatters] \n",
    "keys=sampleFormatter \n",
    "\n",
    "[logger_root] \n",
    "level=DEBUG \n",
    "handlers=fileHandler \n",
    "\n",
    "[logger_demologger] \n",
    "level=DEBUG \n",
    "handlers=fileHandler \n",
    "qualname=demoLogger \n",
    "\n",
    "[handler_consoleHandler] \n",
    "class=FileHandler \n",
    "level=DEBUG \n",
    "formatter=sampleFormatter \n",
    "args=('test_sample.log','w') \n",
    "\n",
    "[formatter_sampleFormatter] \n",
    "format=%(asctime)s:%(name)s:%(levelname)s:%(message)s \n",
    "datefmt=%d/%m/%Y %I:%M:%S %p\n",
    "        \n",
    "#test.py\n",
    "import logging\n",
    "import logging.config\n",
    "logging.config.fileConfig(\"logging_config_dict.init\")\n",
    "logger=logging.getLogger('demologger')\n",
    "logger.critical('It is critical message')\n",
    "logger.error('It is error message')\n",
    "logger.warning('It is warning message')\n",
    "logger.info('It is info message')\n",
    "logger.debug('It is debug message')"
   ]
  },
  {
   "cell_type": "code",
   "execution_count": null,
   "id": "f2617b8c",
   "metadata": {},
   "outputs": [],
   "source": [
    "# Another example\n",
    "[loggers]\n",
    "keys = root, exampleLogger\n",
    "\n",
    "[handlers]\n",
    "keys = consoleHandler\n",
    "\n",
    "[formatters]\n",
    "keys = simpleFormatter\n",
    "\n",
    "[logger_root]\n",
    "level = DEBUG\n",
    "handlers = consoleHandler\n",
    "\n",
    "[logger_exampleLogger]\n",
    "level = INFO\n",
    "handlers = consoleHandler\n",
    "qualname = exampleLogger\n",
    "propagate = 0\n",
    "\n",
    "[handler_consoleHandler]\n",
    "class = StreamHandler\n",
    "level = DEBUG\n",
    "formatter = simpleFormatter\n",
    "args = (sys.stdout,)\n",
    "\n",
    "[formatter_simpleFormatter]\n",
    "format = %(asctime)s - %(name)s - %(levelname)s - %(message)s\n",
    "datefmt = %Y-%m-%d %H:%M:%S\n",
    "\n",
    "#python code\n",
    "import logging.config\n",
    "\n",
    "logging.config.fileConfig('logging.conf')\n",
    "\n",
    "# Now you can use the logging module\n",
    "logger = logging.getLogger('exampleLogger')\n",
    "logger.debug('Debug message')\n",
    "logger.info('Info message')"
   ]
  },
  {
   "cell_type": "code",
   "execution_count": null,
   "id": "21616ff3",
   "metadata": {},
   "outputs": [],
   "source": [
    "# Logging configuration into a dictionary\n",
    "\n",
    "'''\n",
    "- In this example, we define a dictionary config that represents the logging configuration. \n",
    "The dictionary has three sections: handlers, loggers, and formatters.\n",
    "\n",
    "- Under handlers, we define a single handler named 'console', which is a StreamHandler that outputs \n",
    "log messages to the console. It is set to log messages at the DEBUG level and uses the simple formatter.\n",
    "\n",
    "- Under loggers, we define a logger named 'my_module' with a DEBUG log level. It uses the 'console' \n",
    "handler and has propagate set to False, meaning log messages will not be propagated to higher-level loggers.\n",
    "\n",
    "- Under formatters, we define the 'simple' formatter, which specifies the format of log messages.\n",
    "\n",
    "The dictConfig function is used to configure the logging system based on the config dictionary. After configuring \n",
    "the logging system, we can use the logging module to log messages. \n",
    "In this case, we retrieve the logger named 'my_module' and log both a debug and an info message.\n",
    "'''\n",
    "\n",
    "import logging.config\n",
    "\n",
    "config = {\n",
    "    'version': 1,\n",
    "    'handlers': {\n",
    "        'console': {\n",
    "            'class': 'logging.StreamHandler',\n",
    "            'level': 'DEBUG',\n",
    "            'formatter': 'simple',\n",
    "        },\n",
    "    },\n",
    "    'loggers': {\n",
    "        'my_module': {\n",
    "            'level': 'DEBUG',\n",
    "            'handlers': ['console'],\n",
    "            'propagate': False,\n",
    "        },\n",
    "    },\n",
    "    'formatters': {\n",
    "        'simple': {\n",
    "            'format': '%(asctime)s - %(name)s - %(levelname)s - %(message)s',\n",
    "        },\n",
    "    },\n",
    "}\n",
    "\n",
    "logging.config.dictConfig(config)\n",
    "\n",
    "# Now you can use the logging module\n",
    "logger = logging.getLogger('my_module')\n",
    "logger.debug('Debug message')\n",
    "logger.info('Info message')"
   ]
  },
  {
   "cell_type": "code",
   "execution_count": null,
   "id": "207c4714",
   "metadata": {},
   "outputs": [],
   "source": [
    "# Example\n",
    "\n",
    "'''\n",
    "In this example, the config dictionary represents a more complex logging configuration. Here's a breakdown of its structure:\n",
    "\n",
    "version: The version of the logging configuration dictionary.\n",
    "disable_existing_loggers: Determines whether existing loggers should be disabled or not.\n",
    "formatters: Contains named formatters with their formats and date formats.\n",
    "handlers: Contains named handlers with their class, level, formatter, and other properties.\n",
    "loggers: Contains named loggers with their level, handlers, and propagation settings.\n",
    "root: Represents the root logger and defines its level and handlers.\n",
    "\n",
    "In the example, we define two formatters (standard and detailed) with different formats and date formats. We also define two handlers (console and file) that output log messages to the console and a file respectively. The loggers (my_module and other_module) are configured with their respective levels, handlers, and propagation settings.\n",
    "\n",
    "The root logger is set to log messages at the WARNING level and uses the console handler.\n",
    "\n",
    "After configuring the logging system using dictConfig, we retrieve the loggers (logger1 and logger2) and log messages at different levels.\n",
    "'''\n",
    "\n",
    "import logging.config\n",
    "\n",
    "config = {\n",
    "    'version': 1,\n",
    "    'disable_existing_loggers': False,\n",
    "    'formatters': {\n",
    "        'standard': {\n",
    "            'format': '%(asctime)s - %(name)s - %(levelname)s - %(message)s',\n",
    "            'datefmt': '%Y-%m-%d %H:%M:%S'\n",
    "        },\n",
    "        'detailed': {\n",
    "            'format': '%(asctime)s - %(name)s - %(levelname)s - %(module)s - %(message)s',\n",
    "            'datefmt': '%Y-%m-%d %H:%M:%S'\n",
    "        }\n",
    "    },\n",
    "    'handlers': {\n",
    "        'console': {\n",
    "            'class': 'logging.StreamHandler',\n",
    "            'level': 'DEBUG',\n",
    "            'formatter': 'standard',\n",
    "            'stream': 'ext://sys.stdout'\n",
    "        },\n",
    "        'file': {\n",
    "            'class': 'logging.FileHandler',\n",
    "            'level': 'DEBUG',\n",
    "            'formatter': 'detailed',\n",
    "            'filename': 'app.log',\n",
    "            'mode': 'w'\n",
    "        }\n",
    "    },\n",
    "    'loggers': {\n",
    "        'my_module': {\n",
    "            'level': 'DEBUG',\n",
    "            'handlers': ['console', 'file'],\n",
    "            'propagate': False\n",
    "        },\n",
    "        'other_module': {\n",
    "            'level': 'INFO',\n",
    "            'handlers': ['console'],\n",
    "            'propagate': False\n",
    "        }\n",
    "    },\n",
    "    'root': {\n",
    "        'level': 'WARNING',\n",
    "        'handlers': ['console']\n",
    "    }\n",
    "}\n",
    "\n",
    "logging.config.dictConfig(config)\n",
    "\n",
    "# Now you can use the logging module\n",
    "logger1 = logging.getLogger('my_module')\n",
    "logger2 = logging.getLogger('other_module')\n",
    "\n",
    "logger1.debug('Debug message')\n",
    "logger1.info('Info message')\n",
    "logger2.info('Other module message')\n",
    "logger2.warning('Warning message')"
   ]
  },
  {
   "cell_type": "markdown",
   "id": "8618dfb9",
   "metadata": {},
   "source": [
    "# Sample Code to update logs directly in SQLLite"
   ]
  },
  {
   "cell_type": "code",
   "execution_count": null,
   "id": "e63bcfb2",
   "metadata": {},
   "outputs": [],
   "source": [
    "import sqlite3\n",
    "import logging\n",
    "import logging.handlers\n",
    "\n",
    "# Step 1: Set up the logging configuration to direct log records to the SQLite database.\n",
    "# SQLite database path\n",
    "db_path = 'log_database.db'\n",
    "\n",
    "# SQLite table name to store log records\n",
    "table_name = 'log_records'\n",
    "\n",
    "# Set up the logging\n",
    "logger = logging.getLogger('my_logger')\n",
    "logger.setLevel(logging.DEBUG)\n",
    "\n",
    "# Create a database handler to store log records in SQLite\n",
    "db_handler = logging.handlers.SQLiteHandler(db_path, table_name)\n",
    "formatter = logging.Formatter('%(asctime)s - %(levelname)s - %(message)s')\n",
    "db_handler.setFormatter(formatter)\n",
    "\n",
    "# Add the database handler to the logger\n",
    "logger.addHandler(db_handler)\n",
    "\n",
    "# Step 2: Create an SQLite database table to store the log records.\n",
    "# Note: You may want to execute this only once when setting up the database initially.\n",
    "# If the table already exists, this will raise an error, so you should handle it appropriately.\n",
    "with sqlite3.connect(db_path) as conn:\n",
    "    cursor = conn.cursor()\n",
    "    cursor.execute(f\"CREATE TABLE IF NOT EXISTS {table_name} \"\n",
    "                   \"(id INTEGER PRIMARY KEY, level TEXT, message TEXT, created_at TIMESTAMP)\")\n",
    "\n",
    "# Step 3: Customize the log format if needed (this is optional).\n",
    "\n",
    "# Step 4: Log messages using the logging module.\n",
    "logger.debug('This is a debug message.')\n",
    "logger.info('This is an info message.')\n",
    "logger.warning('This is a warning message.')\n",
    "logger.error('This is an error message.')\n",
    "logger.critical('This is a critical message.')"
   ]
  }
 ],
 "metadata": {
  "hide_input": false,
  "kernelspec": {
   "display_name": "Python 3 (ipykernel)",
   "language": "python",
   "name": "python3"
  },
  "language_info": {
   "codemirror_mode": {
    "name": "ipython",
    "version": 3
   },
   "file_extension": ".py",
   "mimetype": "text/x-python",
   "name": "python",
   "nbconvert_exporter": "python",
   "pygments_lexer": "ipython3",
   "version": "3.9.13"
  },
  "toc": {
   "base_numbering": 1,
   "nav_menu": {},
   "number_sections": true,
   "sideBar": true,
   "skip_h1_title": false,
   "title_cell": "Table of Contents",
   "title_sidebar": "Contents",
   "toc_cell": false,
   "toc_position": {
    "height": "calc(100% - 180px)",
    "left": "10px",
    "top": "150px",
    "width": "384px"
   },
   "toc_section_display": true,
   "toc_window_display": true
  }
 },
 "nbformat": 4,
 "nbformat_minor": 5
}
